{
 "cells": [
  {
   "cell_type": "code",
   "execution_count": 1,
   "metadata": {},
   "outputs": [],
   "source": [
    "import ctypes"
   ]
  },
  {
   "cell_type": "code",
   "execution_count": 2,
   "metadata": {},
   "outputs": [],
   "source": [
    "## library produced by the c++ compilation of a simple wrapper around the output of stanc blackbody.stanfuncs\n",
    "dll = ctypes.cdll.LoadLibrary(\"./blackbody.dylib\")"
   ]
  },
  {
   "cell_type": "code",
   "execution_count": 3,
   "metadata": {},
   "outputs": [],
   "source": [
    "dll.greybody.argtypes = [ctypes.POINTER(ctypes.c_double), ctypes.POINTER(ctypes.c_double), ctypes.POINTER(ctypes.c_double)]\n",
    "dll.greybody.restype = ctypes.c_double"
   ]
  },
  {
   "cell_type": "code",
   "execution_count": 4,
   "metadata": {},
   "outputs": [
    {
     "name": "stdout",
     "output_type": "stream",
     "text": [
      "5.376549262684543 5.376549262684543\n"
     ]
    }
   ],
   "source": [
    "beta = ctypes.c_double(2.0)\n",
    "T=ctypes.c_double(30.0)\n",
    "nu=ctypes.c_double(2000.0)\n",
    "hmmm1 = dll.greybody(ctypes.byref(beta), ctypes.byref(T), ctypes.byref(nu))\n",
    "hmmm2 = dll.greybody(beta, T, nu)\n",
    "print(hmmm1, hmmm2)"
   ]
  },
  {
   "cell_type": "code",
   "execution_count": 5,
   "metadata": {},
   "outputs": [],
   "source": [
    "def greybody_stan(beta, T, nu):\n",
    "\n",
    "    ### ctypes.byref not really needed since we have POINTER in the argtypes\n",
    "    T_stan = ctypes.byref(ctypes.c_double(T))\n",
    "    nu_stan = ctypes.byref(ctypes.c_double(nu))\n",
    "    beta_stan = ctypes.byref(ctypes.c_double(beta))\n",
    "    \n",
    "    return dll.greybody(beta_stan, T_stan, nu_stan)\n"
   ]
  },
  {
   "cell_type": "code",
   "execution_count": 6,
   "metadata": {},
   "outputs": [],
   "source": [
    "import math\n",
    "def greybody_py(beta, T, nu):\n",
    "          # greybody, normalized to unit flux at nu=nu_0\n",
    "    h_over_k = 0.04799237       #  K/Ghz\n",
    "    nu_bar = 1000\n",
    "            \n",
    "    x = h_over_k * nu / T\n",
    "    x_bar = h_over_k * nu_bar / T\n",
    "            \n",
    "    return (math.pow(nu/nu_bar, 3+beta) * math.expm1(x_bar) / math.expm1(x));\n",
    "    "
   ]
  },
  {
   "cell_type": "code",
   "execution_count": 7,
   "metadata": {},
   "outputs": [
    {
     "data": {
      "text/plain": [
       "True"
      ]
     },
     "execution_count": 7,
     "metadata": {},
     "output_type": "execute_result"
    }
   ],
   "source": [
    "greybody_py(2, 30, 2000) == greybody_stan(2, 30, 2000)"
   ]
  }
 ],
 "metadata": {
  "kernelspec": {
   "display_name": "Python 3",
   "language": "python",
   "name": "python3"
  },
  "language_info": {
   "codemirror_mode": {
    "name": "ipython",
    "version": 3
   },
   "file_extension": ".py",
   "mimetype": "text/x-python",
   "name": "python",
   "nbconvert_exporter": "python",
   "pygments_lexer": "ipython3",
   "version": "3.6.3"
  }
 },
 "nbformat": 4,
 "nbformat_minor": 2
}
