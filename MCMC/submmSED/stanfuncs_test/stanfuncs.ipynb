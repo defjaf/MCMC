{
 "cells": [
  {
   "cell_type": "code",
   "execution_count": 1,
   "metadata": {},
   "outputs": [],
   "source": [
    "import ctypes as ct\n",
    "import numpy as np"
   ]
  },
  {
   "cell_type": "code",
   "execution_count": 2,
   "metadata": {},
   "outputs": [],
   "source": [
    "## library produced by the c++ compilation of a simple wrapper around the output of stanc blackbody.stanfuncs\n",
    "dll = ct.cdll.LoadLibrary(\"./blackbody.dylib\")"
   ]
  },
  {
   "cell_type": "code",
   "execution_count": 3,
   "metadata": {},
   "outputs": [],
   "source": [
    "dll.greybody.argtypes = [ct.POINTER(ct.c_double), ct.POINTER(ct.c_double), ct.POINTER(ct.c_double)]\n",
    "dll.greybody.restype = ct.c_double"
   ]
  },
  {
   "cell_type": "code",
   "execution_count": 4,
   "metadata": {},
   "outputs": [
    {
     "name": "stdout",
     "output_type": "stream",
     "text": [
      "5.376549262684543 5.376549262684543\n"
     ]
    }
   ],
   "source": [
    "beta = ct.c_double(2.0)\n",
    "T=ct.c_double(30.0)\n",
    "nu=ct.c_double(2000.0)\n",
    "hmmm1 = dll.greybody(ct.byref(beta), ct.byref(T), ct.byref(nu))\n",
    "hmmm2 = dll.greybody(beta, T, nu)\n",
    "print(hmmm1, hmmm2)"
   ]
  },
  {
   "cell_type": "code",
   "execution_count": 5,
   "metadata": {},
   "outputs": [],
   "source": [
    "def greybody_stan(beta, T, nu):\n",
    "\n",
    "    ### ctypes.byref not really needed since we have POINTER in the argtypes\n",
    "    T_stan = ct.byref(ct.c_double(T))\n",
    "    nu_stan = ct.byref(ct.c_double(nu))\n",
    "    beta_stan = ct.byref(ct.c_double(beta))\n",
    "    \n",
    "    return dll.greybody(beta_stan, T_stan, nu_stan)\n"
   ]
  },
  {
   "cell_type": "code",
   "execution_count": 6,
   "metadata": {},
   "outputs": [],
   "source": [
    "import math\n",
    "def greybody_py(beta, T, nu):\n",
    "          # greybody, normalized to unit flux at nu=nu_0\n",
    "    h_over_k = 0.04799237       #  K/Ghz\n",
    "    nu_bar = 1000\n",
    "            \n",
    "    x = h_over_k * nu / T\n",
    "    x_bar = h_over_k * nu_bar / T\n",
    "            \n",
    "    return (math.pow(nu/nu_bar, 3+beta) * math.expm1(x_bar) / math.expm1(x));\n",
    "    "
   ]
  },
  {
   "cell_type": "code",
   "execution_count": 7,
   "metadata": {},
   "outputs": [
    {
     "data": {
      "text/plain": [
       "True"
      ]
     },
     "execution_count": 7,
     "metadata": {},
     "output_type": "execute_result"
    }
   ],
   "source": [
    "greybody_py(2, 30, 2000) == greybody_stan(2, 30, 2000)"
   ]
  },
  {
   "cell_type": "code",
   "execution_count": 8,
   "metadata": {},
   "outputs": [],
   "source": [
    "dllf = ct.cdll.LoadLibrary(\"./foo.dylib\")"
   ]
  },
  {
   "cell_type": "code",
   "execution_count": 9,
   "metadata": {},
   "outputs": [
    {
     "data": {
      "text/plain": [
       "{'_FuncPtr': ctypes.CDLL.__init__.<locals>._FuncPtr,\n",
       " '_handle': 4415529072,\n",
       " '_name': './foo.dylib'}"
      ]
     },
     "execution_count": 9,
     "metadata": {},
     "output_type": "execute_result"
    }
   ],
   "source": [
    "dllf.__dict__"
   ]
  },
  {
   "cell_type": "code",
   "execution_count": 10,
   "metadata": {},
   "outputs": [
    {
     "data": {
      "text/plain": [
       "{'_FuncPtr': ctypes.CDLL.__init__.<locals>._FuncPtr,\n",
       " '_handle': 4565709840,\n",
       " '_name': './blackbody.dylib',\n",
       " 'greybody': <_FuncPtr object at 0x11109ee58>}"
      ]
     },
     "execution_count": 10,
     "metadata": {},
     "output_type": "execute_result"
    }
   ],
   "source": [
    "dll.__dict__"
   ]
  },
  {
   "cell_type": "code",
   "execution_count": 11,
   "metadata": {},
   "outputs": [
    {
     "data": {
      "text/plain": [
       "<_FuncPtr object at 0x11109ee58>"
      ]
     },
     "execution_count": 11,
     "metadata": {},
     "output_type": "execute_result"
    }
   ],
   "source": [
    "dll.greybody"
   ]
  },
  {
   "cell_type": "code",
   "execution_count": 13,
   "metadata": {},
   "outputs": [
    {
     "data": {
      "text/plain": [
       "<_FuncPtr object at 0x11109ec00>"
      ]
     },
     "execution_count": 13,
     "metadata": {},
     "output_type": "execute_result"
    }
   ],
   "source": [
    "dllf.foo"
   ]
  },
  {
   "cell_type": "code",
   "execution_count": 14,
   "metadata": {},
   "outputs": [
    {
     "data": {
      "text/plain": [
       "{'_FuncPtr': ctypes.CDLL.__init__.<locals>._FuncPtr,\n",
       " '_handle': 4415529072,\n",
       " '_name': './foo.dylib',\n",
       " 'foo': <_FuncPtr object at 0x11109ec00>}"
      ]
     },
     "execution_count": 14,
     "metadata": {},
     "output_type": "execute_result"
    }
   ],
   "source": [
    "dllf.__dict__"
   ]
  },
  {
   "cell_type": "code",
   "execution_count": null,
   "metadata": {},
   "outputs": [],
   "source": []
  }
 ],
 "metadata": {
  "kernelspec": {
   "display_name": "Python 3",
   "language": "python",
   "name": "python3"
  },
  "language_info": {
   "codemirror_mode": {
    "name": "ipython",
    "version": 3
   },
   "file_extension": ".py",
   "mimetype": "text/x-python",
   "name": "python",
   "nbconvert_exporter": "python",
   "pygments_lexer": "ipython3",
   "version": "3.6.3"
  },
  "latex_envs": {
   "LaTeX_envs_menu_present": true,
   "autocomplete": true,
   "bibliofile": "biblio.bib",
   "cite_by": "apalike",
   "current_citInitial": 1,
   "eqLabelWithNumbers": true,
   "eqNumInitial": 1,
   "hotkeys": {
    "equation": "Ctrl-E",
    "itemize": "Ctrl-I"
   },
   "labels_anchors": false,
   "latex_user_defs": false,
   "report_style_numbering": false,
   "user_envs_cfg": false
  }
 },
 "nbformat": 4,
 "nbformat_minor": 2
}
