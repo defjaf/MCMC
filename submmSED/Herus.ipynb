{
 "cells": [
  {
   "cell_type": "code",
   "execution_count": 23,
   "metadata": {
    "collapsed": false
   },
   "outputs": [
    {
     "data": {
      "text/plain": [
       "[0, 1, 2, 3]"
      ]
     },
     "execution_count": 23,
     "metadata": {},
     "output_type": "execute_result"
    }
   ],
   "source": [
    "# from IPython import parallel\n",
    "# rc = parallel.Client()\n",
    "# dv = rc[:]\n",
    "# rc.ids"
   ]
  },
  {
   "cell_type": "code",
   "execution_count": 1,
   "metadata": {
    "collapsed": false
   },
   "outputs": [
    {
     "name": "stdout",
     "output_type": "stream",
     "text": [
      "min Temp = 3.000000 K; max Temp = 100.000000 K\n",
      "python version of blackbody\n"
     ]
    }
   ],
   "source": [
    "#%%px --local \n",
    "import os\n",
    "import sys\n",
    "sys.path.append(os.environ['HOME']+'/home/proj/stats/MCMC')\n",
    "os.environ['PYTHONPATH'] = os.environ['HOME']+'/home/proj/stats/MCMC'\n",
    "\n",
    "import csv\n",
    "\n",
    "import matplotlib.pyplot as plt\n",
    "import numpy as np\n",
    "import scipy as sp\n",
    "\n",
    "#%matplotlib inline\n",
    "import model\n",
    "import driver\n",
    "import data"
   ]
  },
  {
   "cell_type": "code",
   "execution_count": 4,
   "metadata": {
    "collapsed": false
   },
   "outputs": [],
   "source": [
    "### read the file of fluxes and errors\n",
    "### could make a numpy record array instead of separate ones for name, z, err, flux?\n",
    "### nb. this version has the same length for each row\n",
    "\n",
    "herus_file = \"herus_phot.csv\"\n",
    "herus_file = \"herus_phot_csv.csv\"\n",
    "\n",
    "\n",
    "speed_of_light = 299792.458 ### micron GHz\n",
    "\n",
    "def toFloat(s):\n",
    "    return np.float(s) if s!='' else np.nan\n",
    "\n",
    "names = []\n",
    "zarr = []\n",
    "fluxes = []\n",
    "errs = []\n",
    "with open(herus_file, \"rb\") as csvfile:\n",
    "    hreader = csv.reader(csvfile)\n",
    "    headers = hreader.next()\n",
    "    ncol = len(headers)\n",
    "    name_column = headers=='Name'\n",
    "    z_column = headers=='Redshift'\n",
    "    flux_columns = [i for i in range(ncol) if headers[i].startswith('F')]\n",
    "    err_columns = [i for i in range(ncol) if headers[i].startswith('E')]\n",
    "    lambdas = speed_of_light/np.array([float(headers[i].split('_')[0][1:]) for i in flux_columns])  ### lambda in um\n",
    "    lambdas_err = speed_of_light/np.array([float(headers[i].split('_')[0][1:]) for i in flux_columns])\n",
    "    assert(np.all(lambdas==lambdas_err))   ### check correct order\n",
    "    \n",
    "    for row in hreader:\n",
    "        names.append(row[name_column])\n",
    "        zarr.append(row[z_column])\n",
    "        fluxes.append([toFloat(row[c]) for c in flux_columns])\n",
    "        errs.append([toFloat(row[c]) for c in err_columns])\n"
   ]
  },
  {
   "cell_type": "code",
   "execution_count": 32,
   "metadata": {
    "collapsed": false
   },
   "outputs": [],
   "source": [
    "### read the file of fluxes and errors\n",
    "### could make a numpy record array instead of separate ones for name, z, err, flux?\n",
    "### nb. this version deletes nonexistent entries, but puts err=np.nan if there is a flux but no entry\n",
    "#### used in driver.py: readfluxes_DLC_2014\n",
    "import re\n",
    "Epat = r'^E\\d+_'\n",
    "Fpat = r'^F\\d+_'\n",
    "UL25 = True\n",
    "fluxes = []\n",
    "errs = []\n",
    "names = []\n",
    "zarr = []\n",
    "with open(herus_file, \"rb\") as csvfile:\n",
    "    hreader = csv.reader(csvfile)\n",
    "    headers = np.array(hreader.next())\n",
    "    ncol = len(headers)\n",
    "    name_column = np.where(headers=='Name')[0][0]\n",
    "    z_column = np.where(headers=='Redshift')[0][0]\n",
    "    flux_columns = np.array([i for i in range(ncol) if re.match(Fpat, headers[i])])\n",
    "    err_columns = np.array([i for i in range(ncol) if re.match(Epat, headers[i])])\n",
    "    assert np.all(err_columns == flux_columns+1)\n",
    "\n",
    "    lambda_obs = np.array([float(headers[i].split('_')[0][1:]) for i in flux_columns])  ### Freq in GHz\n",
    "    lambda_err = np.array([float(headers[i].split('_')[0][1:]) for i in flux_columns])\n",
    "    assert(np.all(lambda_obs==lambda_err))   ### check correct order\n",
    "    \n",
    "    for row in hreader:\n",
    "        row = np.asarray(row)\n",
    "        if np.all(row==''): continue  ## ignore blank lines\n",
    "        z = np.float(row[z_column])\n",
    "        dat = zip(row[flux_columns], row[err_columns], lambda_obs)\n",
    "        dat_compressed = np.array([[np.float(f), toFloat(e), l] for f,e,l in dat if f!=''])\n",
    "        #flux = np.array([np.float(c) for c in row[flux_columns] if c!=''])\n",
    "        #err = np.array([np.float(c) for c in row[err_columns] if c!=''])\n",
    "        flux = np.array(dat_compressed[:,0])\n",
    "        sig = np.array(dat_compressed[:,1])\n",
    "        lambda_obs_1 = np.array(dat_compressed[:,2])\n",
    "        \n",
    "        nu_obs = speed_of_light/lambda_obs_1\n",
    "        if UL25:\n",
    "            l25 = np.where(np.round(lambda_obs_1)==25)[0]\n",
    "            if l25:\n",
    "                sig[l25] = flux[l25]\n",
    "                flux[l25] = 0\n",
    "\n",
    "        nu_rest = nu_obs*(1+z)\n",
    "\n",
    "        names.append(row[name_column])\n",
    "        zarr.append(z)\n",
    "        fluxes.append(flux)\n",
    "        errs.append(sig)\n",
    "\n",
    "elens = [len(e) for e in errs]\n"
   ]
  },
  {
   "cell_type": "code",
   "execution_count": 33,
   "metadata": {
    "collapsed": false
   },
   "outputs": [
    {
     "name": "stdout",
     "output_type": "stream",
     "text": [
      "['IRAS00188-0856', 'IRAS00397-1312', 'IRAS01003-2238', 'IRAS03158+4227', 'IRAS03521+0028', 'IRAS05189-2524', 'IRAS06035-7102', 'IRAS06206-6315', 'IRAS07598+6508', 'IRAS08311-2459', 'IRAS08572+3915', 'IRAS09022-3615', 'IRAS10378+1109', 'IRAS10565+2448', 'IRAS11095-0238', 'IRAS12071-0444', 'IRAS13120-5453', 'IRAS13451+1232', 'IRAS14348-1447', 'IRAS14378-3651', 'IRAS15250+3609', 'IRAS15462-0450', 'IRAS16090-0139', 'IRAS17208-0014', 'IRAS19254-7245', 'IRAS19297-0406', 'IRAS20087-0308', 'IRAS20100-4156', 'IRAS20414-1651', 'IRAS20551-4250', 'IRAS22491-1808', 'IRAS23128-5919', 'IRAS23230-6926', 'IRAS23253-5415', 'IRAS23365+3604', 'Mrk1014', 'UGC5101', '3C273', 'Mrk231', 'Mrk273', 'Mrk463', 'Arp220-short', 'NGC6240', 'Arp220']\n",
      "Arp220-short [  85.64651107   76.28        123.71         30.4137       12.0643\n",
      "    4.1448      103.8         112.4           0.832         6.286     ] 0.018\n",
      "Arp220 [  30.1     11.7      3.9      2.2      4.3      7.6     12.2     18.4\n",
      "   24.4     32.2     39.7     50.9    120.9    134.2    148.1    151.4\n",
      "  118.4    100.2     84.5     77.1      0.     104.1    115.3      6.29\n",
      "    0.832    0.35     0.226] 0.018\n"
     ]
    }
   ],
   "source": [
    "reload(data)\n",
    "d = data.readfluxes_DLC_2014(filename=herus_file)\n",
    "d1 = d[1]\n",
    "print [di.name for di in d]\n",
    "print d[-3].name, d[-3].d, d[-3].z\n",
    "print d[-1].name, d[-1].d, d[-1].z"
   ]
  },
  {
   "cell_type": "code",
   "execution_count": 2,
   "metadata": {
    "collapsed": true
   },
   "outputs": [
    {
     "name": "stderr",
     "output_type": "stream",
     "text": [
      "/Volumes/Data/Users/jaffe/Library/Python/2.7/lib/python/site-packages/matplotlib-1.3.1-py2.7-macosx-10.6-intel.egg/matplotlib/__init__.py:1155: UserWarning:  This call to matplotlib.use() has no effect\n",
      "because the backend has already been chosen;\n",
      "matplotlib.use() must be called *before* pylab, matplotlib.pyplot,\n",
      "or matplotlib.backends is imported for the first time.\n",
      "\n",
      "  warnings.warn(_use_error_msg)\n"
     ]
    },
    {
     "name": "stdout",
     "output_type": "stream",
     "text": [
      "normal behaviour\n",
      "filename: ./herus_phot.csv\n",
      "fig dir: ./figs_DLC_2014_2/\n",
      "out dir: ./out_DLC_2014_2/\n",
      "data range None\n",
      "DLC_UL = 1\n",
      "format = 0\n",
      "filetype = DLC_2014\n",
      "which= [3, 2, 1, 0]\n",
      "Using file ./herus_phot.csv\n",
      "keywords: {'random': True, 'randomrestart': True, 'filetype': 'DLC_2014', 'format': 0, 'DLC_ul': True}\n",
      "Two-Component beta = 2\n",
      "Object[s] IRAS00188-0856(z=0.128)\n",
      "done with chain 0. naccept=9368 (0.624492)"
     ]
    },
    {
     "name": "stderr",
     "output_type": "stream",
     "text": [
      "100% |########################################################################|\n",
      "100% |########################################################################|\n"
     ]
    },
    {
     "name": "stdout",
     "output_type": "stream",
     "text": [
      "\n",
      "per block:  [2481 2501 1864    4 2501   22]\n",
      "done with chain 1. naccept=207779 (0.692594)\n",
      "per block:  [50000 50001 40800  2573 50001 14409]\n",
      "chi2 at max = 23.959789\n",
      "Max ln likelihood -11.979895 at parameters:\n",
      "[ -4.06286082e+04   2.00000000e+00   5.07408935e+00   1.19166173e-01\n",
      "   2.00000000e+00   3.16992381e+01]\n",
      "            \\log A_1 mean = -34964.4 +- 15704.2\n",
      "                 T_1 mean = 17.1866 +- 8.25366\n",
      "            \\log A_2 mean = 0.121946 +- 0.0226082\n",
      "                 T_2 mean = 31.6239 +- 0.682885\n",
      "ln Pr of mean = -12.010634\n",
      "chi2(mean) = 24.021268\n",
      "Object[s] IRAS00397-1312(z=0.262)"
     ]
    },
    {
     "name": "stderr",
     "output_type": "stream",
     "text": [
      "100% |########################################################################|\n"
     ]
    },
    {
     "name": "stdout",
     "output_type": "stream",
     "text": [
      "\n",
      "done with chain 0. naccept=9182 (0.612093)"
     ]
    },
    {
     "name": "stderr",
     "output_type": "stream",
     "text": [
      "100% |########################################################################|\n",
      "100% |########################################################################|\n"
     ]
    },
    {
     "name": "stdout",
     "output_type": "stream",
     "text": [
      "\n",
      "per block:  [2459 2501 1688    6 2501   32]\n",
      "done with chain 1. naccept=218466 (0.728218)\n",
      "per block:  [49756 50001 43959  3424 50001 21330]\n",
      "chi2 at max = 11.765224\n",
      "Max ln likelihood -5.882612 at parameters:\n",
      "[ -1.23900439e+03   2.00000000e+00   3.94575390e+01  -6.49895809e-01\n",
      "   2.00000000e+00   4.21538594e+01]\n",
      "            \\log A_1 mean = -1683.74 +- 1334.84\n",
      "                 T_1 mean = 22.3547 +- 11.3728\n",
      "            \\log A_2 mean = -0.639995 +- 0.0676094\n",
      "                 T_2 mean = 41.829 +- 2.18748\n",
      "ln Pr of mean = -6.278784\n",
      "chi2(mean) = 12.557568\n",
      "Object[s] IRAS01003-2238(z=0.118)"
     ]
    },
    {
     "name": "stderr",
     "output_type": "stream",
     "text": [
      "100% |########################################################################|\n"
     ]
    },
    {
     "name": "stdout",
     "output_type": "stream",
     "text": [
      "\n",
      "Number of prior resamples: 2\n",
      "done with chain 0. naccept=8895 (0.592960)"
     ]
    },
    {
     "name": "stderr",
     "output_type": "stream",
     "text": [
      "100% |########################################################################|\n",
      "100% |########################################################################|\n",
      "model.py:418: RuntimeWarning: overflow encountered in double_scalars\n",
      "  self.A1 = 10.0**logA1\n"
     ]
    },
    {
     "name": "stdout",
     "output_type": "stream",
     "text": [
      "\n",
      "per block:  [2487 2501 1357    9 2501   45]\n",
      "done with chain 1. naccept=238061 (0.793534)\n",
      "per block:  [49984 50001 46484 12807 50001 28789]\n",
      "chi2 at max = 2.769111\n",
      "Max ln likelihood -1.384555 at parameters:\n",
      "[ -1.56484819e+04   2.00000000e+00   6.79910227e+00  -7.85932688e-01\n",
      "   2.00000000e+00   4.47821119e+01]\n",
      "            \\log A_1 mean = -30302.9 +- 15069.3\n",
      "                 T_1 mean = 23.8868 +- 12.1868\n",
      "            \\log A_2 mean = -0.778126 +- 0.0855283\n",
      "                 T_2 mean = 44.5541 +- 2.53135\n",
      "ln Pr of mean = -1.545912\n",
      "chi2(mean) = 3.091823\n",
      "Object[s] IRAS03158+4227(z=0.134)"
     ]
    },
    {
     "name": "stderr",
     "output_type": "stream",
     "text": [
      "100% |########################################################################|\n"
     ]
    },
    {
     "name": "stdout",
     "output_type": "stream",
     "text": [
      "\n",
      "Number of prior resamples: 4\n",
      "done with chain 0. naccept=9226 (0.615026)"
     ]
    },
    {
     "name": "stderr",
     "output_type": "stream",
     "text": [
      "100% |########################################################################|\n",
      "100% |########################################################################|\n"
     ]
    },
    {
     "name": "stdout",
     "output_type": "stream",
     "text": [
      "\n",
      "per block:  [2426 2501 1782    4 2501   17]\n",
      "done with chain 1. naccept=203696 (0.678984)\n",
      "per block:  [49913 50001 40892  1212 50001 11682]\n",
      "chi2 at max = 59.010939\n",
      "Max ln likelihood -29.505469 at parameters:\n",
      "[  2.37107799   2.           4.00573161   0.22847934   2.          29.5947392 ]\n",
      "            \\log A_1 mean = -3554.93 +- 1978.08\n",
      "                 T_1 mean = 16.639 +- 7.8928\n",
      "            \\log A_2 mean = 0.206497 +- 0.0526162\n",
      "                 T_2 mean = 30.2551 +- 1.42593\n",
      "ln Pr of mean = -32.363925\n",
      "chi2(mean) = 64.727850\n",
      "Object[s] IRAS03521+0028(z=0.152)"
     ]
    },
    {
     "name": "stderr",
     "output_type": "stream",
     "text": [
      "100% |########################################################################|\n"
     ]
    },
    {
     "name": "stdout",
     "output_type": "stream",
     "text": [
      "\n",
      "done with chain 0. naccept=6114 (0.407573)"
     ]
    },
    {
     "name": "stderr",
     "output_type": "stream",
     "text": [
      "100% |########################################################################|\n",
      "100% |########################################################################|\n"
     ]
    },
    {
     "name": "stdout",
     "output_type": "stream",
     "text": [
      "\n",
      "per block:  [ 520 2501  538   10 2501   49]\n",
      "done with chain 1. naccept=109709 (0.365695)\n",
      "per block:  [  150 50001  2012  2356 50001  5194]\n",
      "chi2 at max = 0.048680\n",
      "Max ln likelihood -0.024340 at parameters:\n",
      "[  0.45554599   2.          11.48875304  -0.22073338   2.          37.94324776]\n",
      "            \\log A_1 mean = 0.837742 +- 1.78488\n",
      "                 T_1 mean = 9.33573 +- 2.56505\n",
      "            \\log A_2 mean = -0.192058 +- 0.0343816\n",
      "                 T_2 mean = 37.3166 +- 0.89349\n",
      "ln Pr of mean = -3.619827\n",
      "chi2(mean) = 7.239653\n",
      "Object[s] IRAS05189-2524(z=0.043)"
     ]
    },
    {
     "name": "stderr",
     "output_type": "stream",
     "text": [
      "100% |########################################################################|\n"
     ]
    },
    {
     "name": "stdout",
     "output_type": "stream",
     "text": [
      "\n",
      "Number of prior resamples: 424\n",
      "done with chain 0. naccept=7208 (0.480501)"
     ]
    },
    {
     "name": "stderr",
     "output_type": "stream",
     "text": [
      "\n",
      "100% |########################################################################|\n"
     ]
    },
    {
     "name": "stdout",
     "output_type": "stream",
     "text": [
      "\n",
      "per block:  [  13 2501   22 1125 2501 1051]\n",
      "done with chain 1. naccept=101006 (0.336686)\n",
      "per block:  [   89 50001   336   153 50001   431]\n",
      "chi2 at max = 175.558362\n",
      "Max ln likelihood -87.779181 at parameters:\n",
      "[  0.45909783   2.          34.5180921   -1.81296539   2.          99.99246169]\n",
      "            \\log A_1 mean = 0.458425 +- 0.0550784\n",
      "                 T_1 mean = 34.5948 +- 1.08098\n",
      "            \\log A_2 mean = -2.41368 +- 11.9224\n",
      "                 T_2 mean = 99.6781 +- 2.51256\n",
      "ln Pr of mean = -9186.404079\n",
      "chi2(mean) = 18372.808157\n",
      "Object[s] IRAS06035-7102(z=0.079)"
     ]
    },
    {
     "name": "stderr",
     "output_type": "stream",
     "text": [
      "100% |########################################################################|\n"
     ]
    },
    {
     "name": "stdout",
     "output_type": "stream",
     "text": [
      "\n",
      "done with chain 0. naccept=5123 (0.341511)"
     ]
    },
    {
     "name": "stderr",
     "output_type": "stream",
     "text": [
      "100% |########################################################################|\n",
      "100% |########################################################################|\n"
     ]
    },
    {
     "name": "stdout",
     "output_type": "stream",
     "text": [
      "\n",
      "per block:  [   7 2501   36   24 2501   59]\n",
      "done with chain 1. naccept=107878 (0.359592)\n",
      "per block:  [  676 50001  1519   576 50001  5110]\n",
      "chi2 at max = 43.909930\n",
      "Max ln likelihood -21.954965 at parameters:\n",
      "[  0.1942254    2.          33.11739095  -1.43970346   2.          60.29891836]\n",
      "            \\log A_1 mean = 0.188489 +- 0.0113324\n",
      "                 T_1 mean = 33.2431 +- 0.393601\n",
      "            \\log A_2 mean = -1.38337 +- 0.0954063\n",
      "                 T_2 mean = 58.4024 +- 3.33778\n",
      "ln Pr of mean = -22.253397\n",
      "chi2(mean) = 44.506794\n",
      "Object[s] IRAS06206-6315(z=0.092)"
     ]
    },
    {
     "name": "stderr",
     "output_type": "stream",
     "text": [
      "100% |########################################################################|\n"
     ]
    },
    {
     "name": "stdout",
     "output_type": "stream",
     "text": [
      "\n",
      "Number of prior resamples: 3\n",
      "done with chain 0. naccept=8325 (0.554963)"
     ]
    },
    {
     "name": "stderr",
     "output_type": "stream",
     "text": [
      "100% |########################################################################|\n",
      "100% |########################################################################|\n"
     ]
    },
    {
     "name": "stdout",
     "output_type": "stream",
     "text": [
      "\n",
      "per block:  [2441 2501  823   26 2501   38]\n",
      "Number of prior resamples: 3\n",
      "done with chain 1. naccept=197263 (0.657541)\n",
      "per block:  [49863 50001 45936   242 50001  1225]\n",
      "chi2 at max = 101.607974\n",
      "Max ln likelihood -50.803987 at parameters:\n",
      "[ -1.17802230e+04   2.00000000e+00   1.78635667e+01   2.57409837e-01\n",
      "   2.00000000e+00   3.34608583e+01]\n",
      "            \\log A_1 mean = -4133.2 +- 3318.24\n",
      "                 T_1 mean = 15.2608 +- 7.7978\n",
      "            \\log A_2 mean = 0.496453 +- 0.272831\n",
      "                 T_2 mean = 27.6542 +- 5.66637\n",
      "ln Pr of mean = -947.559778\n",
      "chi2(mean) = 1895.119557\n",
      "Object[s] IRAS07598+6508(z=0.148)"
     ]
    },
    {
     "name": "stderr",
     "output_type": "stream",
     "text": [
      "100% |########################################################################|\n"
     ]
    },
    {
     "name": "stdout",
     "output_type": "stream",
     "text": [
      "\n",
      "done with chain 0. naccept=5471 (0.364709)"
     ]
    },
    {
     "name": "stderr",
     "output_type": "stream",
     "text": [
      "100% |########################################################################|\n",
      "100% |########################################################################|\n"
     ]
    },
    {
     "name": "stdout",
     "output_type": "stream",
     "text": [
      "\n",
      "per block:  [  14 2501   36   13 2501  411]\n",
      "done with chain 1. naccept=127726 (0.425752)\n",
      "per block:  [  958 50001  7720  9803 50001  9248]\n",
      "chi2 at max = 2.165250\n",
      "Max ln likelihood -1.082625 at parameters:\n",
      "[ -0.07622128   2.          28.65600694  -1.86019694   2.          65.85815035]\n",
      "            \\log A_1 mean = -0.0807242 +- 0.0493463\n",
      "                 T_1 mean = 26.8921 +- 1.73901\n",
      "            \\log A_2 mean = -1.37626 +- 0.467616\n",
      "                 T_2 mean = 55.0866 +- 11.5278\n",
      "ln Pr of mean = -27.550324\n",
      "chi2(mean) = 55.100649\n",
      "Object[s] IRAS08311-2459(z=0.100)"
     ]
    },
    {
     "name": "stderr",
     "output_type": "stream",
     "text": [
      "100% |########################################################################|\n"
     ]
    },
    {
     "name": "stdout",
     "output_type": "stream",
     "text": [
      "\n",
      "Number of prior resamples: 3\n",
      "done with chain 0. naccept=5406 (0.360376)"
     ]
    },
    {
     "name": "stderr",
     "output_type": "stream",
     "text": [
      "\n",
      "100% |########################################################################|\n"
     ]
    },
    {
     "name": "stdout",
     "output_type": "stream",
     "text": [
      "\n",
      "per block:  [ 145 2501  149    8 2501  107]\n",
      "done with chain 1. naccept=104524 (0.348412)\n",
      "per block:  [  217 50001  2543   931 50001   836]\n",
      "chi2 at max = 7.194810\n",
      "Max ln likelihood -3.597405 at parameters:\n",
      "[  0.10673077   2.          16.02562844   0.13332427   2.          36.18519014]\n",
      "            \\log A_1 mean = 0.118434 +- 0.681608\n",
      "                 T_1 mean = 15.3465 +- 2.7766\n",
      "            \\log A_2 mean = 0.13889 +- 0.0299805\n",
      "                 T_2 mean = 36.215 +- 0.98799\n",
      "ln Pr of mean = -3.921690\n",
      "chi2(mean) = 7.843380\n",
      "Object[s] IRAS08572+3915(z=0.058)"
     ]
    },
    {
     "name": "stderr",
     "output_type": "stream",
     "text": [
      "100% |########################################################################|\n"
     ]
    },
    {
     "name": "stdout",
     "output_type": "stream",
     "text": [
      "\n",
      "done with chain 0. naccept=9613 (0.640824)"
     ]
    },
    {
     "name": "stderr",
     "output_type": "stream",
     "text": [
      "100% |########################################################################|\n",
      "100% |########################################################################|\n"
     ]
    },
    {
     "name": "stdout",
     "output_type": "stream",
     "text": [
      "\n",
      "per block:  [2436 2501 2122   13 2501   45]\n",
      "done with chain 1. naccept=192305 (0.641015)\n",
      "per block:  [49998 50001 39863  1083 50001  1364]\n",
      "chi2 at max = 21.451469\n",
      "Max ln likelihood -10.725735 at parameters:\n",
      "[ -4.44300515e+03   2.00000000e+00   2.85528320e+01  -3.81975085e-01\n",
      "   2.00000000e+00   4.64408198e+01]\n",
      "            \\log A_1 mean = -4081.88 +- 1741.03\n",
      "                 T_1 mean = 24.6853 +- 12.5491\n",
      "            \\log A_2 mean = -0.38036 +- 0.00782476\n",
      "                 T_2 mean = 46.4055 +- 0.167568\n",
      "ln Pr of mean = -10.789686\n",
      "chi2(mean) = 21.579371\n",
      "Object[s] IRAS09022-3615(z=0.060)"
     ]
    },
    {
     "name": "stderr",
     "output_type": "stream",
     "text": [
      "100% |########################################################################|\n"
     ]
    },
    {
     "name": "stdout",
     "output_type": "stream",
     "text": [
      "\n",
      "done with chain 0. naccept=9039 (0.602560)"
     ]
    },
    {
     "name": "stderr",
     "output_type": "stream",
     "text": [
      "100% |########################################################################|\n",
      "100% |########################################################################|\n"
     ]
    },
    {
     "name": "stdout",
     "output_type": "stream",
     "text": [
      "\n",
      "per block:  [2469 2501 1536   13 2501   24]\n",
      "Number of prior resamples: 8\n",
      "done with chain 1. naccept=198370 (0.661231)\n",
      "per block:  [49874 50001 44558  1294 50001  2647]\n",
      "chi2 at max = 210.981112\n",
      "Max ln likelihood -105.490556 at parameters:\n",
      "[ -3.65421462   2.          31.53387442   0.51069118   2.          35.99613062]\n",
      "            \\log A_1 mean = -4980.63 +- 2973.57\n",
      "                 T_1 mean = 19.3348 +- 9.51802\n",
      "            \\log A_2 mean = 0.511288 +- 0.0148185\n",
      "                 T_2 mean = 35.9788 +- 0.438568\n",
      "ln Pr of mean = -105.585687\n",
      "chi2(mean) = 211.171373\n",
      "Object[s] IRAS10378+1109(z=0.136)"
     ]
    },
    {
     "name": "stderr",
     "output_type": "stream",
     "text": [
      "100% |########################################################################|\n"
     ]
    },
    {
     "name": "stdout",
     "output_type": "stream",
     "text": [
      "\n",
      "done with chain 0. naccept=5146 (0.343044)"
     ]
    },
    {
     "name": "stderr",
     "output_type": "stream",
     "text": [
      "100% |########################################################################|\n",
      "100% |########################################################################|\n"
     ]
    },
    {
     "name": "stdout",
     "output_type": "stream",
     "text": [
      "\n",
      "per block:  [  19 2501   27    5 2501   98]\n",
      "done with chain 1. naccept=146149 (0.487162)\n",
      "per block:  [ 4707 50001 16944  9124 50001 15377]\n",
      "chi2 at max = 25.871722\n",
      "Max ln likelihood -12.935861 at parameters:\n",
      "[ -0.14619246   2.          29.67650546  -1.5957861    2.          61.06087312]\n",
      "            \\log A_1 mean = -0.168571 +- 0.0665701\n",
      "                 T_1 mean = 28.894 +- 2.05608\n",
      "            \\log A_2 mean = -1.40597 +- 0.367867\n",
      "                 T_2 mean = 56.9678 +- 8.08352\n",
      "ln Pr of mean = -34.131969\n",
      "chi2(mean) = 68.263938\n",
      "Object[s] IRAS10565+2448(z=0.043)"
     ]
    },
    {
     "name": "stderr",
     "output_type": "stream",
     "text": [
      "100% |########################################################################|\n"
     ]
    },
    {
     "name": "stdout",
     "output_type": "stream",
     "text": [
      "\n",
      "done with chain 0. naccept=9447 (0.629758)"
     ]
    },
    {
     "name": "stderr",
     "output_type": "stream",
     "text": [
      "100% |########################################################################|\n",
      "100% |########################################################################|\n"
     ]
    },
    {
     "name": "stdout",
     "output_type": "stream",
     "text": [
      "\n",
      "per block:  [2498 2501 1927   10 2501   15]\n",
      "done with chain 1. naccept=103485 (0.344949)\n",
      "per block:  [  150 50001  1377   231 50001  1730]\n",
      "chi2 at max = 939.825795\n",
      "Max ln likelihood -469.912898 at parameters:\n",
      "[  0.40345568   2.          21.87610791   0.67771165   2.          34.07627479]\n",
      "            \\log A_1 mean = -0.597808 +- 18.6498\n",
      "                 T_1 mean = 20.8818 +- 0.893244\n",
      "            \\log A_2 mean = 0.713918 +- 0.0276301\n",
      "                 T_2 mean = 33.7103 +- 0.283023\n",
      "ln Pr of mean = -1671.755738\n",
      "chi2(mean) = 3343.511477\n",
      "Object[s] IRAS11095-0238(z=0.107)"
     ]
    },
    {
     "name": "stderr",
     "output_type": "stream",
     "text": [
      "100% |########################################################################|\n"
     ]
    },
    {
     "name": "stdout",
     "output_type": "stream",
     "text": [
      "\n",
      "done with chain 0. naccept=5213 (0.347510)"
     ]
    },
    {
     "name": "stderr",
     "output_type": "stream",
     "text": [
      "100% |########################################################################|\n",
      "100% |########################################################################|\n"
     ]
    },
    {
     "name": "stdout",
     "output_type": "stream",
     "text": [
      "\n",
      "per block:  [  14 2501   35    9 2501  158]\n",
      "done with chain 1. naccept=212353 (0.707841)\n",
      "per block:  [ 3950 50001 18408 47529 50001 42469]\n",
      "chi2 at max = 10.845094\n",
      "Max ln likelihood -5.422547 at parameters:\n",
      "[ -0.49472297   2.          41.0588298   -1.97631806   2.          59.12490391]\n",
      "            \\log A_1 mean = -0.492602 +- 0.0564255\n",
      "                 T_1 mean = 41.8702 +- 2.89002\n",
      "            \\log A_2 mean = -7.53501 +- 3.45186\n",
      "                 T_2 mean = 69.4179 +- 16.766\n",
      "ln Pr of mean = -8.815520\n",
      "chi2(mean) = 17.631040\n",
      "Object[s] IRAS12071-0444(z=0.128)"
     ]
    },
    {
     "name": "stderr",
     "output_type": "stream",
     "text": [
      "100% |########################################################################|\n"
     ]
    },
    {
     "name": "stdout",
     "output_type": "stream",
     "text": [
      "\n",
      "done with chain 0. naccept=8884 (0.592227)"
     ]
    },
    {
     "name": "stderr",
     "output_type": "stream",
     "text": [
      "100% |########################################################################|\n",
      "100% |########################################################################|\n"
     ]
    },
    {
     "name": "stdout",
     "output_type": "stream",
     "text": [
      "\n",
      "per block:  [2061 2501 1772   10 2501   44]\n",
      "done with chain 1. naccept=201766 (0.672551)\n",
      "per block:  [49948 50001 38810  1919 50001 11092]\n",
      "chi2 at max = 7.326850\n",
      "Max ln likelihood -3.663425 at parameters:\n",
      "[ -4.52198880e+03   2.00000000e+00   1.61996909e+01  -3.45844164e-01\n",
      "   2.00000000e+00   3.86923781e+01]\n",
      "            \\log A_1 mean = -4489.7 +- 1911.72\n",
      "                 T_1 mean = 20.79 +- 10.3395\n",
      "            \\log A_2 mean = -0.346029 +- 0.0128039\n",
      "                 T_2 mean = 38.6998 +- 0.511641\n",
      "ln Pr of mean = -3.663615\n",
      "chi2(mean) = 7.327230\n",
      "Object[s] IRAS13120-5453(z=0.031)"
     ]
    },
    {
     "name": "stderr",
     "output_type": "stream",
     "text": [
      "100% |########################################################################|\n"
     ]
    },
    {
     "name": "stdout",
     "output_type": "stream",
     "text": [
      "\n",
      "done with chain 0. naccept=5085 (0.338977)"
     ]
    },
    {
     "name": "stderr",
     "output_type": "stream",
     "text": [
      "100% |########################################################################|\n",
      "100% |########################################################################|\n"
     ]
    },
    {
     "name": "stdout",
     "output_type": "stream",
     "text": [
      "\n",
      "per block:  [  18 2501   60    3 2501    7]\n",
      "done with chain 1. naccept=125205 (0.417349)\n",
      "per block:  [  557 50001  1132 21553 50001  1966]\n",
      "chi2 at max = 261.677548\n",
      "Max ln likelihood -130.838774 at parameters:\n",
      "[  1.40564832   2.          25.17279684   0.67046495   2.          40.14483007]\n",
      "            \\log A_1 mean = 1.37882 +- 0.0336461\n",
      "                 T_1 mean = 23.5577 +- 1.68812\n",
      "            \\log A_2 mean = 0.837664 +- 0.130977\n",
      "                 T_2 mean = 38.1629 +- 1.51198\n",
      "ln Pr of mean = -263.202435\n",
      "chi2(mean) = 526.404869\n",
      "Object[s] IRAS13451+1232(z=0.122)"
     ]
    },
    {
     "name": "stderr",
     "output_type": "stream",
     "text": [
      "100% |########################################################################|\n"
     ]
    },
    {
     "name": "stdout",
     "output_type": "stream",
     "text": [
      "\n",
      "Number of prior resamples: 138\n",
      "done with chain 0. naccept=6190 (0.412639)"
     ]
    },
    {
     "name": "stderr",
     "output_type": "stream",
     "text": [
      "100% |########################################################################|\n",
      "100% |########################################################################|\n"
     ]
    },
    {
     "name": "stdout",
     "output_type": "stream",
     "text": [
      "\n",
      "per block:  [ 389 2501  491  108 2501  205]\n",
      "done with chain 1. naccept=103229 (0.344096)\n",
      "per block:  [  150 50001  2015    62 50001  1005]\n",
      "chi2 at max = 577.190874\n",
      "Max ln likelihood -288.595437 at parameters:\n",
      "[  0.20366068   2.          18.46640572  -0.18801467   2.          27.6013031 ]\n",
      "            \\log A_1 mean = -0.572011 +- 7.74447\n",
      "                 T_1 mean = 25.3103 +- 7.08283\n",
      "            \\log A_2 mean = -0.26643 +- 0.135759\n",
      "                 T_2 mean = 31.7426 +- 4.9653\n",
      "ln Pr of mean = -585.334481\n",
      "chi2(mean) = 1170.668962\n",
      "Object[s] IRAS14348-1447(z=0.083)"
     ]
    },
    {
     "name": "stderr",
     "output_type": "stream",
     "text": [
      "100% |########################################################################|\n"
     ]
    },
    {
     "name": "stdout",
     "output_type": "stream",
     "text": [
      "\n",
      "Number of prior resamples: 4\n",
      "done with chain 0. naccept=5700 (0.379975)"
     ]
    },
    {
     "name": "stderr",
     "output_type": "stream",
     "text": [
      "100% |########################################################################|\n",
      "100% |########################################################################|\n"
     ]
    },
    {
     "name": "stdout",
     "output_type": "stream",
     "text": [
      "\n",
      "per block:  [  21 2501   32  323 2501  327]\n",
      "done with chain 1. naccept=101094 (0.336979)\n",
      "per block:  [   93 50001   614    23 50001   367]\n",
      "chi2 at max = 105299.728405\n",
      "Max ln likelihood -52649.864202 at parameters:\n",
      "[  4.48881609e-02   2.00000000e+00   5.69602743e+01  -6.81675534e-01\n",
      "   2.00000000e+00   5.77472951e+01]\n",
      "            \\log A_1 mean = 0.0685836 +- 0.0983617\n",
      "                 T_1 mean = 55.2673 +- 4.29025\n",
      "            \\log A_2 mean = -0.694745 +- 0.806532\n",
      "                 T_2 mean = 61.6869 +- 6.14902\n",
      "ln Pr of mean = -53491.252530\n",
      "chi2(mean) = 106982.505060\n",
      "Object[s] IRAS14378-3651(z=0.068)"
     ]
    },
    {
     "name": "stderr",
     "output_type": "stream",
     "text": [
      "100% |########################################################################|\n"
     ]
    },
    {
     "name": "stdout",
     "output_type": "stream",
     "text": [
      "\n",
      "done with chain 0. naccept=8416 (0.561029)"
     ]
    },
    {
     "name": "stderr",
     "output_type": "stream",
     "text": [
      "100% |########################################################################|\n",
      "100% |########################################################################|\n"
     ]
    },
    {
     "name": "stdout",
     "output_type": "stream",
     "text": [
      "\n",
      "per block:  [2472 2501  894   23 2501   30]\n",
      "done with chain 1. naccept=131637 (0.438789)\n",
      "per block:  [ 8715 50001 21700   293 50001   932]\n",
      "chi2 at max = 8.911109\n",
      "Max ln likelihood -4.455555 at parameters:\n",
      "[ -0.5059482    2.          21.49544209   0.19626921   2.          36.98390908]\n",
      "            \\log A_1 mean = -407.173 +- 1067.27\n",
      "                 T_1 mean = 23.0474 +- 6.90754\n",
      "            \\log A_2 mean = 0.268062 +- 0.265313\n",
      "                 T_2 mean = 35.6335 +- 4.88189\n",
      "ln Pr of mean = -180.662275\n",
      "chi2(mean) = 361.324550\n",
      "Object[s] IRAS15250+3609(z=0.055)"
     ]
    },
    {
     "name": "stderr",
     "output_type": "stream",
     "text": [
      "100% |########################################################################|\n"
     ]
    },
    {
     "name": "stdout",
     "output_type": "stream",
     "text": [
      "\n",
      "Number of prior resamples: 8\n",
      "done with chain 0. naccept=9109 (0.607226)"
     ]
    },
    {
     "name": "stderr",
     "output_type": "stream",
     "text": [
      "100% |########################################################################|\n",
      "100% |########################################################################|\n"
     ]
    },
    {
     "name": "stdout",
     "output_type": "stream",
     "text": [
      "\n",
      "per block:  [2474 2501 1606    9 2501   23]\n",
      "Number of prior resamples: 2\n",
      "done with chain 1. naccept=205564 (0.685211)\n",
      "per block:  [49988 50001 41919   269 50001 13391]\n",
      "chi2 at max = 172.888657\n",
      "Max ln likelihood -86.444328 at parameters:\n",
      "[ -2.11604185e+03   2.00000000e+00   1.96065643e+01   1.18009118e-01\n",
      "   2.00000000e+00   3.62248884e+01]\n",
      "            \\log A_1 mean = -7690.06 +- 4350.7\n",
      "                 T_1 mean = 16.597 +- 8.39503\n",
      "            \\log A_2 mean = 0.304988 +- 0.168904\n",
      "                 T_2 mean = 30.3566 +- 4.74317\n",
      "ln Pr of mean = -243.503913\n",
      "chi2(mean) = 487.007826\n",
      "Object[s] IRAS15462-0450(z=0.100)"
     ]
    },
    {
     "name": "stderr",
     "output_type": "stream",
     "text": [
      "100% |########################################################################|\n"
     ]
    },
    {
     "name": "stdout",
     "output_type": "stream",
     "text": [
      "\n",
      "done with chain 0. naccept=5466 (0.364376)"
     ]
    },
    {
     "name": "stderr",
     "output_type": "stream",
     "text": [
      "100% |########################################################################|\n",
      "100% |########################################################################|\n"
     ]
    },
    {
     "name": "stdout",
     "output_type": "stream",
     "text": [
      "\n",
      "per block:  [   6 2501   56   19 2501  388]\n",
      "done with chain 1. naccept=207558 (0.691858)\n",
      "per block:  [ 2779 50001 10379 47984 50001 46419]\n",
      "chi2 at max = 11.799803\n",
      "Max ln likelihood -5.899902 at parameters:\n",
      "[ -0.25611357   2.          36.99361573 -21.72513193   2.          62.61456843]\n",
      "            \\log A_1 mean = -0.249758 +- 0.0269641\n",
      "                 T_1 mean = 36.6372 +- 1.35143\n",
      "            \\log A_2 mean = -11.7093 +- 6.35261\n",
      "                 T_2 mean = 65.7437 +- 18.2686\n",
      "ln Pr of mean = -6.324837\n",
      "chi2(mean) = 12.649674\n",
      "Object[s] IRAS16090-0139(z=0.134)"
     ]
    },
    {
     "name": "stderr",
     "output_type": "stream",
     "text": [
      "100% |########################################################################|\n"
     ]
    },
    {
     "name": "stdout",
     "output_type": "stream",
     "text": [
      "\n",
      "Number of prior resamples: 2\n",
      "done with chain 0. naccept=9096 (0.606360)"
     ]
    },
    {
     "name": "stderr",
     "output_type": "stream",
     "text": [
      "100% |########################################################################|\n",
      "100% |########################################################################|\n"
     ]
    },
    {
     "name": "stdout",
     "output_type": "stream",
     "text": [
      "\n",
      "per block:  [2476 2501 1600    5 2501   18]\n",
      "Number of prior resamples: 2\n",
      "done with chain 1. naccept=225727 (0.752421)\n",
      "per block:  [49950 50001 43890  1699 50001 30191]\n",
      "chi2 at max = 29.505691\n",
      "Max ln likelihood -14.752845 at parameters:\n",
      "[ -3.90161152e+03   2.00000000e+00   1.40424592e+01   8.67435106e-02\n",
      "   2.00000000e+00   3.55137568e+01]\n",
      "            \\log A_1 mean = -3667.68 +- 2980.34\n",
      "                 T_1 mean = 19.1281 +- 9.24615\n",
      "            \\log A_2 mean = 0.103268 +- 0.0723312\n",
      "                 T_2 mean = 35.0256 +- 2.048\n",
      "ln Pr of mean = -18.608639\n",
      "chi2(mean) = 37.217278\n",
      "Object[s] IRAS17208-0014(z=0.043)"
     ]
    },
    {
     "name": "stderr",
     "output_type": "stream",
     "text": [
      "100% |########################################################################|\n"
     ]
    },
    {
     "name": "stdout",
     "output_type": "stream",
     "text": [
      "\n",
      "Number of prior resamples: 4\n",
      "done with chain 0. naccept=9473 (0.631491)"
     ]
    },
    {
     "name": "stderr",
     "output_type": "stream",
     "text": [
      "100% |########################################################################|\n",
      "100% |########################################################################|\n"
     ]
    },
    {
     "name": "stdout",
     "output_type": "stream",
     "text": [
      "\n",
      "per block:  [2468 2501 1965   12 2501   31]\n",
      "done with chain 1. naccept=102509 (0.341696)\n",
      "per block:  [  118 50001  1352   403 50001   639]\n",
      "chi2 at max = 207.131057\n",
      "Max ln likelihood -103.565528 at parameters:\n",
      "[  0.98845593   2.          18.8321905    0.98065605   2.          35.4900418 ]\n",
      "            \\log A_1 mean = 0.70813 +- 4.03551\n",
      "                 T_1 mean = 17.4023 +- 1.33025\n",
      "            \\log A_2 mean = 1.02565 +- 0.0371269\n",
      "                 T_2 mean = 34.9818 +- 0.414912\n",
      "ln Pr of mean = -362.331233\n",
      "chi2(mean) = 724.662466\n",
      "Object[s] IRAS19254-7245(z=0.062)"
     ]
    },
    {
     "name": "stderr",
     "output_type": "stream",
     "text": [
      "100% |########################################################################|\n"
     ]
    },
    {
     "name": "stdout",
     "output_type": "stream",
     "text": [
      "\n",
      "done with chain 0. naccept=5049 (0.336578)"
     ]
    },
    {
     "name": "stderr",
     "output_type": "stream",
     "text": [
      "100% |########################################################################|\n",
      "100% |########################################################################|\n"
     ]
    },
    {
     "name": "stdout",
     "output_type": "stream",
     "text": [
      "\n",
      "per block:  [  10 2501   20    3 2501   19]\n",
      "done with chain 1. naccept=150445 (0.501482)\n",
      "per block:  [ 3880 50001  7664 34407 50001  4497]\n",
      "chi2 at max = 147.719311\n",
      "Max ln likelihood -73.859656 at parameters:\n",
      "[  0.55664981   2.          25.83585934  -0.65591168   2.          47.46205242]\n",
      "            \\log A_1 mean = 0.525961 +- 0.0394333\n",
      "                 T_1 mean = 23.4155 +- 1.37148\n",
      "            \\log A_2 mean = -0.192578 +- 0.17984\n",
      "                 T_2 mean = 40.4 +- 2.5257\n",
      "ln Pr of mean = -107.754670\n",
      "chi2(mean) = 215.509341\n",
      "Object[s] IRAS19297-0406(z=0.086)"
     ]
    },
    {
     "name": "stderr",
     "output_type": "stream",
     "text": [
      "100% |########################################################################|\n"
     ]
    },
    {
     "name": "stdout",
     "output_type": "stream",
     "text": [
      "\n",
      "done with chain 0. naccept=8961 (0.597360)"
     ]
    },
    {
     "name": "stderr",
     "output_type": "stream",
     "text": [
      "100% |########################################################################|\n",
      "100% |########################################################################|\n"
     ]
    },
    {
     "name": "stdout",
     "output_type": "stream",
     "text": [
      "\n",
      "per block:  [2378 2501 1562    4 2501   20]\n",
      "Number of prior resamples: 2\n",
      "done with chain 1. naccept=203854 (0.679511)\n",
      "per block:  [49825 50001 43653  5514 50001  4865]\n",
      "chi2 at max = 75.202899\n",
      "Max ln likelihood -37.601449 at parameters:\n",
      "[ -1.80380442e+03   2.00000000e+00   3.30148783e+01   4.44889648e-01\n",
      "   2.00000000e+00   3.46297507e+01]\n",
      "            \\log A_1 mean = -5270.51 +- 5743.12\n",
      "                 T_1 mean = 18.8222 +- 9.0707\n",
      "            \\log A_2 mean = 0.447365 +- 0.0309059\n",
      "                 T_2 mean = 34.5595 +- 0.84837\n",
      "ln Pr of mean = -37.978187\n",
      "chi2(mean) = 75.956374\n",
      "Object[s] IRAS20087-0308(z=0.106)"
     ]
    },
    {
     "name": "stderr",
     "output_type": "stream",
     "text": [
      "100% |########################################################################|\n"
     ]
    },
    {
     "name": "stdout",
     "output_type": "stream",
     "text": [
      "\n",
      "Number of prior resamples: 16\n",
      "done with chain 0. naccept=9389 (0.625892)"
     ]
    },
    {
     "name": "stderr",
     "output_type": "stream",
     "text": [
      "\n",
      "100% |########################################################################|\n"
     ]
    },
    {
     "name": "stdout",
     "output_type": "stream",
     "text": [
      "\n",
      "per block:  [2457 2501 1896   14 2501   25]\n",
      "done with chain 1. naccept=194664 (0.648878)\n",
      "per block:  [49819 50001 38223    55 50001  6570]\n",
      "chi2 at max = 60.766060\n",
      "Max ln likelihood -30.383030 at parameters:\n",
      "[ -1.65419913e+04   2.00000000e+00   1.92651144e+01   4.95672764e-01\n",
      "   2.00000000e+00   3.04044824e+01]\n",
      "            \\log A_1 mean = -8998.76 +- 6399.67\n",
      "                 T_1 mean = 16.4363 +- 7.70303\n",
      "            \\log A_2 mean = 0.523624 +- 0.0299864\n",
      "                 T_2 mean = 29.5783 +- 0.661065\n",
      "ln Pr of mean = -47.504999\n",
      "chi2(mean) = 95.009998\n",
      "Object[s] IRAS20100-4156(z=0.130)"
     ]
    },
    {
     "name": "stderr",
     "output_type": "stream",
     "text": [
      "100% |########################################################################|\n"
     ]
    },
    {
     "name": "stdout",
     "output_type": "stream",
     "text": [
      "\n",
      "done with chain 0. naccept=9500 (0.633291)"
     ]
    },
    {
     "name": "stderr",
     "output_type": "stream",
     "text": [
      "100% |########################################################################|\n",
      "100% |########################################################################|\n"
     ]
    },
    {
     "name": "stdout",
     "output_type": "stream",
     "text": [
      "\n",
      "per block:  [2459 2501 1985   16 2501   43]\n",
      "done with chain 1. naccept=191248 (0.637491)\n",
      "per block:  [49719 50001 40400   627 50001   505]\n",
      "chi2 at max = 16.316456\n",
      "Max ln likelihood -8.158228 at parameters:\n",
      "[ -1.26830473e+00   2.00000000e+00   1.68695581e+01  -2.94152666e-02\n",
      "   2.00000000e+00   3.90390804e+01]\n",
      "            \\log A_1 mean = -3148.66 +- 2147.63\n",
      "                 T_1 mean = 21.1435 +- 10.3647\n",
      "            \\log A_2 mean = -0.0253059 +- 0.00351623\n",
      "                 T_2 mean = 38.9673 +- 0.105504\n",
      "ln Pr of mean = -8.248770\n",
      "chi2(mean) = 16.497540\n",
      "Object[s] IRAS20414-1651(z=0.871)"
     ]
    },
    {
     "name": "stderr",
     "output_type": "stream",
     "text": [
      "100% |########################################################################|\n"
     ]
    },
    {
     "name": "stdout",
     "output_type": "stream",
     "text": [
      "\n",
      "done with chain 0. naccept=9262 (0.617426)"
     ]
    },
    {
     "name": "stderr",
     "output_type": "stream",
     "text": [
      "100% |########################################################################|\n",
      "100% |########################################################################|\n"
     ]
    },
    {
     "name": "stdout",
     "output_type": "stream",
     "text": [
      "\n",
      "per block:  [2494 2501 1728   18 2501   25]\n",
      "done with chain 1. naccept=198106 (0.660351)\n",
      "per block:  [49933 50001 44771   541 50001  2864]\n",
      "chi2 at max = 105.363386\n",
      "Max ln likelihood -52.681693 at parameters:\n",
      "[ -1.055681     2.          12.82919268  -0.79921211   2.          52.39865244]\n",
      "            \\log A_1 mean = -2685.07 +- 1608.03\n",
      "                 T_1 mean = 25.3462 +- 13.3918\n",
      "            \\log A_2 mean = -0.703928 +- 0.159232\n",
      "                 T_2 mean = 48.4883 +- 5.82435\n",
      "ln Pr of mean = -149.966548\n",
      "chi2(mean) = 299.933097\n",
      "Object[s] IRAS20551-4250(z=0.043)"
     ]
    },
    {
     "name": "stderr",
     "output_type": "stream",
     "text": [
      "100% |########################################################################|\n"
     ]
    },
    {
     "name": "stdout",
     "output_type": "stream",
     "text": [
      "\n",
      "Number of prior resamples: 2\n",
      "done with chain 0. naccept=5054 (0.336911)"
     ]
    },
    {
     "name": "stderr",
     "output_type": "stream",
     "text": [
      "100% |########################################################################|\n",
      "100% |########################################################################|\n"
     ]
    },
    {
     "name": "stdout",
     "output_type": "stream",
     "text": [
      "\n",
      "per block:  [   8 2501   29    4 2501   16]\n",
      "done with chain 1. naccept=116548 (0.388492)\n",
      "per block:  [ 4012 50001  5805  2146 50001  4588]\n",
      "chi2 at max = 424.674963\n",
      "Max ln likelihood -212.337481 at parameters:\n",
      "[  0.40614528   2.          29.10806703  -0.48214598   2.          51.96726368]\n",
      "            \\log A_1 mean = 0.405801 +- 0.0144001\n",
      "                 T_1 mean = 28.4973 +- 0.54195\n",
      "            \\log A_2 mean = -0.413484 +- 0.0377683\n",
      "                 T_2 mean = 50.6181 +- 0.716624\n",
      "ln Pr of mean = -212.537148\n",
      "chi2(mean) = 425.074296\n",
      "Object[s] IRAS22491-1808(z=0.078)"
     ]
    },
    {
     "name": "stderr",
     "output_type": "stream",
     "text": [
      "100% |########################################################################|\n"
     ]
    },
    {
     "name": "stdout",
     "output_type": "stream",
     "text": [
      "\n",
      "done with chain 0. naccept=5139 (0.342577)"
     ]
    },
    {
     "name": "stderr",
     "output_type": "stream",
     "text": [
      "100% |########################################################################|\n",
      "100% |########################################################################|\n"
     ]
    },
    {
     "name": "stdout",
     "output_type": "stream",
     "text": [
      "\n",
      "per block:  [  35 2501   60   11 2501   36]\n",
      "done with chain 1. naccept=106084 (0.353612)\n",
      "per block:  [  208 50001  1997  1523 50001  2359]\n",
      "chi2 at max = 28.374932\n",
      "Max ln likelihood -14.187466 at parameters:\n",
      "[  0.15340189   2.          25.94853027  -0.61463526   2.          48.29066431]\n",
      "            \\log A_1 mean = 0.101072 +- 0.120876\n",
      "                 T_1 mean = 24.3963 +- 1.59156\n",
      "            \\log A_2 mean = -0.450848 +- 0.144719\n",
      "                 T_2 mean = 45.4093 +- 2.44588\n",
      "ln Pr of mean = -49.506804\n",
      "chi2(mean) = 99.013608\n",
      "Object[s] IRAS23128-5919(z=0.045)"
     ]
    },
    {
     "name": "stderr",
     "output_type": "stream",
     "text": [
      "100% |########################################################################|\n"
     ]
    },
    {
     "name": "stdout",
     "output_type": "stream",
     "text": [
      "\n",
      "done with chain 0. naccept=6820 (0.454636)"
     ]
    },
    {
     "name": "stderr",
     "output_type": "stream",
     "text": [
      "100% |########################################################################|\n",
      "100% |########################################################################|\n"
     ]
    },
    {
     "name": "stdout",
     "output_type": "stream",
     "text": [
      "\n",
      "per block:  [  15 2501   34  906 2501  868]\n",
      "Number of prior resamples: 41\n",
      "done with chain 1. naccept=185241 (0.617468)\n",
      "per block:  [  508 50001   917 49859 50001 33960]\n",
      "chi2 at max = 254.687263\n",
      "Max ln likelihood -127.343632 at parameters:\n",
      "[  0.28271339   2.          38.36152415  -3.48956901   2.          86.76931047]\n",
      "            \\log A_1 mean = 0.28393 +- 0.0135898\n",
      "                 T_1 mean = 38.3492 +- 0.316906\n",
      "            \\log A_2 mean = -3889.86 +- 2723.58\n",
      "                 T_2 mean = 69.2602 +- 17.8257\n",
      "ln Pr of mean = -128.361705\n",
      "chi2(mean) = 256.723410\n",
      "Object[s] IRAS23230-6926(z=0.107)"
     ]
    },
    {
     "name": "stderr",
     "output_type": "stream",
     "text": [
      "100% |########################################################################|\n"
     ]
    },
    {
     "name": "stdout",
     "output_type": "stream",
     "text": [
      "\n",
      "Number of prior resamples: 38\n",
      "done with chain 0. naccept=9699 (0.646557)"
     ]
    },
    {
     "name": "stderr",
     "output_type": "stream",
     "text": [
      "100% |########################################################################|\n",
      "100% |########################################################################|\n"
     ]
    },
    {
     "name": "stdout",
     "output_type": "stream",
     "text": [
      "\n",
      "per block:  [2501 2501 2041   67 2501   93]\n",
      "done with chain 1. naccept=191585 (0.638615)\n",
      "per block:  [49840 50001 37735    59 50001  3954]\n",
      "chi2 at max = 33.277123\n",
      "Max ln likelihood -16.638562 at parameters:\n",
      "[ -5.55566765e+02   2.00000000e+00   6.61846686e+00  -2.16359589e-01\n",
      "   2.00000000e+00   3.91438490e+01]\n",
      "            \\log A_1 mean = -5404.33 +- 3937.17\n",
      "                 T_1 mean = 20.296 +- 10.0823\n",
      "            \\log A_2 mean = -0.169358 +- 0.0790712\n",
      "                 T_2 mean = 37.4139 +- 2.74772\n",
      "ln Pr of mean = -31.812326\n",
      "chi2(mean) = 63.624652\n",
      "Object[s] IRAS23253-5415(z=0.130)"
     ]
    },
    {
     "name": "stderr",
     "output_type": "stream",
     "text": [
      "100% |########################################################################|\n"
     ]
    },
    {
     "name": "stdout",
     "output_type": "stream",
     "text": [
      "\n",
      "done with chain 0. naccept=5463 (0.364176)"
     ]
    },
    {
     "name": "stderr",
     "output_type": "stream",
     "text": [
      "100% |########################################################################|\n",
      "100% |########################################################################|\n"
     ]
    },
    {
     "name": "stdout",
     "output_type": "stream",
     "text": [
      "\n",
      "per block:  [   8 2501   19   42 2501  397]\n",
      "done with chain 1. naccept=113350 (0.377832)\n",
      "per block:  [ 1550 50001  8604   984 50001  2215]\n",
      "chi2 at max = 12.252181\n",
      "Max ln likelihood -6.126090 at parameters:\n",
      "[  0.43038097   2.          22.67267284  -0.61408345   2.          42.1194002 ]\n",
      "            \\log A_1 mean = 0.447384 +- 0.0640874\n",
      "                 T_1 mean = 22.9335 +- 0.976925\n",
      "            \\log A_2 mean = -0.748786 +- 0.105021\n",
      "                 T_2 mean = 44.4874 +- 2.3606\n",
      "ln Pr of mean = -7.243153\n",
      "chi2(mean) = 14.486307\n",
      "Object[s] IRAS23365+3604(z=0.065)"
     ]
    },
    {
     "name": "stderr",
     "output_type": "stream",
     "text": [
      "100% |########################################################################|\n"
     ]
    },
    {
     "name": "stdout",
     "output_type": "stream",
     "text": [
      "\n",
      "Number of prior resamples: 15\n",
      "done with chain 0. naccept=5218 (0.347843)"
     ]
    },
    {
     "name": "stderr",
     "output_type": "stream",
     "text": [
      "100% |########################################################################|\n",
      "100% |########################################################################|\n"
     ]
    },
    {
     "name": "stdout",
     "output_type": "stream",
     "text": [
      "\n",
      "per block:  [  80 2501   96    8 2501   37]\n",
      "Number of prior resamples: 1164\n",
      "done with chain 1. naccept=106860 (0.356199)\n",
      "per block:  [  263 50001  4497  1142 50001   961]\n",
      "chi2 at max = 48.802233\n",
      "Max ln likelihood -24.401117 at parameters:\n",
      "[  0.1062557    2.          23.38830387   0.29203514   2.          36.25434857]\n",
      "            \\log A_1 mean = 0.165457 +- 1.30917\n",
      "                 T_1 mean = 19.5117 +- 4.0055\n",
      "            \\log A_2 mean = 0.337666 +- 0.049222\n",
      "                 T_2 mean = 35.776 +- 0.784564\n",
      "ln Pr of mean = -29.973874\n",
      "chi2(mean) = 59.947748\n",
      "Object[s] Mrk1014(z=0.163)"
     ]
    },
    {
     "name": "stderr",
     "output_type": "stream",
     "text": [
      "100% |########################################################################|\n"
     ]
    },
    {
     "name": "stdout",
     "output_type": "stream",
     "text": [
      "\n",
      "Number of prior resamples: 5\n",
      "done with chain 0. naccept=5352 (0.356776)"
     ]
    },
    {
     "name": "stderr",
     "output_type": "stream",
     "text": [
      "100% |########################################################################|\n",
      "100% |########################################################################|\n"
     ]
    },
    {
     "name": "stdout",
     "output_type": "stream",
     "text": [
      "\n",
      "per block:  [ 116 2501  168    6 2501   65]\n",
      "done with chain 1. naccept=121948 (0.406492)\n",
      "per block:  [ 5004 50001  7947  2505 50001  6495]\n",
      "chi2 at max = 3.979195\n",
      "Max ln likelihood -1.989597 at parameters:\n",
      "[ -0.15293318   2.          24.22679771  -0.91796972   2.          47.73914064]\n",
      "            \\log A_1 mean = -12.597 +- 44.95\n",
      "                 T_1 mean = 20.8746 +- 5.12532\n",
      "            \\log A_2 mean = -0.73963 +- 0.193718\n",
      "                 T_2 mean = 44.8545 +- 3.17724\n",
      "ln Pr of mean = -1377.431678\n",
      "chi2(mean) = 2754.863356\n",
      "Object[s] UGC5101(z=0.039)"
     ]
    },
    {
     "name": "stderr",
     "output_type": "stream",
     "text": [
      "100% |########################################################################|\n"
     ]
    },
    {
     "name": "stdout",
     "output_type": "stream",
     "text": [
      "\n",
      "Number of prior resamples: 2\n",
      "done with chain 0. naccept=9336 (0.622359)"
     ]
    },
    {
     "name": "stderr",
     "output_type": "stream",
     "text": [
      "100% |########################################################################|\n",
      "100% |########################################################################|\n",
      "/Volumes/Data/Users/jaffe/home/proj/stats/MCMC/GaussianData.py:47: RuntimeWarning: overflow encountered in true_divide\n",
      "  return dot(A.transpose()/self.sig2,A)\n"
     ]
    },
    {
     "name": "stdout",
     "output_type": "stream",
     "text": [
      "\n",
      "per block:  [2446 2501 1862    9 2501   22]\n",
      "done with chain 1. naccept=180400 (0.601331)\n",
      "per block:  [43934 50001 34574  1024 50001   871]\n",
      "chi2 at max = 805.956387\n",
      "Max ln likelihood -402.978193 at parameters:\n",
      "[  0.76984893   2.          19.15168392   0.99020014   2.          30.83744374]\n",
      "            \\log A_1 mean = -8541.56 +- 4608.97\n",
      "                 T_1 mean = 16.8973 +- 7.35826\n",
      "            \\log A_2 mean = 1.0766 +- 0.0178095\n",
      "                 T_2 mean = 30.0856 +- 0.154921\n",
      "ln Pr of mean = -758.394262\n",
      "chi2(mean) = 1516.788525\n",
      "Object[s] 3C273(z=0.158)"
     ]
    },
    {
     "name": "stderr",
     "output_type": "stream",
     "text": [
      "\n"
     ]
    },
    {
     "name": "stdout",
     "output_type": "stream",
     "text": [
      "\n",
      "done with chain 0. naccept=9756 (0.650357)"
     ]
    },
    {
     "name": "stderr",
     "output_type": "stream",
     "text": [
      "100% |########################################################################|\n",
      "100% |########################################################################|\n"
     ]
    },
    {
     "name": "stdout",
     "output_type": "stream",
     "text": [
      "\n",
      "per block:  [2493 2501 2227    9 2501   30]\n",
      "done with chain 1. naccept=189208 (0.630691)\n",
      "per block:  [49820 50001 39110   116 50001   165]\n",
      "chi2 at max = 250761095.562480\n",
      "Max ln likelihood -125380547.781240 at parameters:\n",
      "[ -1.28270555e+04   2.00000000e+00   5.45574491e+01   6.92923951e-01\n",
      "   2.00000000e+00   5.99698595e+01]\n",
      "            \\log A_1 mean = -6075.86 +- 4382.46\n",
      "                 T_1 mean = 31.4147 +- 16.5001\n",
      "            \\log A_2 mean = 0.692736 +- 0.00524077\n",
      "                 T_2 mean = 59.9729 +- 0.0746581\n",
      "ln Pr of mean = -125380548.666643\n",
      "chi2(mean) = 250761097.333285\n",
      "Object[s] Mrk231(z=0.042)"
     ]
    },
    {
     "name": "stderr",
     "output_type": "stream",
     "text": [
      "100% |########################################################################|\n"
     ]
    },
    {
     "name": "stdout",
     "output_type": "stream",
     "text": [
      "\n",
      "Number of prior resamples: 9\n",
      "done with chain 0. naccept=5358 (0.357176)"
     ]
    },
    {
     "name": "stderr",
     "output_type": "stream",
     "text": [
      "100% |########################################################################|\n",
      "100% |########################################################################|\n"
     ]
    },
    {
     "name": "stdout",
     "output_type": "stream",
     "text": [
      "\n",
      "per block:  [  54 2501   93   82 2501  132]\n",
      "done with chain 1. naccept=102400 (0.341332)\n",
      "per block:  [   99 50001  1522    28 50001   754]\n",
      "chi2 at max = 83.985856\n",
      "Max ln likelihood -41.992928 at parameters:\n",
      "[  0.65824847   2.          26.07631003   0.69312021   2.          38.8053892 ]\n",
      "            \\log A_1 mean = 0.573949 +- 0.0839839\n",
      "                 T_1 mean = 30.1995 +- 3.65207\n",
      "            \\log A_2 mean = 0.6783 +- 0.0265781\n",
      "                 T_2 mean = 38.4131 +- 0.843203\n",
      "ln Pr of mean = -60.201872\n",
      "chi2(mean) = 120.403744\n",
      "Object[s] Mrk273(z=0.038)"
     ]
    },
    {
     "name": "stderr",
     "output_type": "stream",
     "text": [
      "100% |########################################################################|\n"
     ]
    },
    {
     "name": "stdout",
     "output_type": "stream",
     "text": [
      "\n",
      "done with chain 0. naccept=5121 (0.341377)"
     ]
    },
    {
     "name": "stderr",
     "output_type": "stream",
     "text": [
      "100% |########################################################################|\n",
      "100% |########################################################################|\n"
     ]
    },
    {
     "name": "stdout",
     "output_type": "stream",
     "text": [
      "\n",
      "per block:  [  20 2501   25   11 2501   68]\n",
      "done with chain 1. naccept=110776 (0.369252)\n",
      "per block:  [ 1681 50001  5580   314 50001  3204]\n",
      "chi2 at max = 414.416101\n",
      "Max ln likelihood -207.208051 at parameters:\n",
      "[  0.55889104   2.          25.54891725   0.58412844   2.          38.1288889 ]\n",
      "            \\log A_1 mean = 0.609009 +- 0.0762596\n",
      "                 T_1 mean = 25.5841 +- 1.72663\n",
      "            \\log A_2 mean = 0.55216 +- 0.013673\n",
      "                 T_2 mean = 38.6624 +- 0.531106\n",
      "ln Pr of mean = -208.930900\n",
      "chi2(mean) = 417.861800\n",
      "Object[s] Mrk463(z=0.050)"
     ]
    },
    {
     "name": "stderr",
     "output_type": "stream",
     "text": [
      "100% |########################################################################|\n"
     ]
    },
    {
     "name": "stdout",
     "output_type": "stream",
     "text": [
      "\n",
      "done with chain 0. naccept=9181 (0.612026)"
     ]
    },
    {
     "name": "stderr",
     "output_type": "stream",
     "text": [
      "100% |########################################################################|\n",
      "100% |########################################################################|\n"
     ]
    },
    {
     "name": "stdout",
     "output_type": "stream",
     "text": [
      "\n",
      "per block:  [2474 2501 1675    3 2501   32]\n",
      "done with chain 1. naccept=222164 (0.740544)\n",
      "per block:  [49933 50001 43116  2926 50001 26192]\n",
      "chi2 at max = 36.300145\n",
      "Max ln likelihood -18.150073 at parameters:\n",
      "[ -1.27205176e+04   2.00000000e+00   3.71677232e+00  -2.83053759e-01\n",
      "   2.00000000e+00   3.45462948e+01]\n",
      "            \\log A_1 mean = -12853.8 +- 7487.7\n",
      "                 T_1 mean = 18.8093 +- 9.14747\n",
      "            \\log A_2 mean = -0.278073 +- 0.0547121\n",
      "                 T_2 mean = 34.4314 +- 1.63256\n",
      "ln Pr of mean = -18.262525\n",
      "chi2(mean) = 36.525051\n",
      "Object[s] Arp220(z=0.018)"
     ]
    },
    {
     "name": "stderr",
     "output_type": "stream",
     "text": [
      "100% |########################################################################|\n"
     ]
    },
    {
     "name": "stdout",
     "output_type": "stream",
     "text": [
      "\n",
      "done with chain 0. naccept=9750 (0.649957)"
     ]
    },
    {
     "name": "stderr",
     "output_type": "stream",
     "text": [
      "100% |########################################################################|\n",
      "100% |########################################################################|\n",
      "model.py:423: RuntimeWarning: overflow encountered in double_scalars\n",
      "  self.A2 = 10.0**logA2\n"
     ]
    },
    {
     "name": "stdout",
     "output_type": "stream",
     "text": [
      "\n",
      "per block:  [   9 2501   26 2482 2501 2236]\n",
      "done with chain 1. naccept=191034 (0.636778)\n",
      "per block:  [  356 50001  1633 49965 50001 39083]\n",
      "chi2 at max = 756.557919\n",
      "Max ln likelihood -378.278960 at parameters:\n",
      "[  1.98161528e+00   2.00000000e+00   2.62443937e+01  -1.51112706e+04\n",
      "   2.00000000e+00   9.77262475e+01]\n",
      "            \\log A_1 mean = 1.97125 +- 0.0145092\n",
      "                 T_1 mean = 26.5542 +- 0.442053\n",
      "            \\log A_2 mean = -15955.6 +- 6795.86\n",
      "                 T_2 mean = 63.544 +- 21.1699\n",
      "ln Pr of mean = -379.949655\n",
      "chi2(mean) = 759.899309\n",
      "Object[s] NGC6240(z=0.024)"
     ]
    },
    {
     "name": "stderr",
     "output_type": "stream",
     "text": [
      "100% |########################################################################|\n"
     ]
    },
    {
     "name": "stdout",
     "output_type": "stream",
     "text": [
      "\n",
      "done with chain 0. naccept=5069 (0.337911)"
     ]
    },
    {
     "name": "stderr",
     "output_type": "stream",
     "text": [
      "100% |########################################################################|\n",
      "100% |########################################################################|\n"
     ]
    },
    {
     "name": "stdout",
     "output_type": "stream",
     "text": [
      "\n",
      "per block:  [  14 2501   24    7 2501   27]\n",
      "done with chain 1. naccept=108362 (0.361205)\n",
      "per block:  [ 3247 50001  2584  1321 50001  1213]\n",
      "chi2 at max = 490.351610\n",
      "Max ln likelihood -245.175805 at parameters:\n",
      "[  1.29950146   2.          16.17873661   0.70169467   2.          36.95378181]\n",
      "            \\log A_1 mean = 1.14589 +- 0.0775266\n",
      "                 T_1 mean = 21.0318 +- 2.62063\n",
      "            \\log A_2 mean = 0.531272 +- 0.0862176\n",
      "                 T_2 mean = 39.0947 +- 1.08623\n",
      "ln Pr of mean = -349.073463\n",
      "chi2(mean) = 698.146926\n",
      "One-Component\n",
      "Object[s] IRAS00188-0856(z=0.128)\n"
     ]
    },
    {
     "name": "stderr",
     "output_type": "stream",
     "text": [
      "100% |########################################################################|\r\n"
     ]
    },
    {
     "ename": "KeyboardInterrupt",
     "evalue": "",
     "output_type": "error",
     "traceback": [
      "\u001b[0;31m---------------------------------------------------------------------------\u001b[0m\n\u001b[0;31mKeyboardInterrupt\u001b[0m                         Traceback (most recent call last)",
      "\u001b[0;32m/Volumes/Data/Users/jaffe/home/proj/stats/MCMC/submmSED/driver.py\u001b[0m in \u001b[0;36m<module>\u001b[0;34m()\u001b[0m\n\u001b[1;32m    660\u001b[0m \u001b[0;34m\u001b[0m\u001b[0m\n\u001b[1;32m    661\u001b[0m \u001b[0;32mif\u001b[0m \u001b[0m__name__\u001b[0m \u001b[0;34m==\u001b[0m \u001b[0;34m\"__main__\"\u001b[0m\u001b[0;34m:\u001b[0m\u001b[0;34m\u001b[0m\u001b[0m\n\u001b[0;32m--> 662\u001b[0;31m     \u001b[0msys\u001b[0m\u001b[0;34m.\u001b[0m\u001b[0mexit\u001b[0m\u001b[0;34m(\u001b[0m\u001b[0mmainmain\u001b[0m\u001b[0;34m(\u001b[0m\u001b[0;34m)\u001b[0m\u001b[0;34m)\u001b[0m\u001b[0;34m\u001b[0m\u001b[0m\n\u001b[0m\u001b[1;32m    663\u001b[0m \u001b[0;31m#\u001b[0m\u001b[0;34m\u001b[0m\u001b[0;34m\u001b[0m\u001b[0m\n\u001b[1;32m    664\u001b[0m \u001b[0;31m#\u001b[0m\u001b[0;34m\u001b[0m\u001b[0;34m\u001b[0m\u001b[0m\n",
      "\u001b[0;32m/Volumes/Data/Users/jaffe/home/proj/stats/MCMC/submmSED/driver.py\u001b[0m in \u001b[0;36mmainmain\u001b[0;34m(argv)\u001b[0m\n\u001b[1;32m    649\u001b[0m         \u001b[0;32mprint\u001b[0m \u001b[0;34m\"which=\"\u001b[0m\u001b[0;34m,\u001b[0m \u001b[0mwhich\u001b[0m\u001b[0;34m\u001b[0m\u001b[0m\n\u001b[1;32m    650\u001b[0m         ret = many(which, fdir=fdir, DLC_ul=DLC_ul, filetype=filetype, cdir=odir, idata=idata, next0=next0, \n\u001b[0;32m--> 651\u001b[0;31m                    fil=filename, format=format, random=random, randomrestart=randomrestart)\n\u001b[0m\u001b[1;32m    652\u001b[0m         \u001b[0;32mwith\u001b[0m \u001b[0mopen\u001b[0m\u001b[0;34m(\u001b[0m\u001b[0modir\u001b[0m\u001b[0;34m+\u001b[0m\u001b[0;34m\"out_\"\u001b[0m\u001b[0;34m+\u001b[0m\u001b[0;34m\"\"\u001b[0m\u001b[0;34m.\u001b[0m\u001b[0mjoin\u001b[0m\u001b[0;34m(\u001b[0m\u001b[0mstr\u001b[0m\u001b[0;34m(\u001b[0m\u001b[0mwhich\u001b[0m\u001b[0;34m)\u001b[0m\u001b[0;34m.\u001b[0m\u001b[0msplit\u001b[0m\u001b[0;34m(\u001b[0m\u001b[0;34m' '\u001b[0m\u001b[0;34m)\u001b[0m\u001b[0;34m)\u001b[0m\u001b[0;34m+\u001b[0m\u001b[0;34m\".pickle\"\u001b[0m\u001b[0;34m,\u001b[0m \u001b[0;34m'w'\u001b[0m\u001b[0;34m)\u001b[0m \u001b[0;32mas\u001b[0m \u001b[0mf\u001b[0m\u001b[0;34m:\u001b[0m\u001b[0;34m\u001b[0m\u001b[0m\n\u001b[1;32m    653\u001b[0m             \u001b[0mpickle\u001b[0m\u001b[0;34m.\u001b[0m\u001b[0mdump\u001b[0m\u001b[0;34m(\u001b[0m\u001b[0mret\u001b[0m\u001b[0;34m,\u001b[0m \u001b[0mf\u001b[0m\u001b[0;34m)\u001b[0m\u001b[0;34m\u001b[0m\u001b[0m\n",
      "\u001b[0;32m/Volumes/Data/Users/jaffe/home/proj/stats/MCMC/submmSED/driver.py\u001b[0m in \u001b[0;36mmany\u001b[0;34m(which, idata, nMC, fil, fdir, cdir, next0, **keywords)\u001b[0m\n\u001b[1;32m    280\u001b[0m                     \u001b[0mstart\u001b[0m\u001b[0;34m=\u001b[0m\u001b[0;34m(\u001b[0m\u001b[0;36m1\u001b[0m\u001b[0;34m,\u001b[0m\u001b[0;36m2.\u001b[0m\u001b[0;34m,\u001b[0m\u001b[0;36m10\u001b[0m\u001b[0;34m)\u001b[0m\u001b[0;34m,\u001b[0m \u001b[0msigmas\u001b[0m\u001b[0;34m=\u001b[0m\u001b[0;34m(\u001b[0m\u001b[0msA\u001b[0m\u001b[0;34m,\u001b[0m\u001b[0msB\u001b[0m\u001b[0;34m,\u001b[0m\u001b[0msT\u001b[0m\u001b[0;34m)\u001b[0m\u001b[0;34m,\u001b[0m \u001b[0mretMCMC\u001b[0m\u001b[0;34m=\u001b[0m\u001b[0mFalse\u001b[0m\u001b[0;34m,\u001b[0m\u001b[0;34m\u001b[0m\u001b[0m\n\u001b[1;32m    281\u001b[0m                     \u001b[0mnMC\u001b[0m\u001b[0;34m=\u001b[0m\u001b[0mnMC\u001b[0m\u001b[0;34m,\u001b[0m \u001b[0monecomponent\u001b[0m\u001b[0;34m=\u001b[0m\u001b[0mTrue\u001b[0m\u001b[0;34m,\u001b[0m \u001b[0mfig0\u001b[0m\u001b[0;34m=\u001b[0m\u001b[0;36m100\u001b[0m\u001b[0;34m,\u001b[0m \u001b[0msavefig\u001b[0m\u001b[0;34m=\u001b[0m\u001b[0;34m\"_1comp\"\u001b[0m\u001b[0;34m,\u001b[0m \u001b[0mfdir\u001b[0m\u001b[0;34m=\u001b[0m\u001b[0mfdir\u001b[0m\u001b[0;34m,\u001b[0m\u001b[0;34m\u001b[0m\u001b[0m\n\u001b[0;32m--> 282\u001b[0;31m                     check=cdir+\"check1.npy\", next0=next0, **keywords)\n\u001b[0m\u001b[1;32m    283\u001b[0m \u001b[0;34m\u001b[0m\u001b[0m\n\u001b[1;32m    284\u001b[0m     \u001b[0;32mif\u001b[0m \u001b[0;36m2\u001b[0m \u001b[0;32min\u001b[0m \u001b[0mwhich\u001b[0m\u001b[0;34m:\u001b[0m\u001b[0;34m\u001b[0m\u001b[0m\n",
      "\u001b[0;32m/Volumes/Data/Users/jaffe/home/proj/stats/MCMC/submmSED/driver.py\u001b[0m in \u001b[0;36mmain\u001b[0;34m(filename, i, rotateParams, onecomponent, getNorm, start, sigmas, nMC, nDerived, noPlots, fig0, savefig, retMCMC, random, randomrestart, fdir, logplot, DLC_ul, check, next0, format, filetype)\u001b[0m\n\u001b[1;32m    151\u001b[0m         mcmc, ana = MCMC.sampler(like, nMC, prop_sigmas, start_params, plotter=None,\n\u001b[1;32m    152\u001b[0m                             \u001b[0mfac\u001b[0m\u001b[0;34m=\u001b[0m\u001b[0mNone\u001b[0m\u001b[0;34m,\u001b[0m \u001b[0mnoCorrelations\u001b[0m\u001b[0;34m=\u001b[0m\u001b[0mTrue\u001b[0m\u001b[0;34m,\u001b[0m \u001b[0mdoBlock\u001b[0m\u001b[0;34m=\u001b[0m\u001b[0mTrue\u001b[0m\u001b[0;34m,\u001b[0m \u001b[0mrotateParams\u001b[0m\u001b[0;34m=\u001b[0m\u001b[0mrotateParams\u001b[0m\u001b[0;34m,\u001b[0m\u001b[0;34m\u001b[0m\u001b[0m\n\u001b[0;32m--> 153\u001b[0;31m                             randomrestart=randomrestart)\n\u001b[0m\u001b[1;32m    154\u001b[0m \u001b[0;34m\u001b[0m\u001b[0m\n\u001b[1;32m    155\u001b[0m         \u001b[0;32mif\u001b[0m \u001b[0;32mnot\u001b[0m \u001b[0mnoPlots\u001b[0m\u001b[0;34m:\u001b[0m\u001b[0;34m\u001b[0m\u001b[0m\n",
      "\u001b[0;32m/Volumes/Data/Users/jaffe/home/proj/stats/MCMC/MCMC.pyc\u001b[0m in \u001b[0;36msampler\u001b[0;34m(like, nMC, prop_sigmas, start_params, plotter, fac, noCorrelations, doBlock, rotateParams, randomrestart)\u001b[0m\n\u001b[1;32m    498\u001b[0m         \u001b[0;32mif\u001b[0m \u001b[0misamp\u001b[0m\u001b[0;34m==\u001b[0m\u001b[0;36m0\u001b[0m\u001b[0;34m:\u001b[0m  \u001b[0;31m## first MCMC has uncorrelated paramters, proposal width given by prop_sigmas\u001b[0m\u001b[0;34m\u001b[0m\u001b[0m\n\u001b[1;32m    499\u001b[0m             new_s = MCMC(like, startProposal=prop_sigmas, nMC=0,\n\u001b[0;32m--> 500\u001b[0;31m                               startParams=start_params, doBlock=doBlock)\n\u001b[0m\u001b[1;32m    501\u001b[0m         \u001b[0;32melse\u001b[0m\u001b[0;34m:\u001b[0m\u001b[0;34m\u001b[0m\u001b[0m\n\u001b[1;32m    502\u001b[0m             new_s = sampler[isamp-1].newMCMC(burn=nMC[isamp-1]//burnfrac,\n",
      "\u001b[0;32m/Volumes/Data/Users/jaffe/home/proj/stats/MCMC/MCMC.pyc\u001b[0m in \u001b[0;36m__init__\u001b[0;34m(self, like, proposal, startProposal, nMC, startParams, doBlock)\u001b[0m\n\u001b[1;32m    118\u001b[0m         \u001b[0;32mif\u001b[0m \u001b[0mstartParams\u001b[0m \u001b[0;32mis\u001b[0m \u001b[0;32mnot\u001b[0m \u001b[0mNone\u001b[0m\u001b[0;34m:\u001b[0m\u001b[0;34m\u001b[0m\u001b[0m\n\u001b[1;32m    119\u001b[0m             \u001b[0;32mtry\u001b[0m\u001b[0;34m:\u001b[0m\u001b[0;34m\u001b[0m\u001b[0m\n\u001b[0;32m--> 120\u001b[0;31m                 \u001b[0mself\u001b[0m\u001b[0;34m.\u001b[0m\u001b[0msetStart\u001b[0m\u001b[0;34m(\u001b[0m\u001b[0mstartParams\u001b[0m\u001b[0;34m)\u001b[0m\u001b[0;34m\u001b[0m\u001b[0m\n\u001b[0m\u001b[1;32m    121\u001b[0m             \u001b[0;32mexcept\u001b[0m \u001b[0mZeroPriorError\u001b[0m\u001b[0;34m:\u001b[0m\u001b[0;34m\u001b[0m\u001b[0m\n\u001b[1;32m    122\u001b[0m                 \u001b[0;32mprint\u001b[0m \u001b[0;34m\"Can't start at\"\u001b[0m\u001b[0;34m,\u001b[0m \u001b[0mstartParams\u001b[0m\u001b[0;34m,\u001b[0m \u001b[0;34m\": prior = 0\"\u001b[0m\u001b[0;34m\u001b[0m\u001b[0m\n",
      "\u001b[0;32m/Volumes/Data/Users/jaffe/home/proj/stats/MCMC/MCMC.pyc\u001b[0m in \u001b[0;36msetStart\u001b[0;34m(self, params, random, verbose)\u001b[0m\n\u001b[1;32m    148\u001b[0m             \u001b[0mi_restart\u001b[0m \u001b[0;34m=\u001b[0m \u001b[0;36m0\u001b[0m\u001b[0;34m\u001b[0m\u001b[0m\n\u001b[1;32m    149\u001b[0m             \u001b[0;32mwhile\u001b[0m \u001b[0mprior\u001b[0m \u001b[0;34m<=\u001b[0m \u001b[0;36m0\u001b[0m\u001b[0;34m:\u001b[0m\u001b[0;34m\u001b[0m\u001b[0m\n\u001b[0;32m--> 150\u001b[0;31m                 \u001b[0mparams\u001b[0m \u001b[0;34m=\u001b[0m \u001b[0mself\u001b[0m\u001b[0;34m.\u001b[0m\u001b[0mprop\u001b[0m\u001b[0;34m.\u001b[0m\u001b[0mgetNewParams\u001b[0m\u001b[0;34m(\u001b[0m\u001b[0mparams\u001b[0m\u001b[0;34m)\u001b[0m    \u001b[0;31m### want to resample all parameters each time, even if doBlock=True\u001b[0m\u001b[0;34m\u001b[0m\u001b[0m\n\u001b[0m\u001b[1;32m    151\u001b[0m                 \u001b[0mparamarr\u001b[0m \u001b[0;34m=\u001b[0m \u001b[0mself\u001b[0m\u001b[0;34m.\u001b[0m\u001b[0mlike\u001b[0m\u001b[0;34m.\u001b[0m\u001b[0mmodel\u001b[0m\u001b[0;34m.\u001b[0m\u001b[0munpackage\u001b[0m\u001b[0;34m(\u001b[0m\u001b[0mparams\u001b[0m\u001b[0;34m)\u001b[0m\u001b[0;34m\u001b[0m\u001b[0m\n\u001b[1;32m    152\u001b[0m                 \u001b[0mprior\u001b[0m \u001b[0;34m=\u001b[0m \u001b[0mself\u001b[0m\u001b[0;34m.\u001b[0m\u001b[0mlike\u001b[0m\u001b[0;34m.\u001b[0m\u001b[0mmodel\u001b[0m\u001b[0;34m.\u001b[0m\u001b[0mprior\u001b[0m\u001b[0;34m(\u001b[0m\u001b[0;34m*\u001b[0m\u001b[0mparams\u001b[0m\u001b[0;34m)\u001b[0m\u001b[0;34m\u001b[0m\u001b[0m\n",
      "\u001b[0;32m/Volumes/Data/Users/jaffe/home/proj/stats/MCMC/Proposal.pyc\u001b[0m in \u001b[0;36mgetNewParams\u001b[0;34m(self, prevParams, block)\u001b[0m\n\u001b[1;32m    149\u001b[0m             \u001b[0;32melse\u001b[0m\u001b[0;34m:\u001b[0m\u001b[0;34m\u001b[0m\u001b[0m\n\u001b[1;32m    150\u001b[0m                 \u001b[0;32mif\u001b[0m \u001b[0mself\u001b[0m\u001b[0;34m.\u001b[0m\u001b[0msqrtMatrix\u001b[0m \u001b[0;32mis\u001b[0m \u001b[0mNone\u001b[0m\u001b[0;34m:\u001b[0m\u001b[0;34m\u001b[0m\u001b[0m\n\u001b[0;32m--> 151\u001b[0;31m                     \u001b[0moffset\u001b[0m \u001b[0;34m=\u001b[0m \u001b[0mnormal\u001b[0m\u001b[0;34m(\u001b[0m\u001b[0;36m0\u001b[0m\u001b[0;34m,\u001b[0m\u001b[0;36m1\u001b[0m\u001b[0;34m,\u001b[0m \u001b[0mself\u001b[0m\u001b[0;34m.\u001b[0m\u001b[0mn\u001b[0m\u001b[0;34m)\u001b[0m\u001b[0;34m*\u001b[0m\u001b[0mself\u001b[0m\u001b[0;34m.\u001b[0m\u001b[0msigmas\u001b[0m\u001b[0;34m\u001b[0m\u001b[0m\n\u001b[0m\u001b[1;32m    152\u001b[0m                 \u001b[0;32melse\u001b[0m\u001b[0;34m:\u001b[0m\u001b[0;34m\u001b[0m\u001b[0m\n\u001b[1;32m    153\u001b[0m                     offset = dot(self.sqrtMatrix,\n",
      "\u001b[0;31mKeyboardInterrupt\u001b[0m: "
     ]
    }
   ],
   "source": [
    "#%matplotlib osx\n",
    "%run driver.py --format=DLC_2014 --fdir=./figs_DLC_2014_2 --odir=./out_DLC_2014_2 --file=./herus_phot.csv 0 1 2 3"
   ]
  },
  {
   "cell_type": "code",
   "execution_count": 2,
   "metadata": {
    "collapsed": true
   },
   "outputs": [
    {
     "name": "stderr",
     "output_type": "stream",
     "text": [
      "/Volumes/Data/Users/jaffe/Library/Python/2.7/lib/python/site-packages/matplotlib-1.3.1-py2.7-macosx-10.6-intel.egg/matplotlib/__init__.py:1155: UserWarning:  This call to matplotlib.use() has no effect\n",
      "because the backend has already been chosen;\n",
      "matplotlib.use() must be called *before* pylab, matplotlib.pyplot,\n",
      "or matplotlib.backends is imported for the first time.\n",
      "\n",
      "  warnings.warn(_use_error_msg)\n"
     ]
    },
    {
     "name": "stdout",
     "output_type": "stream",
     "text": [
      "normal behaviour\n",
      "filename: ./herus_phot.csv\n",
      "fig dir: ./figs_DLC_2014_2/\n",
      "out dir: ./out_DLC_2014_2/\n",
      "data range None\n",
      "DLC_UL = 1\n",
      "format = 0\n",
      "filetype = DLC_2014\n",
      "which= [0]\n",
      "Using file ./herus_phot.csv\n",
      "keywords: {'random': True, 'randomrestart': True, 'filetype': 'DLC_2014', 'format': 0, 'DLC_ul': True}\n",
      "Two-Component beta = 2\n",
      "Object[s] IRAS00188-0856(z=0.128)\n",
      "Number of prior resamples: 2\n",
      "done with chain 0. naccept=5202 (0.346777)"
     ]
    },
    {
     "name": "stderr",
     "output_type": "stream",
     "text": [
      "100% |########################################################################|\n",
      "100% |########################################################################|\n"
     ]
    },
    {
     "name": "stdout",
     "output_type": "stream",
     "text": [
      "\n",
      "per block:  [   8 2501   90   16 2501   91]\n",
      "Number of prior resamples: 213\n",
      "done with chain 1. naccept=200161 (0.667201)\n",
      "per block:  [ 1468 50001  1070 49999 50001 47627]\n",
      "chi2 at max = 23.960476\n",
      "Max ln likelihood -11.980238 at parameters:\n",
      "[   0.11958923    2.           31.6869833  -108.35336389    2.\n",
      "   42.34247664]\n",
      "            \\log A_1 mean = 0.115103 +- 0.0432487\n",
      "                 T_1 mean = 31.8705 +- 1.58634\n",
      "            \\log A_2 mean = -59.1526 +- 22.238\n",
      "                 T_2 mean = 65.4563 +- 19.4743\n",
      "ln Pr of mean = -12.250167\n",
      "chi2(mean) = 24.500333\n",
      "Object[s] IRAS00397-1312(z=0.262)"
     ]
    },
    {
     "name": "stderr",
     "output_type": "stream",
     "text": [
      "100% |########################################################################|\n"
     ]
    },
    {
     "name": "stdout",
     "output_type": "stream",
     "text": [
      "\n",
      "done with chain 0. naccept=8828 (0.588494)"
     ]
    },
    {
     "name": "stderr",
     "output_type": "stream",
     "text": [
      "100% |########################################################################|\n",
      "100% |########################################################################|\n"
     ]
    },
    {
     "name": "stdout",
     "output_type": "stream",
     "text": [
      "\n",
      "per block:  [2300 2501 1499    9 2501   23]\n",
      "done with chain 1. naccept=236271 (0.787567)\n",
      "per block:  [49971 50001 44661 12544 50001 29098]\n",
      "chi2 at max = 11.697852\n",
      "Max ln likelihood -5.848926 at parameters:\n",
      "[ -1.9356365    2.          34.72607573  -0.67132276   2.          42.47053231]\n",
      "            \\log A_1 mean = -11760 +- 5001.49\n",
      "                 T_1 mean = 22.715 +- 11.3212\n",
      "            \\log A_2 mean = -0.643731 +- 0.0493647\n",
      "                 T_2 mean = 41.9423 +- 1.5708\n",
      "ln Pr of mean = -6.022750\n",
      "chi2(mean) = 12.045499\n",
      "Object[s] IRAS01003-2238(z=0.118)"
     ]
    },
    {
     "name": "stderr",
     "output_type": "stream",
     "text": [
      "100% |########################################################################|\n"
     ]
    },
    {
     "name": "stdout",
     "output_type": "stream",
     "text": [
      "\n",
      "done with chain 0. naccept=9503 (0.633491)"
     ]
    },
    {
     "name": "stderr",
     "output_type": "stream",
     "text": [
      "100% |########################################################################|\n",
      "100% |########################################################################|\n"
     ]
    },
    {
     "name": "stdout",
     "output_type": "stream",
     "text": [
      "\n",
      "per block:  [2474 2501 1920   14 2501   98]\n",
      "Number of prior resamples: 16\n",
      "done with chain 1. naccept=206000 (0.686664)\n",
      "per block:  [49806 50001 41807  5472 50001  8918]\n",
      "chi2 at max = 2.705686\n",
      "Max ln likelihood -1.352843 at parameters:\n",
      "[ -2.00920507   2.          31.02827203  -0.80349325   2.          45.0750897 ]\n",
      "            \\log A_1 mean = -5067.89 +- 4584.43\n",
      "                 T_1 mean = 23.6373 +- 12.0467\n",
      "            \\log A_2 mean = -0.787713 +- 0.0184037\n",
      "                 T_2 mean = 44.8595 +- 0.828058\n",
      "ln Pr of mean = -1.390887\n",
      "chi2(mean) = 2.781773\n",
      "Object[s] IRAS03158+4227(z=0.134)"
     ]
    },
    {
     "name": "stderr",
     "output_type": "stream",
     "text": [
      "100% |########################################################################|\n"
     ]
    },
    {
     "name": "stdout",
     "output_type": "stream",
     "text": [
      "\n",
      "Number of prior resamples: 7\n",
      "done with chain 0. naccept=9811 (0.654023)"
     ]
    },
    {
     "name": "stderr",
     "output_type": "stream",
     "text": [
      "100% |########################################################################|\n",
      "100% |########################################################################|\n"
     ]
    },
    {
     "name": "stdout",
     "output_type": "stream",
     "text": [
      "\n",
      "per block:  [  18 2501   27 2497 2501 2272]\n",
      "done with chain 1. naccept=132461 (0.441535)\n",
      "per block:  [  259 50001  3101 15056 50001 14048]\n",
      "chi2 at max = 29.173054\n",
      "Max ln likelihood -14.586527 at parameters:\n",
      "[  0.27708598   2.          27.35767051  -1.5866489    2.          68.77885618]\n",
      "            \\log A_1 mean = 0.461361 +- 0.192033\n",
      "                 T_1 mean = 24.0311 +- 2.88674\n",
      "            \\log A_2 mean = -484.486 +- 898.706\n",
      "                 T_2 mean = 69.4807 +- 14.6528\n",
      "ln Pr of mean = -125.142726\n",
      "chi2(mean) = 250.285452\n",
      "Object[s] IRAS03521+0028(z=0.152)"
     ]
    },
    {
     "name": "stderr",
     "output_type": "stream",
     "text": [
      "100% |########################################################################|\n"
     ]
    },
    {
     "name": "stdout",
     "output_type": "stream",
     "text": [
      "\n",
      "done with chain 0. naccept=5196 (0.346377)"
     ]
    },
    {
     "name": "stderr",
     "output_type": "stream",
     "text": [
      "100% |########################################################################|\n",
      "100% |########################################################################|\n"
     ]
    },
    {
     "name": "stdout",
     "output_type": "stream",
     "text": [
      "\n",
      "per block:  [  14 2501  144    3 2501   38]\n",
      "done with chain 1. naccept=159644 (0.532145)\n",
      "per block:  [26443 50001 11772  5575 50001 15857]\n",
      "chi2 at max = 0.021230\n",
      "Max ln likelihood -0.010615 at parameters:\n",
      "[  0.43393546   2.          11.64795548  -0.22480234   2.          38.07681331]\n",
      "            \\log A_1 mean = 0.454932 +- 0.280938\n",
      "                 T_1 mean = 11.8827 +- 2.84225\n",
      "            \\log A_2 mean = -0.222166 +- 0.0380794\n",
      "                 T_2 mean = 37.869 +- 0.913049\n",
      "ln Pr of mean = -1.840032\n",
      "chi2(mean) = 3.680065\n",
      "Object[s] IRAS05189-2524(z=0.043)"
     ]
    },
    {
     "name": "stderr",
     "output_type": "stream",
     "text": [
      "100% |########################################################################|\n"
     ]
    },
    {
     "name": "stdout",
     "output_type": "stream",
     "text": [
      "\n",
      "Number of prior resamples: 5\n",
      "done with chain 0. naccept=5069 (0.337911)"
     ]
    },
    {
     "name": "stderr",
     "output_type": "stream",
     "text": [
      "100% |########################################################################|\n",
      "100% |########################################################################|\n"
     ]
    },
    {
     "name": "stdout",
     "output_type": "stream",
     "text": [
      "\n",
      "per block:  [  15 2501   30    7 2501   20]\n",
      "done with chain 1. naccept=104837 (0.349456)\n",
      "per block:  [  353 50001  3309   361 50001   817]\n",
      "chi2 at max = 30.364782\n",
      "Max ln likelihood -15.182391 at parameters:\n",
      "[  0.51905197   2.          28.71931567  -0.40037455   2.          50.74844815]\n",
      "            \\log A_1 mean = 0.528433 +- 0.0531746\n",
      "                 T_1 mean = 28.4128 +- 1.0239\n",
      "            \\log A_2 mean = -0.388282 +- 0.0123816\n",
      "                 T_2 mean = 50.5869 +- 0.32503\n",
      "ln Pr of mean = -16.089968\n",
      "chi2(mean) = 32.179936\n",
      "Object[s] IRAS06035-7102(z=0.079)"
     ]
    },
    {
     "name": "stderr",
     "output_type": "stream",
     "text": [
      "100% |########################################################################|\n"
     ]
    },
    {
     "name": "stdout",
     "output_type": "stream",
     "text": [
      "\n",
      "done with chain 0. naccept=9447 (0.629758)"
     ]
    },
    {
     "name": "stderr",
     "output_type": "stream",
     "text": [
      "\n",
      "100% |########################################################################|\n"
     ]
    },
    {
     "name": "stdout",
     "output_type": "stream",
     "text": [
      "\n",
      "per block:  [2440 2501 1960   15 2501   35]\n",
      "done with chain 1. naccept=189883 (0.632941)\n",
      "per block:  [49810 50001 39143   435 50001   498]\n",
      "chi2 at max = 56.578722\n",
      "Max ln likelihood -28.289361 at parameters:\n",
      "[ -5.46509766e+03   2.00000000e+00   1.77059830e+01   1.47798881e-01\n",
      "   2.00000000e+00   3.63324307e+01]\n",
      "            \\log A_1 mean = -5267.24 +- 3776.79\n",
      "                 T_1 mean = 19.5924 +- 9.65681\n",
      "            \\log A_2 mean = 0.14781 +- 0.00352328\n",
      "                 T_2 mean = 36.3341 +- 0.10284\n",
      "ln Pr of mean = -28.285365\n",
      "chi2(mean) = 56.570731\n",
      "Object[s] IRAS06206-6315(z=0.092)"
     ]
    },
    {
     "name": "stderr",
     "output_type": "stream",
     "text": [
      "100% |########################################################################|\n"
     ]
    },
    {
     "name": "stdout",
     "output_type": "stream",
     "text": [
      "\n",
      "done with chain 0. naccept=9308 (0.620492)"
     ]
    },
    {
     "name": "stderr",
     "output_type": "stream",
     "text": [
      "100% |########################################################################|\n",
      "100% |########################################################################|\n"
     ]
    },
    {
     "name": "stdout",
     "output_type": "stream",
     "text": [
      "\n",
      "per block:  [2487 2501 1796    5 2501   23]\n",
      "done with chain 1. naccept=195525 (0.651748)\n",
      "per block:  [49729 50001 41054   406 50001  4339]\n",
      "chi2 at max = 100.857067\n",
      "Max ln likelihood -50.428534 at parameters:\n",
      "[ -1.47504222   2.          11.41587115   0.25874588   2.          33.43337096]\n",
      "            \\log A_1 mean = -4435.8 +- 3638.8\n",
      "                 T_1 mean = 18.0485 +- 8.65214\n",
      "            \\log A_2 mean = 0.270922 +- 0.0383887\n",
      "                 T_2 mean = 33.0403 +- 1.17325\n",
      "ln Pr of mean = -53.301520\n",
      "chi2(mean) = 106.603040\n",
      "Object[s] IRAS07598+6508(z=0.148)"
     ]
    },
    {
     "name": "stderr",
     "output_type": "stream",
     "text": [
      "100% |########################################################################|\n"
     ]
    },
    {
     "name": "stdout",
     "output_type": "stream",
     "text": [
      "\n",
      "done with chain 0. naccept=8930 (0.595294)"
     ]
    },
    {
     "name": "stderr",
     "output_type": "stream",
     "text": [
      "100% |########################################################################|\n",
      "100% |########################################################################|\n"
     ]
    },
    {
     "name": "stdout",
     "output_type": "stream",
     "text": [
      "\n",
      "per block:  [2465 2501 1427   13 2501   28]\n",
      "done with chain 1. naccept=217252 (0.724171)\n",
      "per block:  [49937 50001 44752  1278 50001 21288]\n",
      "chi2 at max = 39.276845\n",
      "Max ln likelihood -19.638423 at parameters:\n",
      "[ -8.41062879e+03   2.00000000e+00   7.82479355e+00  -2.59699817e-01\n",
      "   2.00000000e+00   3.56066778e+01]\n",
      "            \\log A_1 mean = -7915.7 +- 3594.3\n",
      "                 T_1 mean = 18.6324 +- 9.34564\n",
      "            \\log A_2 mean = -0.226661 +- 0.125409\n",
      "                 T_2 mean = 34.7447 +- 3.12435\n",
      "ln Pr of mean = -26.457693\n",
      "chi2(mean) = 52.915385\n",
      "Object[s] IRAS08311-2459(z=0.100)"
     ]
    },
    {
     "name": "stderr",
     "output_type": "stream",
     "text": [
      "100% |########################################################################|\n"
     ]
    },
    {
     "name": "stdout",
     "output_type": "stream",
     "text": [
      "\n",
      "Number of prior resamples: 28\n",
      "done with chain 0. naccept=5254 (0.350243)"
     ]
    },
    {
     "name": "stderr",
     "output_type": "stream",
     "text": [
      "100% |########################################################################|\n",
      "100% |########################################################################|\n"
     ]
    },
    {
     "name": "stdout",
     "output_type": "stream",
     "text": [
      "\n",
      "per block:  [  22 2501  108   16 2501  111]\n",
      "done with chain 1. naccept=103631 (0.345436)\n",
      "per block:  [  396 50001   856   899 50001  1483]\n",
      "chi2 at max = 2.571217\n",
      "Max ln likelihood -1.285608 at parameters:\n",
      "[  0.1499183    2.          25.99944821  -0.15839177   2.          39.61186553]\n",
      "            \\log A_1 mean = 0.108206 +- 0.0409967\n",
      "                 T_1 mean = 30.4994 +- 3.0882\n",
      "            \\log A_2 mean = -0.276059 +- 0.0792624\n",
      "                 T_2 mean = 38.5622 +- 1.81351\n",
      "ln Pr of mean = -7.747469\n",
      "chi2(mean) = 15.494938\n",
      "Object[s] IRAS08572+3915(z=0.058)"
     ]
    },
    {
     "name": "stderr",
     "output_type": "stream",
     "text": [
      "100% |########################################################################|\n"
     ]
    },
    {
     "name": "stdout",
     "output_type": "stream",
     "text": [
      "\n",
      "Number of prior resamples: 2\n",
      "done with chain 0. naccept=9583 (0.638824)"
     ]
    },
    {
     "name": "stderr",
     "output_type": "stream",
     "text": [
      "100% |########################################################################|\n",
      "100% |########################################################################|\n",
      "model.py:418: RuntimeWarning: overflow encountered in double_scalars\n",
      "  self.A1 = 10.0**logA1\n",
      "/Volumes/Data/Users/jaffe/home/proj/stats/MCMC/GaussianData.py:47: RuntimeWarning: overflow encountered in true_divide\n",
      "  return dot(A.transpose()/self.sig2,A)\n"
     ]
    },
    {
     "name": "stdout",
     "output_type": "stream",
     "text": [
      "\n",
      "per block:  [2465 2501 2077   16 2501   28]\n",
      "done with chain 1. naccept=191052 (0.636838)\n",
      "per block:  [49811 50001 39175   636 50001  1433]\n",
      "chi2 at max = 20.223359\n",
      "Max ln likelihood -10.111679 at parameters:\n",
      "[  0.95227577   2.           4.59825771  -0.37998152   2.          46.37031234]\n",
      "            \\log A_1 mean = -12436.2 +- 8672.96\n",
      "                 T_1 mean = 24.9921 +- 12.5648\n",
      "            \\log A_2 mean = -0.37989 +- 0.00986489\n",
      "                 T_2 mean = 46.393 +- 0.214217\n",
      "ln Pr of mean = -10.836421\n",
      "chi2(mean) = 21.672841\n",
      "Object[s] IRAS09022-3615(z=0.060)"
     ]
    },
    {
     "name": "stderr",
     "output_type": "stream",
     "text": [
      "100% |########################################################################|\n"
     ]
    },
    {
     "name": "stdout",
     "output_type": "stream",
     "text": [
      "\n",
      "Number of prior resamples: 2\n",
      "done with chain 0. naccept=5199 (0.346577)"
     ]
    },
    {
     "name": "stderr",
     "output_type": "stream",
     "text": [
      "100% |########################################################################|\n",
      "100% |########################################################################|\n"
     ]
    },
    {
     "name": "stdout",
     "output_type": "stream",
     "text": [
      "\n",
      "per block:  [  20 2501   35   42 2501  105]\n",
      "Number of prior resamples: 31\n",
      "done with chain 1. naccept=104227 (0.347422)\n",
      "per block:  [  394 50001  1268   236 50001  2332]\n",
      "chi2 at max = 202.047225\n",
      "Max ln likelihood -101.023613 at parameters:\n",
      "[  0.53651075   2.          34.14663609  -1.1938622    2.          57.39295572]\n",
      "            \\log A_1 mean = 0.59854 +- 0.114227\n",
      "                 T_1 mean = 32.0796 +- 2.83366\n",
      "            \\log A_2 mean = -1.19842 +- 0.0592824\n",
      "                 T_2 mean = 64.5536 +- 7.05141\n",
      "ln Pr of mean = -180.531140\n",
      "chi2(mean) = 361.062279\n",
      "Object[s] IRAS10378+1109(z=0.136)"
     ]
    },
    {
     "name": "stderr",
     "output_type": "stream",
     "text": [
      "100% |########################################################################|\n"
     ]
    },
    {
     "name": "stdout",
     "output_type": "stream",
     "text": [
      "\n",
      "done with chain 0. naccept=5266 (0.351043)"
     ]
    },
    {
     "name": "stderr",
     "output_type": "stream",
     "text": [
      "100% |########################################################################|\n",
      "100% |########################################################################|\n"
     ]
    },
    {
     "name": "stdout",
     "output_type": "stream",
     "text": [
      "\n",
      "per block:  [  24 2501  104    9 2501  132]\n",
      "done with chain 1. naccept=128616 (0.428719)\n",
      "per block:  [  564 50001  3378  7990 50001 16687]\n",
      "chi2 at max = 25.875357\n",
      "Max ln likelihood -12.937679 at parameters:\n",
      "[ -0.14909153   2.          29.77090632  -1.59830701   2.          61.12778208]\n",
      "            \\log A_1 mean = -0.160592 +- 0.0765687\n",
      "                 T_1 mean = 28.4556 +- 1.27108\n",
      "            \\log A_2 mean = -1.30884 +- 0.321469\n",
      "                 T_2 mean = 54.8643 +- 7.36883\n",
      "ln Pr of mean = -23.260156\n",
      "chi2(mean) = 46.520313\n",
      "Object[s] IRAS10565+2448(z=0.043)"
     ]
    },
    {
     "name": "stderr",
     "output_type": "stream",
     "text": [
      "100% |########################################################################|\n"
     ]
    },
    {
     "name": "stdout",
     "output_type": "stream",
     "text": [
      "\n",
      "Number of prior resamples: 62\n",
      "done with chain 0. naccept=5089 (0.339244)"
     ]
    },
    {
     "name": "stderr",
     "output_type": "stream",
     "text": [
      "100% |########################################################################|\n",
      "100% |########################################################################|\n"
     ]
    },
    {
     "name": "stdout",
     "output_type": "stream",
     "text": [
      "\n",
      "per block:  [   8 2501   18    4 2501   62]\n",
      "done with chain 1. naccept=104222 (0.347406)\n",
      "per block:  [  243 50001  1187   664 50001  2131]\n",
      "chi2 at max = 184.729639\n",
      "Max ln likelihood -92.364820 at parameters:\n",
      "[  0.88584634   2.          29.2266394   -1.52548586   2.          85.11526984]\n",
      "            \\log A_1 mean = 0.887068 +- 0.00365483\n",
      "                 T_1 mean = 29.2204 +- 0.0830323\n",
      "            \\log A_2 mean = -1.57467 +- 0.0281663\n",
      "                 T_2 mean = 88.3468 +- 2.08331\n",
      "ln Pr of mean = -97.801626\n",
      "chi2(mean) = 195.603252\n",
      "Object[s] IRAS11095-0238(z=0.107)"
     ]
    },
    {
     "name": "stderr",
     "output_type": "stream",
     "text": [
      "100% |########################################################################|\n"
     ]
    },
    {
     "name": "stdout",
     "output_type": "stream",
     "text": [
      "\n",
      "Number of prior resamples: 2\n",
      "done with chain 0. naccept=9354 (0.623558)"
     ]
    },
    {
     "name": "stderr",
     "output_type": "stream",
     "text": [
      "100% |########################################################################|\n",
      "100% |########################################################################|\n"
     ]
    },
    {
     "name": "stdout",
     "output_type": "stream",
     "text": [
      "\n",
      "per block:  [2422 2501 1883    9 2501   43]\n",
      "done with chain 1. naccept=206442 (0.688138)\n",
      "per block:  [49835 50001 42727  2850 50001 11033]\n",
      "chi2 at max = 11.007701\n",
      "Max ln likelihood -5.503851 at parameters:\n",
      "[ -9.61568051e+03   2.00000000e+00   3.96510675e+01  -4.96460894e-01\n",
      "   2.00000000e+00   4.24675913e+01]\n",
      "            \\log A_1 mean = -8186.77 +- 5740.52\n",
      "                 T_1 mean = 22.46 +- 11.4032\n",
      "            \\log A_2 mean = -0.494028 +- 0.0215055\n",
      "                 T_2 mean = 42.369 +- 0.885379\n",
      "ln Pr of mean = -5.533467\n",
      "chi2(mean) = 11.066934\n",
      "Object[s] IRAS12071-0444(z=0.128)"
     ]
    },
    {
     "name": "stderr",
     "output_type": "stream",
     "text": [
      "100% |########################################################################|\n"
     ]
    },
    {
     "name": "stdout",
     "output_type": "stream",
     "text": [
      "\n",
      "done with chain 0. naccept=7080 (0.471969)"
     ]
    },
    {
     "name": "stderr",
     "output_type": "stream",
     "text": [
      "100% |########################################################################|\n",
      "100% |########################################################################|\n"
     ]
    },
    {
     "name": "stdout",
     "output_type": "stream",
     "text": [
      "\n",
      "per block:  [ 955 2501 1036   10 2501   82]\n",
      "done with chain 1. naccept=196138 (0.653791)\n",
      "per block:  [49896 50001 38965  4140 50001  3140]\n",
      "chi2 at max = 7.327153\n",
      "Max ln likelihood -3.663576 at parameters:\n",
      "[ -3.98657590e+03   2.00000000e+00   1.43619327e+01  -3.45898012e-01\n",
      "   2.00000000e+00   3.86925555e+01]\n",
      "            \\log A_1 mean = -5754.42 +- 2523.24\n",
      "                 T_1 mean = 20.7232 +- 10.3754\n",
      "            \\log A_2 mean = -0.346727 +- 0.0115518\n",
      "                 T_2 mean = 38.7295 +- 0.465999\n",
      "ln Pr of mean = -3.666913\n",
      "chi2(mean) = 7.333825\n",
      "Object[s] IRAS13120-5453(z=0.031)"
     ]
    },
    {
     "name": "stderr",
     "output_type": "stream",
     "text": [
      "100% |########################################################################|\n"
     ]
    },
    {
     "name": "stdout",
     "output_type": "stream",
     "text": [
      "\n",
      "Number of prior resamples: 2\n",
      "done with chain 0. naccept=8979 (0.598560)"
     ]
    },
    {
     "name": "stderr",
     "output_type": "stream",
     "text": [
      "100% |########################################################################|\n",
      "100% |########################################################################|\n"
     ]
    },
    {
     "name": "stdout",
     "output_type": "stream",
     "text": [
      "\n",
      "per block:  [2475 2501 1454   16 2501   37]\n",
      "done with chain 1. naccept=103357 (0.344522)\n",
      "per block:  [ 1015 50001  2137   118 50001    90]\n",
      "chi2 at max = 2194.726861\n",
      "Max ln likelihood -1097.363431 at parameters:\n",
      "[  1.02515624   2.          19.61599997   1.23216933   2.          33.66774594]\n",
      "            \\log A_1 mean = -14.2369 +- 124.527\n",
      "                 T_1 mean = 19.3816 +- 1.82687\n",
      "            \\log A_2 mean = 1.26394 +- 0.0325888\n",
      "                 T_2 mean = 33.3335 +- 0.353174\n",
      "ln Pr of mean = -4133.412329\n",
      "chi2(mean) = 8266.824657\n",
      "Object[s] IRAS13451+1232(z=0.122)"
     ]
    },
    {
     "name": "stderr",
     "output_type": "stream",
     "text": [
      "100% |########################################################################|\n"
     ]
    },
    {
     "name": "stdout",
     "output_type": "stream",
     "text": [
      "\n",
      "Number of prior resamples: 2\n",
      "done with chain 0. naccept=6144 (0.409573)"
     ]
    },
    {
     "name": "stderr",
     "output_type": "stream",
     "text": [
      "100% |########################################################################|\n",
      "100% |########################################################################|\n"
     ]
    },
    {
     "name": "stdout",
     "output_type": "stream",
     "text": [
      "\n",
      "per block:  [  15 2501   18  414 2501  700]\n",
      "done with chain 1. naccept=201073 (0.670241)\n",
      "per block:  [  891 50001  6530 49989 50001 43666]\n",
      "chi2 at max = 456.284302\n",
      "Max ln likelihood -228.142151 at parameters:\n",
      "[  7.08545867e-01   2.00000000e+00   1.68166186e+01  -9.08004490e+03\n",
      "   2.00000000e+00   3.35102064e+01]\n",
      "            \\log A_1 mean = 0.738995 +- 0.0422619\n",
      "                 T_1 mean = 16.5061 +- 0.411621\n",
      "            \\log A_2 mean = -4194.24 +- 2918.93\n",
      "                 T_2 mean = 57.8748 +- 23.9668\n",
      "ln Pr of mean = -228.803286\n",
      "chi2(mean) = 457.606573\n",
      "Object[s] IRAS14348-1447(z=0.083)"
     ]
    },
    {
     "name": "stderr",
     "output_type": "stream",
     "text": [
      "100% |########################################################################|\n"
     ]
    },
    {
     "name": "stdout",
     "output_type": "stream",
     "text": [
      "\n",
      "done with chain 0. naccept=9673 (0.644824)"
     ]
    },
    {
     "name": "stderr",
     "output_type": "stream",
     "text": [
      "100% |########################################################################|\n",
      "100% |########################################################################|\n"
     ]
    },
    {
     "name": "stdout",
     "output_type": "stream",
     "text": [
      "\n",
      "per block:  [2468 2501 2155   14 2501   39]\n",
      "done with chain 1. naccept=190514 (0.635045)\n",
      "per block:  [49744 50001 40364   193 50001   216]\n",
      "chi2 at max = 105233.519554\n",
      "Max ln likelihood -52616.759777 at parameters:\n",
      "[ -1.68071825e+04   2.00000000e+00   3.51599146e+01   1.10790897e-01\n",
      "   2.00000000e+00   5.73408537e+01]\n",
      "            \\log A_1 mean = -7212.25 +- 5517.65\n",
      "                 T_1 mean = 29.97 +- 15.4953\n",
      "            \\log A_2 mean = 0.125319 +- 0.0294115\n",
      "                 T_2 mean = 56.9189 +- 0.812226\n",
      "ln Pr of mean = -52690.783373\n",
      "chi2(mean) = 105381.566747\n",
      "Object[s] IRAS14378-3651(z=0.068)"
     ]
    },
    {
     "name": "stderr",
     "output_type": "stream",
     "text": [
      "100% |########################################################################|\n"
     ]
    },
    {
     "name": "stdout",
     "output_type": "stream",
     "text": [
      "\n",
      "done with chain 0. naccept=5071 (0.338044)"
     ]
    },
    {
     "name": "stderr",
     "output_type": "stream",
     "text": [
      "100% |########################################################################|\n",
      "100% |########################################################################|\n"
     ]
    },
    {
     "name": "stdout",
     "output_type": "stream",
     "text": [
      "\n",
      "per block:  [  11 2501   34    6 2501   23]\n",
      "done with chain 1. naccept=116916 (0.389719)\n",
      "per block:  [  618 50001 10860  2400 50001  3041]\n",
      "chi2 at max = 3.478932\n",
      "Max ln likelihood -1.739466 at parameters:\n",
      "[  0.06917808   2.          29.3053816   -0.09318444   2.          40.11193434]\n",
      "            \\log A_1 mean = 0.0827473 +- 0.0876658\n",
      "                 T_1 mean = 28.468 +- 2.80502\n",
      "            \\log A_2 mean = -0.073072 +- 0.0382347\n",
      "                 T_2 mean = 39.8586 +- 0.311756\n",
      "ln Pr of mean = -7.660560\n",
      "chi2(mean) = 15.321119\n",
      "Object[s] IRAS15250+3609(z=0.055)"
     ]
    },
    {
     "name": "stderr",
     "output_type": "stream",
     "text": [
      "100% |########################################################################|\n"
     ]
    },
    {
     "name": "stdout",
     "output_type": "stream",
     "text": [
      "\n",
      "done with chain 0. naccept=5157 (0.343777)"
     ]
    },
    {
     "name": "stderr",
     "output_type": "stream",
     "text": [
      "100% |########################################################################|\n",
      "100% |########################################################################|\n"
     ]
    },
    {
     "name": "stdout",
     "output_type": "stream",
     "text": [
      "\n",
      "per block:  [  10 2501   10   15 2501  125]\n",
      "done with chain 1. naccept=141502 (0.471672)\n",
      "per block:  [ 3636 50001 32034  1705 50001  4130]\n",
      "chi2 at max = 23.246784\n",
      "Max ln likelihood -11.623392 at parameters:\n",
      "[  0.38433835   2.          20.82285398  -0.36344026   2.          46.10089501]\n",
      "            \\log A_1 mean = 0.383734 +- 0.0652495\n",
      "                 T_1 mean = 21.7499 +- 1.07575\n",
      "            \\log A_2 mean = -0.446406 +- 0.0479371\n",
      "                 T_2 mean = 47.8105 +- 1.1932\n",
      "ln Pr of mean = -12.350773\n",
      "chi2(mean) = 24.701547\n",
      "Object[s] IRAS15462-0450(z=0.100)"
     ]
    },
    {
     "name": "stderr",
     "output_type": "stream",
     "text": [
      "100% |########################################################################|\n"
     ]
    },
    {
     "name": "stdout",
     "output_type": "stream",
     "text": [
      "\n",
      "Number of prior resamples: 7\n",
      "done with chain 0. naccept=9453 (0.630158)"
     ]
    },
    {
     "name": "stderr",
     "output_type": "stream",
     "text": [
      "100% |########################################################################|\n",
      "100% |########################################################################|\n"
     ]
    },
    {
     "name": "stdout",
     "output_type": "stream",
     "text": [
      "\n",
      "per block:  [2478 2501 1920   10 2501   48]\n",
      "Number of prior resamples: 16\n",
      "done with chain 1. naccept=203040 (0.676798)\n",
      "per block:  [49928 50001 40135  1801 50001 11179]\n",
      "chi2 at max = 11.799758\n",
      "Max ln likelihood -5.899879 at parameters:\n",
      "[ -7.84819528e+03   2.00000000e+00   2.40548600e+01  -2.56035717e-01\n",
      "   2.00000000e+00   3.69940351e+01]\n",
      "            \\log A_1 mean = -4747.55 +- 2912.97\n",
      "                 T_1 mean = 20.0393 +- 9.83236\n",
      "            \\log A_2 mean = -0.255625 +- 0.0146203\n",
      "                 T_2 mean = 36.9716 +- 0.535937\n",
      "ln Pr of mean = -5.900332\n",
      "chi2(mean) = 11.800665\n",
      "Object[s] IRAS16090-0139(z=0.134)"
     ]
    },
    {
     "name": "stderr",
     "output_type": "stream",
     "text": [
      "100% |########################################################################|\n"
     ]
    },
    {
     "name": "stdout",
     "output_type": "stream",
     "text": [
      "\n",
      "done with chain 0. naccept=9239 (0.615892)"
     ]
    },
    {
     "name": "stderr",
     "output_type": "stream",
     "text": [
      "100% |########################################################################|\n",
      "100% |########################################################################|\n"
     ]
    },
    {
     "name": "stdout",
     "output_type": "stream",
     "text": [
      "\n",
      "per block:  [2461 2501 1760    6 2501   15]\n",
      "Number of prior resamples: 34\n",
      "done with chain 1. naccept=210382 (0.701271)\n",
      "per block:  [49960 50001 42524   928 50001 16973]\n",
      "chi2 at max = 29.506190\n",
      "Max ln likelihood -14.753095 at parameters:\n",
      "[ -1.15945923e+04   2.00000000e+00   2.17003154e+01   8.66077240e-02\n",
      "   2.00000000e+00   3.55186933e+01]\n",
      "            \\log A_1 mean = -11437.4 +- 7143.7\n",
      "                 T_1 mean = 18.9668 +- 9.34392\n",
      "            \\log A_2 mean = 0.0948468 +- 0.0394077\n",
      "                 T_2 mean = 35.2531 +- 1.26494\n",
      "ln Pr of mean = -15.467704\n",
      "chi2(mean) = 30.935408\n",
      "Object[s] IRAS17208-0014(z=0.043)"
     ]
    },
    {
     "name": "stderr",
     "output_type": "stream",
     "text": [
      "100% |########################################################################|\n"
     ]
    },
    {
     "name": "stdout",
     "output_type": "stream",
     "text": [
      "\n",
      "done with chain 0. naccept=5079 (0.338577)"
     ]
    },
    {
     "name": "stderr",
     "output_type": "stream",
     "text": [
      "100% |########################################################################|\n",
      "100% |########################################################################|\n"
     ]
    },
    {
     "name": "stdout",
     "output_type": "stream",
     "text": [
      "\n",
      "per block:  [  10 2501   17    6 2501   49]\n",
      "done with chain 1. naccept=105160 (0.350532)\n",
      "per block:  [  792 50001  2095  1011 50001  1265]\n",
      "chi2 at max = 84.832675\n",
      "Max ln likelihood -42.416338 at parameters:\n",
      "[  1.21375621   2.          29.58046068  -0.79270478   2.          70.85611966]\n",
      "            \\log A_1 mean = 1.21606 +- 0.0355066\n",
      "                 T_1 mean = 29.6216 +- 0.942075\n",
      "            \\log A_2 mean = -0.90225 +- 0.0516503\n",
      "                 T_2 mean = 75.8008 +- 4.03969\n",
      "ln Pr of mean = -59.205147\n",
      "chi2(mean) = 118.410295\n",
      "Object[s] IRAS19254-7245(z=0.062)"
     ]
    },
    {
     "name": "stderr",
     "output_type": "stream",
     "text": [
      "100% |########################################################################|\n"
     ]
    },
    {
     "name": "stdout",
     "output_type": "stream",
     "text": [
      "\n",
      "Number of prior resamples: 2\n",
      "done with chain 0. naccept=8484 (0.565562)"
     ]
    },
    {
     "name": "stderr",
     "output_type": "stream",
     "text": [
      "100% |########################################################################|\n",
      "100% |########################################################################|\n"
     ]
    },
    {
     "name": "stdout",
     "output_type": "stream",
     "text": [
      "\n",
      "per block:  [2493 2501  957   15 2501   22]\n",
      "done with chain 1. naccept=197100 (0.656998)\n",
      "per block:  [48756 50001 45916   598 50001  1833]\n",
      "chi2 at max = 299.303972\n",
      "Max ln likelihood -149.651986 at parameters:\n",
      "[  0.47577678   2.          11.17652719   0.36376429   2.          33.71692739]\n",
      "            \\log A_1 mean = -6499.59 +- 4182.72\n",
      "                 T_1 mean = 17.8441 +- 8.78584\n",
      "            \\log A_2 mean = 0.39824 +- 0.120756\n",
      "                 T_2 mean = 33.2133 +- 2.34391\n",
      "ln Pr of mean = -224.540664\n",
      "chi2(mean) = 449.081327\n",
      "Object[s] IRAS19297-0406(z=0.086)"
     ]
    },
    {
     "name": "stderr",
     "output_type": "stream",
     "text": [
      "100% |########################################################################|\n"
     ]
    },
    {
     "name": "stdout",
     "output_type": "stream",
     "text": [
      "\n",
      "done with chain 0. naccept=8740 (0.582628)"
     ]
    },
    {
     "name": "stderr",
     "output_type": "stream",
     "text": [
      "100% |########################################################################|\n",
      "100% |########################################################################|\n"
     ]
    },
    {
     "name": "stdout",
     "output_type": "stream",
     "text": [
      "\n",
      "per block:  [2483 2501 1203   24 2501   33]\n",
      "done with chain 1. naccept=168193 (0.560641)\n",
      "per block:  [33755 50001 32442   408 50001  1591]\n",
      "chi2 at max = 30.797946\n",
      "Max ln likelihood -15.398973 at parameters:\n",
      "[  0.31093435   2.          14.17369295   0.40809649   2.          35.0953363 ]\n",
      "            \\log A_1 mean = -2081.28 +- 2030.51\n",
      "                 T_1 mean = 15.8633 +- 7.76393\n",
      "            \\log A_2 mean = 0.475216 +- 0.154371\n",
      "                 T_2 mean = 33.7966 +- 3.46154\n",
      "ln Pr of mean = -92.511531\n",
      "chi2(mean) = 185.023062\n",
      "Object[s] IRAS20087-0308(z=0.106)"
     ]
    },
    {
     "name": "stderr",
     "output_type": "stream",
     "text": [
      "100% |########################################################################|\n"
     ]
    },
    {
     "name": "stdout",
     "output_type": "stream",
     "text": [
      "\n",
      "done with chain 0. naccept=8528 (0.568495)"
     ]
    },
    {
     "name": "stderr",
     "output_type": "stream",
     "text": [
      "100% |########################################################################|\n",
      "100% |########################################################################|\n"
     ]
    },
    {
     "name": "stdout",
     "output_type": "stream",
     "text": [
      "\n",
      "per block:  [2384 2501 1116    9 2501   22]\n",
      "done with chain 1. naccept=199215 (0.664048)\n",
      "per block:  [49781 50001 45379   889 50001  3169]\n",
      "chi2 at max = 32.109311\n",
      "Max ln likelihood -16.054655 at parameters:\n",
      "[ -0.34372997   2.          11.50285886   0.45202811   2.          31.69254465]\n",
      "            \\log A_1 mean = -1119.23 +- 760.53\n",
      "                 T_1 mean = 17.1565 +- 8.26324\n",
      "            \\log A_2 mean = 0.487519 +- 0.103952\n",
      "                 T_2 mean = 30.8567 +- 2.47545\n",
      "ln Pr of mean = -41.481311\n",
      "chi2(mean) = 82.962621\n",
      "Object[s] IRAS20100-4156(z=0.130)"
     ]
    },
    {
     "name": "stderr",
     "output_type": "stream",
     "text": [
      "100% |########################################################################|\n"
     ]
    },
    {
     "name": "stdout",
     "output_type": "stream",
     "text": [
      "\n",
      "done with chain 0. naccept=5179 (0.345244)"
     ]
    },
    {
     "name": "stderr",
     "output_type": "stream",
     "text": [
      "100% |########################################################################|\n",
      "100% |########################################################################|\n"
     ]
    },
    {
     "name": "stdout",
     "output_type": "stream",
     "text": [
      "\n",
      "per block:  [  27 2501   31   37 2501   87]\n",
      "done with chain 1. naccept=106388 (0.354625)\n",
      "per block:  [  784 50001  4651   268 50001   688]\n",
      "chi2 at max = 11.832764\n",
      "Max ln likelihood -5.916382 at parameters:\n",
      "[ -0.14349234   2.          33.04722707  -0.45566818   2.          43.63695133]\n",
      "            \\log A_1 mean = -0.115797 +- 0.134719\n",
      "                 T_1 mean = 31.1907 +- 3.3792\n",
      "            \\log A_2 mean = -0.407521 +- 0.0363988\n",
      "                 T_2 mean = 43.348 +- 0.322752\n",
      "ln Pr of mean = -14.892021\n",
      "chi2(mean) = 29.784042\n",
      "Object[s] IRAS20414-1651(z=0.871)"
     ]
    },
    {
     "name": "stderr",
     "output_type": "stream",
     "text": [
      "100% |########################################################################|\n"
     ]
    },
    {
     "name": "stdout",
     "output_type": "stream",
     "text": [
      "\n",
      "done with chain 0. naccept=9012 (0.600760)"
     ]
    },
    {
     "name": "stderr",
     "output_type": "stream",
     "text": [
      "100% |########################################################################|\n",
      "100% |########################################################################|\n",
      "model.py:346: RuntimeWarning: invalid value encountered in multiply\n",
      "  return self.A1 * greybody(self.b1, self.T1, data.freq) + \\\n"
     ]
    },
    {
     "name": "stdout",
     "output_type": "stream",
     "text": [
      "\n",
      "per block:  [2473 2501 1485   17 2501   40]\n",
      "done with chain 1. naccept=198139 (0.660461)\n",
      "per block:  [49881 49987 45515   447 49987  2327]\n",
      "chi2 at max = 101.727335\n",
      "Max ln likelihood -50.863667 at parameters:\n",
      "[  3.85997164   2.           3.99204502  -0.81776339   2.          53.35625022]\n",
      "            \\log A_1 mean = -22790.8 +- 13233.9\n",
      "                 T_1 mean = 24.8516 +- 13.0292\n",
      "            \\log A_2 mean = -0.660016 +- 0.163246\n",
      "                 T_2 mean = 46.5677 +- 5.80864\n",
      "ln Pr of mean = -183.073865\n",
      "chi2(mean) = 366.147729\n",
      "Object[s] IRAS20551-4250(z=0.043)\n",
      "Number of prior resamples: 66920793"
     ]
    },
    {
     "name": "stderr",
     "output_type": "stream",
     "text": [
      "100% |########################################################################|\n"
     ]
    },
    {
     "name": "stdout",
     "output_type": "stream",
     "text": [
      "\n",
      "done with chain 0. naccept=14413 (0.960803)"
     ]
    },
    {
     "name": "stderr",
     "output_type": "stream",
     "text": [
      "100% |########################################################################|\n",
      "100% |########################################################################|\n"
     ]
    },
    {
     "name": "stdout",
     "output_type": "stream",
     "text": [
      "\n",
      "per block:  [2501 2501 2194 2501 2501 2220]\n",
      "done with chain 1. naccept=270536 (0.901784)\n",
      "per block:  [50001 50001 36428 50001 50001 34109]\n",
      "chi2 at max = 288100.292392\n",
      "Max ln likelihood -144050.146196 at parameters:\n",
      "[ -1.77075745e+04   2.00000000e+00   9.95222803e+00  -7.75763967e+04\n",
      "   2.00000000e+00   7.09575007e+01]\n",
      "            \\log A_1 mean = -23758.9 +- 3584.59\n",
      "                 T_1 mean = 34.9297 +- 22.7496\n",
      "            \\log A_2 mean = -65937.4 +- 10857.2\n",
      "                 T_2 mean = 67.3392 +- 22.8166\n",
      "ln Pr of mean = -144050.146196\n",
      "chi2(mean) = 288100.292392\n",
      "Object[s] IRAS22491-1808(z=0.078)\n"
     ]
    },
    {
     "name": "stderr",
     "output_type": "stream",
     "text": [
      "100% |########################################################################|\r\n"
     ]
    },
    {
     "ename": "KeyboardInterrupt",
     "evalue": "",
     "output_type": "error",
     "traceback": [
      "\u001b[0;31m---------------------------------------------------------------------------\u001b[0m\n\u001b[0;31mKeyboardInterrupt\u001b[0m                         Traceback (most recent call last)",
      "\u001b[0;32m/Volumes/Data/Users/jaffe/home/proj/stats/MCMC/submmSED/driver.py\u001b[0m in \u001b[0;36m<module>\u001b[0;34m()\u001b[0m\n\u001b[1;32m    660\u001b[0m \u001b[0;34m\u001b[0m\u001b[0m\n\u001b[1;32m    661\u001b[0m \u001b[0;32mif\u001b[0m \u001b[0m__name__\u001b[0m \u001b[0;34m==\u001b[0m \u001b[0;34m\"__main__\"\u001b[0m\u001b[0;34m:\u001b[0m\u001b[0;34m\u001b[0m\u001b[0m\n\u001b[0;32m--> 662\u001b[0;31m     \u001b[0msys\u001b[0m\u001b[0;34m.\u001b[0m\u001b[0mexit\u001b[0m\u001b[0;34m(\u001b[0m\u001b[0mmainmain\u001b[0m\u001b[0;34m(\u001b[0m\u001b[0;34m)\u001b[0m\u001b[0;34m)\u001b[0m\u001b[0;34m\u001b[0m\u001b[0m\n\u001b[0m\u001b[1;32m    663\u001b[0m \u001b[0;31m#\u001b[0m\u001b[0;34m\u001b[0m\u001b[0;34m\u001b[0m\u001b[0m\n\u001b[1;32m    664\u001b[0m \u001b[0;31m#\u001b[0m\u001b[0;34m\u001b[0m\u001b[0;34m\u001b[0m\u001b[0m\n",
      "\u001b[0;32m/Volumes/Data/Users/jaffe/home/proj/stats/MCMC/submmSED/driver.py\u001b[0m in \u001b[0;36mmainmain\u001b[0;34m(argv)\u001b[0m\n\u001b[1;32m    649\u001b[0m         \u001b[0;32mprint\u001b[0m \u001b[0;34m\"which=\"\u001b[0m\u001b[0;34m,\u001b[0m \u001b[0mwhich\u001b[0m\u001b[0;34m\u001b[0m\u001b[0m\n\u001b[1;32m    650\u001b[0m         ret = many(which, fdir=fdir, DLC_ul=DLC_ul, filetype=filetype, cdir=odir, idata=idata, next0=next0, \n\u001b[0;32m--> 651\u001b[0;31m                    fil=filename, format=format, random=random, randomrestart=randomrestart)\n\u001b[0m\u001b[1;32m    652\u001b[0m         \u001b[0;32mwith\u001b[0m \u001b[0mopen\u001b[0m\u001b[0;34m(\u001b[0m\u001b[0modir\u001b[0m\u001b[0;34m+\u001b[0m\u001b[0;34m\"out_\"\u001b[0m\u001b[0;34m+\u001b[0m\u001b[0;34m\"\"\u001b[0m\u001b[0;34m.\u001b[0m\u001b[0mjoin\u001b[0m\u001b[0;34m(\u001b[0m\u001b[0mstr\u001b[0m\u001b[0;34m(\u001b[0m\u001b[0mwhich\u001b[0m\u001b[0;34m)\u001b[0m\u001b[0;34m.\u001b[0m\u001b[0msplit\u001b[0m\u001b[0;34m(\u001b[0m\u001b[0;34m' '\u001b[0m\u001b[0;34m)\u001b[0m\u001b[0;34m)\u001b[0m\u001b[0;34m+\u001b[0m\u001b[0;34m\".pickle\"\u001b[0m\u001b[0;34m,\u001b[0m \u001b[0;34m'w'\u001b[0m\u001b[0;34m)\u001b[0m \u001b[0;32mas\u001b[0m \u001b[0mf\u001b[0m\u001b[0;34m:\u001b[0m\u001b[0;34m\u001b[0m\u001b[0m\n\u001b[1;32m    653\u001b[0m             \u001b[0mpickle\u001b[0m\u001b[0;34m.\u001b[0m\u001b[0mdump\u001b[0m\u001b[0;34m(\u001b[0m\u001b[0mret\u001b[0m\u001b[0;34m,\u001b[0m \u001b[0mf\u001b[0m\u001b[0;34m)\u001b[0m\u001b[0;34m\u001b[0m\u001b[0m\n",
      "\u001b[0;32m/Volumes/Data/Users/jaffe/home/proj/stats/MCMC/submmSED/driver.py\u001b[0m in \u001b[0;36mmany\u001b[0;34m(which, idata, nMC, fil, fdir, cdir, next0, **keywords)\u001b[0m\n\u001b[1;32m    273\u001b[0m                     \u001b[0mstart\u001b[0m\u001b[0;34m=\u001b[0m\u001b[0;34m(\u001b[0m\u001b[0;36m1\u001b[0m\u001b[0;34m,\u001b[0m\u001b[0;36m2.\u001b[0m\u001b[0;34m,\u001b[0m\u001b[0;36m10\u001b[0m\u001b[0;34m,\u001b[0m\u001b[0;36m0.1\u001b[0m\u001b[0;34m,\u001b[0m\u001b[0;36m2.\u001b[0m\u001b[0;34m,\u001b[0m\u001b[0;36m20\u001b[0m\u001b[0;34m)\u001b[0m\u001b[0;34m,\u001b[0m \u001b[0msigmas\u001b[0m\u001b[0;34m=\u001b[0m\u001b[0;34m(\u001b[0m\u001b[0msA\u001b[0m\u001b[0;34m,\u001b[0m\u001b[0;36m0\u001b[0m\u001b[0;34m,\u001b[0m\u001b[0msT\u001b[0m\u001b[0;34m)\u001b[0m\u001b[0;34m*\u001b[0m\u001b[0;36m2\u001b[0m\u001b[0;34m,\u001b[0m \u001b[0mretMCMC\u001b[0m\u001b[0;34m=\u001b[0m\u001b[0mFalse\u001b[0m\u001b[0;34m,\u001b[0m\u001b[0;34m\u001b[0m\u001b[0m\n\u001b[1;32m    274\u001b[0m                     \u001b[0mnMC\u001b[0m\u001b[0;34m=\u001b[0m\u001b[0mnMC\u001b[0m\u001b[0;34m,\u001b[0m \u001b[0monecomponent\u001b[0m\u001b[0;34m=\u001b[0m\u001b[0mFalse\u001b[0m\u001b[0;34m,\u001b[0m \u001b[0mfig0\u001b[0m\u001b[0;34m=\u001b[0m\u001b[0;36m0\u001b[0m\u001b[0;34m,\u001b[0m \u001b[0msavefig\u001b[0m\u001b[0;34m=\u001b[0m\u001b[0;34m\"_2comp_b2\"\u001b[0m\u001b[0;34m,\u001b[0m \u001b[0mfdir\u001b[0m\u001b[0;34m=\u001b[0m\u001b[0mfdir\u001b[0m\u001b[0;34m,\u001b[0m\u001b[0;34m\u001b[0m\u001b[0m\n\u001b[0;32m--> 275\u001b[0;31m                     check=cdir+\"check0.npy\", next0=next0, **keywords)\n\u001b[0m\u001b[1;32m    276\u001b[0m \u001b[0;34m\u001b[0m\u001b[0m\n\u001b[1;32m    277\u001b[0m     \u001b[0;32mif\u001b[0m \u001b[0;36m1\u001b[0m \u001b[0;32min\u001b[0m \u001b[0mwhich\u001b[0m\u001b[0;34m:\u001b[0m\u001b[0;34m\u001b[0m\u001b[0m\n",
      "\u001b[0;32m/Volumes/Data/Users/jaffe/home/proj/stats/MCMC/submmSED/driver.py\u001b[0m in \u001b[0;36mmain\u001b[0;34m(filename, i, rotateParams, onecomponent, getNorm, start, sigmas, nMC, nDerived, noPlots, fig0, savefig, retMCMC, random, randomrestart, fdir, logplot, DLC_ul, check, next0, format, filetype)\u001b[0m\n\u001b[1;32m    151\u001b[0m         mcmc, ana = MCMC.sampler(like, nMC, prop_sigmas, start_params, plotter=None,\n\u001b[1;32m    152\u001b[0m                             \u001b[0mfac\u001b[0m\u001b[0;34m=\u001b[0m\u001b[0mNone\u001b[0m\u001b[0;34m,\u001b[0m \u001b[0mnoCorrelations\u001b[0m\u001b[0;34m=\u001b[0m\u001b[0mTrue\u001b[0m\u001b[0;34m,\u001b[0m \u001b[0mdoBlock\u001b[0m\u001b[0;34m=\u001b[0m\u001b[0mTrue\u001b[0m\u001b[0;34m,\u001b[0m \u001b[0mrotateParams\u001b[0m\u001b[0;34m=\u001b[0m\u001b[0mrotateParams\u001b[0m\u001b[0;34m,\u001b[0m\u001b[0;34m\u001b[0m\u001b[0m\n\u001b[0;32m--> 153\u001b[0;31m                             randomrestart=randomrestart)\n\u001b[0m\u001b[1;32m    154\u001b[0m \u001b[0;34m\u001b[0m\u001b[0m\n\u001b[1;32m    155\u001b[0m         \u001b[0;32mif\u001b[0m \u001b[0;32mnot\u001b[0m \u001b[0mnoPlots\u001b[0m\u001b[0;34m:\u001b[0m\u001b[0;34m\u001b[0m\u001b[0m\n",
      "\u001b[0;32m/Volumes/Data/Users/jaffe/home/proj/stats/MCMC/MCMC.pyc\u001b[0m in \u001b[0;36msampler\u001b[0;34m(like, nMC, prop_sigmas, start_params, plotter, fac, noCorrelations, doBlock, rotateParams, randomrestart)\u001b[0m\n\u001b[1;32m    498\u001b[0m     \u001b[0mparams\u001b[0m \u001b[0;34m=\u001b[0m \u001b[0mwhere\u001b[0m\u001b[0;34m(\u001b[0m\u001b[0mlike\u001b[0m\u001b[0;34m.\u001b[0m\u001b[0mmodel\u001b[0m\u001b[0;34m.\u001b[0m\u001b[0munpackage\u001b[0m\u001b[0;34m(\u001b[0m\u001b[0mprop_sigmas\u001b[0m\u001b[0;34m)\u001b[0m\u001b[0;34m>\u001b[0m\u001b[0;36m0\u001b[0m\u001b[0;34m)\u001b[0m\u001b[0;34m[\u001b[0m\u001b[0;36m0\u001b[0m\u001b[0;34m]\u001b[0m  \u001b[0;31m# where returns a tuple\u001b[0m\u001b[0;34m\u001b[0m\u001b[0m\n\u001b[1;32m    499\u001b[0m \u001b[0;34m\u001b[0m\u001b[0m\n\u001b[0;32m--> 500\u001b[0;31m     \u001b[0;32mfor\u001b[0m \u001b[0misamp\u001b[0m\u001b[0;34m,\u001b[0m \u001b[0mnMC1\u001b[0m \u001b[0;32min\u001b[0m \u001b[0menumerate\u001b[0m\u001b[0;34m(\u001b[0m\u001b[0mnMC\u001b[0m\u001b[0;34m)\u001b[0m\u001b[0;34m:\u001b[0m\u001b[0;34m\u001b[0m\u001b[0m\n\u001b[0m\u001b[1;32m    501\u001b[0m         \u001b[0;32mif\u001b[0m \u001b[0misamp\u001b[0m\u001b[0;34m==\u001b[0m\u001b[0;36m0\u001b[0m\u001b[0;34m:\u001b[0m  \u001b[0;31m## first MCMC has uncorrelated paramters, proposal width given by prop_sigmas\u001b[0m\u001b[0;34m\u001b[0m\u001b[0m\n\u001b[1;32m    502\u001b[0m             new_s = MCMC(like, startProposal=prop_sigmas, nMC=0,\n",
      "\u001b[0;32m/Volumes/Data/Users/jaffe/home/proj/stats/MCMC/MCMC.pyc\u001b[0m in \u001b[0;36m__init__\u001b[0;34m(self, like, proposal, startProposal, nMC, startParams, doBlock)\u001b[0m\n\u001b[1;32m    118\u001b[0m         \u001b[0;32mif\u001b[0m \u001b[0mstartParams\u001b[0m \u001b[0;32mis\u001b[0m \u001b[0;32mnot\u001b[0m \u001b[0mNone\u001b[0m\u001b[0;34m:\u001b[0m\u001b[0;34m\u001b[0m\u001b[0m\n\u001b[1;32m    119\u001b[0m             \u001b[0;32mtry\u001b[0m\u001b[0;34m:\u001b[0m\u001b[0;34m\u001b[0m\u001b[0m\n\u001b[0;32m--> 120\u001b[0;31m                 \u001b[0mself\u001b[0m\u001b[0;34m.\u001b[0m\u001b[0msetStart\u001b[0m\u001b[0;34m(\u001b[0m\u001b[0mstartParams\u001b[0m\u001b[0;34m)\u001b[0m\u001b[0;34m\u001b[0m\u001b[0m\n\u001b[0m\u001b[1;32m    121\u001b[0m             \u001b[0;32mexcept\u001b[0m \u001b[0mZeroPriorError\u001b[0m\u001b[0;34m:\u001b[0m\u001b[0;34m\u001b[0m\u001b[0m\n\u001b[1;32m    122\u001b[0m                 \u001b[0;32mprint\u001b[0m \u001b[0;34m\"Can't start at\"\u001b[0m\u001b[0;34m,\u001b[0m \u001b[0mstartParams\u001b[0m\u001b[0;34m,\u001b[0m \u001b[0;34m\": prior = 0\"\u001b[0m\u001b[0;34m\u001b[0m\u001b[0m\n",
      "\u001b[0;32m/Volumes/Data/Users/jaffe/home/proj/stats/MCMC/MCMC.pyc\u001b[0m in \u001b[0;36msetStart\u001b[0;34m(self, params, random, verbose)\u001b[0m\n\u001b[1;32m    148\u001b[0m             \u001b[0mi_restart\u001b[0m \u001b[0;34m=\u001b[0m \u001b[0;36m0\u001b[0m\u001b[0;34m\u001b[0m\u001b[0m\n\u001b[1;32m    149\u001b[0m             \u001b[0;32mwhile\u001b[0m \u001b[0mprior\u001b[0m \u001b[0;34m<=\u001b[0m \u001b[0;36m0\u001b[0m\u001b[0;34m:\u001b[0m\u001b[0;34m\u001b[0m\u001b[0m\n\u001b[0;32m--> 150\u001b[0;31m                 \u001b[0mnewparams\u001b[0m \u001b[0;34m=\u001b[0m \u001b[0mself\u001b[0m\u001b[0;34m.\u001b[0m\u001b[0mprop\u001b[0m\u001b[0;34m.\u001b[0m\u001b[0mgetNewParams\u001b[0m\u001b[0;34m(\u001b[0m\u001b[0mparams\u001b[0m\u001b[0;34m)\u001b[0m      \u001b[0;31m### want to resample all parameters each time, even if doBlock=True\u001b[0m\u001b[0;34m\u001b[0m\u001b[0m\n\u001b[0m\u001b[1;32m    151\u001b[0m                                                                 \u001b[0;31m### nb. always start at the given params\u001b[0m\u001b[0;34m\u001b[0m\u001b[0;34m\u001b[0m\u001b[0m\n\u001b[1;32m    152\u001b[0m                 \u001b[0mparamarr\u001b[0m \u001b[0;34m=\u001b[0m \u001b[0mself\u001b[0m\u001b[0;34m.\u001b[0m\u001b[0mlike\u001b[0m\u001b[0;34m.\u001b[0m\u001b[0mmodel\u001b[0m\u001b[0;34m.\u001b[0m\u001b[0munpackage\u001b[0m\u001b[0;34m(\u001b[0m\u001b[0mnewparams\u001b[0m\u001b[0;34m)\u001b[0m\u001b[0;34m\u001b[0m\u001b[0m\n",
      "\u001b[0;32m/Volumes/Data/Users/jaffe/home/proj/stats/MCMC/Proposal.pyc\u001b[0m in \u001b[0;36mgetNewParams\u001b[0;34m(self, prevParams, block)\u001b[0m\n\u001b[1;32m    155\u001b[0m \u001b[0;34m\u001b[0m\u001b[0m\n\u001b[1;32m    156\u001b[0m                 \u001b[0;32mif\u001b[0m \u001b[0mblock\u001b[0m \u001b[0;32mis\u001b[0m \u001b[0mNone\u001b[0m\u001b[0;34m:\u001b[0m\u001b[0;34m\u001b[0m\u001b[0m\n\u001b[0;32m--> 157\u001b[0;31m                     \u001b[0mself\u001b[0m\u001b[0;34m.\u001b[0m\u001b[0mnewParams\u001b[0m \u001b[0;34m+=\u001b[0m \u001b[0moffset\u001b[0m\u001b[0;34m\u001b[0m\u001b[0m\n\u001b[0m\u001b[1;32m    158\u001b[0m                 \u001b[0;32melse\u001b[0m\u001b[0;34m:\u001b[0m\u001b[0;34m\u001b[0m\u001b[0m\n\u001b[1;32m    159\u001b[0m                     \u001b[0mself\u001b[0m\u001b[0;34m.\u001b[0m\u001b[0mnewParams\u001b[0m\u001b[0;34m[\u001b[0m\u001b[0mblock\u001b[0m\u001b[0;34m]\u001b[0m \u001b[0;34m+=\u001b[0m \u001b[0moffset\u001b[0m\u001b[0;34m[\u001b[0m\u001b[0mblock\u001b[0m\u001b[0;34m]\u001b[0m\u001b[0;34m\u001b[0m\u001b[0m\n",
      "\u001b[0;31mKeyboardInterrupt\u001b[0m: "
     ]
    }
   ],
   "source": [
    "#%%px --noblock\n",
    "%run driver.py --format=DLC_2014 --fdir=./figs_DLC_2014_2 --odir=./out_DLC_2014_2 --file=./herus_phot.csv 0"
   ]
  },
  {
   "cell_type": "code",
   "execution_count": null,
   "metadata": {
    "collapsed": false
   },
   "outputs": [],
   "source": [
    "#%%px --noblock\n",
    "%run driver.py --format=DLC_2014 --fdir=./figs_DLC_2014_2 --odir=./out_DLC_2014_2 --file=./herus_phot.csv 1"
   ]
  },
  {
   "cell_type": "code",
   "execution_count": null,
   "metadata": {
    "collapsed": false
   },
   "outputs": [],
   "source": [
    "#%%px --noblock\n",
    "%run driver.py --format=DLC_2014 --fdir=./figs_DLC_2014_2 --odir=./out_DLC_2014_2 --file=./herus_phot.csv 2"
   ]
  },
  {
   "cell_type": "code",
   "execution_count": null,
   "metadata": {
    "collapsed": false
   },
   "outputs": [],
   "source": [
    "#%%px --noblock\n",
    "%run driver.py --format=DLC_2014 --fdir=./figs_DLC_2014_2 --odir=./out_DLC_2014_2 --file=./herus_phot.csv 3"
   ]
  },
  {
   "cell_type": "code",
   "execution_count": 6,
   "metadata": {
    "collapsed": false
   },
   "outputs": [
    {
     "name": "stdout",
     "output_type": "stream",
     "text": [
      "./DLC_2015/out_DLC_2015_1/check0.npy\n",
      "nobj, npar, ndat =  43 4 0\n",
      "./DLC_2015/out_DLC_2015_1/check1.npy\n",
      "nobj, npar, ndat =  43 3 0\n",
      "./DLC_2015/out_DLC_2015_1/check2.npy\n",
      "nobj, npar, ndat =  43 2 0\n",
      "./DLC_2015/out_DLC_2015_1/check3.npy\n",
      "nobj, npar, ndat =  43 6 0\n",
      "./DLC_2015/out_DLC_2015_1/check4.npy\n",
      "nobj, npar, ndat =  43 4 0\n",
      "nn, npar, ndat, nt =  43 4 0 2\n",
      "nn, npar, ndat, nt =  43 3 0 1\n",
      "nn, npar, ndat, nt =  43 2 0 1\n",
      "nn, npar, ndat, nt =  43 6 0 2\n",
      "nn, npar, ndat, nt =  43 4 0 1\n"
     ]
    }
   ],
   "source": [
    "reload(driver)\n",
    "ret123 = driver.writeTabAll([], fbase=\"DLC_2015\", dirname=\"./DLC_2015/out_DLC_2015_1/\", nodat=True, check=True)"
   ]
  }
 ],
 "metadata": {
  "kernelspec": {
   "display_name": "Python 2",
   "language": "python",
   "name": "python2"
  },
  "language_info": {
   "codemirror_mode": {
    "name": "ipython",
    "version": 2
   },
   "file_extension": ".py",
   "mimetype": "text/x-python",
   "name": "python",
   "nbconvert_exporter": "python",
   "pygments_lexer": "ipython2",
   "version": "2.7.10"
  }
 },
 "nbformat": 4,
 "nbformat_minor": 0
}
