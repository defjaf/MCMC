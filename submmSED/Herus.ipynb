{
 "cells": [
  {
   "cell_type": "code",
   "execution_count": 23,
   "metadata": {
    "collapsed": false
   },
   "outputs": [
    {
     "data": {
      "text/plain": [
       "[0, 1, 2, 3]"
      ]
     },
     "execution_count": 23,
     "metadata": {},
     "output_type": "execute_result"
    }
   ],
   "source": [
    "# from IPython import parallel\n",
    "# rc = parallel.Client()\n",
    "# dv = rc[:]\n",
    "# rc.ids"
   ]
  },
  {
   "cell_type": "code",
   "execution_count": 1,
   "metadata": {
    "collapsed": false
   },
   "outputs": [
    {
     "name": "stdout",
     "output_type": "stream",
     "text": [
      "min Temp = 3.000000 K; max Temp = 100.000000 K\n",
      "python version of blackbody\n"
     ]
    }
   ],
   "source": [
    "#%%px --local \n",
    "import os\n",
    "import sys\n",
    "sys.path.append(os.environ['HOME']+'/home/proj/stats/MCMC')\n",
    "os.environ['PYTHONPATH'] = os.environ['HOME']+'/home/proj/stats/MCMC'\n",
    "\n",
    "import csv\n",
    "\n",
    "import matplotlib.pyplot as plt\n",
    "import numpy as np\n",
    "import scipy as sp\n",
    "\n",
    "#%matplotlib inline\n",
    "import model\n",
    "import driver\n",
    "import data"
   ]
  },
  {
   "cell_type": "code",
   "execution_count": 4,
   "metadata": {
    "collapsed": false
   },
   "outputs": [],
   "source": [
    "### read the file of fluxes and errors\n",
    "### could make a numpy record array instead of separate ones for name, z, err, flux?\n",
    "### nb. this version has the same length for each row\n",
    "\n",
    "herus_file = \"herus_phot.csv\"\n",
    "herus_file = \"herus_phot_csv.csv\"\n",
    "\n",
    "\n",
    "speed_of_light = 299792.458 ### micron GHz\n",
    "\n",
    "def toFloat(s):\n",
    "    return np.float(s) if s!='' else np.nan\n",
    "\n",
    "names = []\n",
    "zarr = []\n",
    "fluxes = []\n",
    "errs = []\n",
    "with open(herus_file, \"rb\") as csvfile:\n",
    "    hreader = csv.reader(csvfile)\n",
    "    headers = hreader.next()\n",
    "    ncol = len(headers)\n",
    "    name_column = headers=='Name'\n",
    "    z_column = headers=='Redshift'\n",
    "    flux_columns = [i for i in range(ncol) if headers[i].startswith('F')]\n",
    "    err_columns = [i for i in range(ncol) if headers[i].startswith('E')]\n",
    "    lambdas = speed_of_light/np.array([float(headers[i].split('_')[0][1:]) for i in flux_columns])  ### lambda in um\n",
    "    lambdas_err = speed_of_light/np.array([float(headers[i].split('_')[0][1:]) for i in flux_columns])\n",
    "    assert(np.all(lambdas==lambdas_err))   ### check correct order\n",
    "    \n",
    "    for row in hreader:\n",
    "        names.append(row[name_column])\n",
    "        zarr.append(row[z_column])\n",
    "        fluxes.append([toFloat(row[c]) for c in flux_columns])\n",
    "        errs.append([toFloat(row[c]) for c in err_columns])\n"
   ]
  },
  {
   "cell_type": "code",
   "execution_count": 32,
   "metadata": {
    "collapsed": false
   },
   "outputs": [],
   "source": [
    "### read the file of fluxes and errors\n",
    "### could make a numpy record array instead of separate ones for name, z, err, flux?\n",
    "### nb. this version deletes nonexistent entries, but puts err=np.nan if there is a flux but no entry\n",
    "#### used in driver.py: readfluxes_DLC_2014\n",
    "import re\n",
    "Epat = r'^E\\d+_'\n",
    "Fpat = r'^F\\d+_'\n",
    "UL25 = True\n",
    "fluxes = []\n",
    "errs = []\n",
    "names = []\n",
    "zarr = []\n",
    "with open(herus_file, \"rb\") as csvfile:\n",
    "    hreader = csv.reader(csvfile)\n",
    "    headers = np.array(hreader.next())\n",
    "    ncol = len(headers)\n",
    "    name_column = np.where(headers=='Name')[0][0]\n",
    "    z_column = np.where(headers=='Redshift')[0][0]\n",
    "    flux_columns = np.array([i for i in range(ncol) if re.match(Fpat, headers[i])])\n",
    "    err_columns = np.array([i for i in range(ncol) if re.match(Epat, headers[i])])\n",
    "    assert np.all(err_columns == flux_columns+1)\n",
    "\n",
    "    lambda_obs = np.array([float(headers[i].split('_')[0][1:]) for i in flux_columns])  ### Freq in GHz\n",
    "    lambda_err = np.array([float(headers[i].split('_')[0][1:]) for i in flux_columns])\n",
    "    assert(np.all(lambda_obs==lambda_err))   ### check correct order\n",
    "    \n",
    "    for row in hreader:\n",
    "        row = np.asarray(row)\n",
    "        if np.all(row==''): continue  ## ignore blank lines\n",
    "        z = np.float(row[z_column])\n",
    "        dat = zip(row[flux_columns], row[err_columns], lambda_obs)\n",
    "        dat_compressed = np.array([[np.float(f), toFloat(e), l] for f,e,l in dat if f!=''])\n",
    "        #flux = np.array([np.float(c) for c in row[flux_columns] if c!=''])\n",
    "        #err = np.array([np.float(c) for c in row[err_columns] if c!=''])\n",
    "        flux = np.array(dat_compressed[:,0])\n",
    "        sig = np.array(dat_compressed[:,1])\n",
    "        lambda_obs_1 = np.array(dat_compressed[:,2])\n",
    "        \n",
    "        nu_obs = speed_of_light/lambda_obs_1\n",
    "        if UL25:\n",
    "            l25 = np.where(np.round(lambda_obs_1)==25)[0]\n",
    "            if l25:\n",
    "                sig[l25] = flux[l25]\n",
    "                flux[l25] = 0\n",
    "\n",
    "        nu_rest = nu_obs*(1+z)\n",
    "\n",
    "        names.append(row[name_column])\n",
    "        zarr.append(z)\n",
    "        fluxes.append(flux)\n",
    "        errs.append(sig)\n",
    "\n",
    "elens = [len(e) for e in errs]\n"
   ]
  },
  {
   "cell_type": "code",
   "execution_count": 5,
   "metadata": {
    "collapsed": false
   },
   "outputs": [
    {
     "name": "stdout",
     "output_type": "stream",
     "text": [
      "['IRAS00188-0856', 'IRAS00397-1312', 'IRAS01003-2238', 'IRAS03158+4227', 'IRAS03521+0028', 'IRAS05189-2524', 'IRAS06035-7102', 'IRAS06206-6315', 'IRAS07598+6508', 'IRAS08311-2459', 'IRAS08572+3915', 'IRAS09022-3615', 'IRAS10378+1109', 'IRAS10565+2448', 'IRAS11095-0238', 'IRAS12071-0444', 'IRAS13120-5453', 'IRAS13451+1232', 'IRAS14348-1447', 'IRAS14378-3651', 'IRAS15250+3609', 'IRAS15462-0450', 'IRAS16090-0139', 'IRAS17208-0014', 'IRAS19254-7245', 'IRAS19297-0406', 'IRAS20087-0308', 'IRAS20100-4156', 'IRAS20414-1651', 'IRAS20551-4250', 'IRAS22491-1808', 'IRAS23128-5919', 'IRAS23230-6926', 'IRAS23253-5415', 'IRAS23365+3604', 'Mrk1014', 'UGC5101', '3C273', 'Mrk231', 'Mrk273', 'Mrk463', 'Arp220-short', 'NGC6240', 'Arp220']\n",
      "Arp220-short [  85.64651107   76.28        123.71         30.4137       12.0643\n",
      "    4.1448      103.8         112.4           0.832         6.286     ] 0.018\n",
      "Arp220 [  30.1     11.7      3.9      2.2      4.3      7.6     12.2     18.4\n",
      "   24.4     32.2     39.7     50.9    120.9    134.2    148.1    151.4\n",
      "  118.4    100.2     84.5     77.1      0.     104.1    115.3      6.29\n",
      "    0.832    0.35     0.226] 0.018\n"
     ]
    }
   ],
   "source": [
    "reload(data)\n",
    "d = data.readfluxes_DLC_2014(filename=herus_file)\n",
    "d1 = d[1]\n",
    "print [di.name for di in d]\n",
    "print d[-3].name, d[-3].d, d[-3].z\n",
    "print d[-1].name, d[-1].d, d[-1].z, d[-1]."
   ]
  },
  {
   "cell_type": "code",
   "execution_count": 39,
   "metadata": {
    "collapsed": false
   },
   "outputs": [
    {
     "name": "stdout",
     "output_type": "stream",
     "text": [
      "Populating the interactive namespace from numpy and matplotlib\n",
      "IRAS09022-3615\n"
     ]
    },
    {
     "data": {
      "text/plain": [
       "<Container object of 3 artists>"
      ]
     },
     "execution_count": 39,
     "metadata": {},
     "output_type": "execute_result"
    },
    {
     "data": {
      "application/pdf": "[encoded data removed]",
      "image/png": "[encoded data removed]",
      "text/plain": [
       "<matplotlib.figure.Figure at 0x113c5fa90>"
      ]
     },
     "metadata": {
      "image/png": {
       "height": 255,
       "width": 380
      }
     },
     "output_type": "display_data"
    }
   ],
   "source": [
    "%pylab inline\n",
    "dm1 = d[11]\n",
    "print dm1.name\n",
    "# np.sort((data.speed_of_light/dm1.freq))\n",
    "# len(dm1.d)\n",
    "plt.loglog(speed_of_light/dm1.freq, dm1.d, '.')\n",
    "plt.errorbar(speed_of_light/dm1.freq, dm1.d, dm1.sig, fmt='.')"
   ]
  },
  {
   "cell_type": "code",
   "execution_count": 26,
   "metadata": {
    "collapsed": false
   },
   "outputs": [
    {
     "name": "stdout",
     "output_type": "stream",
     "text": [
      "normal behaviour\n",
      "filename: ./herus_phot.csv\n",
      "fig dir: ./figs_DLC_2014_2/\n",
      "out dir: ./out_DLC_2014_2/\n",
      "data range None\n",
      "DLC_UL = 1\n",
      "format = 0\n",
      "filetype = DLC_2014\n",
      "which= [3, 2, 1, 0]\n",
      "Using file ./herus_phot.csv\n",
      "keywords: {'random': True, 'randomrestart': True, 'filetype': 'DLC_2014', 'format': 0, 'DLC_ul': True}\n",
      "Two-Component beta = 2\n",
      "Object[s] IRAS00188-0856(z=0.128)\n",
      "Number of prior resamples: 3\n",
      "100%|#########################################################################|\n",
      "done with chain 0. naccept=5159 (0.343910)\n",
      "per block:  [  26 2501   31   20 2501   85]\n",
      "100%|#########################################################################|\n",
      "100%|#########################################################################|\n",
      "done with chain 1. naccept=111950 (0.373165)\n",
      "per block:  [  600 50001  3335  3289 50001  4729]\n",
      "chi2 at max = 52.358497\n",
      "Max ln likelihood -26.179249 at parameters:\n",
      "[  0.29099038   2.          25.8381222   -1.41406116   2.          58.90817979]\n",
      "            \\log A_1 mean = 0.309956 +- 0.0941284\n",
      "                 T_1 mean = 23.8954 +- 2.59153\n",
      "            \\log A_2 mean = -0.984571 +- 0.449401\n",
      "                 T_2 mean = 49.9964 +- 9.04529\n",
      "ln Pr of mean = -69.743903\n",
      "chi2(mean) = 139.487807\n",
      "Object[s] IRAS00397-1312(z=0.262)\n",
      "100%|#########################################################################|\n",
      "done with chain 0. naccept=5474 (0.364909)\n",
      "per block:  [ 110 2501  209   14 2501  144]\n",
      "100%|#########################################################################|\n",
      "100%|#########################################################################|\n",
      "done with chain 1. naccept=156231 (0.520768)\n",
      "per block:  [22039 50001 22020  3791 50001  8384]\n",
      "chi2 at max = 61.940780\n",
      "Max ln likelihood -30.970390 at parameters:\n",
      "[ -0.44865625   2.          32.86953001  -2.23558879   2.          80.23698852]\n",
      "            \\log A_1 mean = -109.766 +- 152.994\n",
      "                 T_1 mean = 25.9327 +- 8.87034\n",
      "            \\log A_2 mean = -1.17843 +- 0.713937\n",
      "                 T_2 mean = 53.0946 +- 17.9015\n",
      "ln Pr of mean = -1790.605126\n",
      "chi2(mean) = 3581.210252\n",
      "Object[s] IRAS01003-2238(z=0.118)\n",
      "100%|#########################################################################|\n",
      "done with chain 0. naccept=5369 (0.357909)\n",
      "per block:  [  20 2501  142   13 2501  197]\n",
      "100%|#########################################################################|\n",
      "100%|#########################################################################|\n"
     ]
    },
    {
     "name": "stderr",
     "output_type": "stream",
     "text": [
      "/Library/Frameworks/Python.framework/Versions/2.7/lib/python2.7/site-packages/matplotlib/__init__.py:1318: UserWarning:  This call to matplotlib.use() has no effect\n",
      "because the backend has already been chosen;\n",
      "matplotlib.use() must be called *before* pylab, matplotlib.pyplot,\n",
      "or matplotlib.backends is imported for the first time.\n",
      "\n",
      "  warnings.warn(_use_error_msg)\n"
     ]
    },
    {
     "ename": "KeyboardInterrupt",
     "evalue": "",
     "output_type": "error",
     "traceback": [
      "\u001b[0;31m---------------------------------------------------------------------------\u001b[0m",
      "\u001b[0;31mKeyboardInterrupt\u001b[0m                         Traceback (most recent call last)",
      "\u001b[0;32m/Users/jaffe/home/proj/stats/MCMC/submmSED/driver.py\u001b[0m in \u001b[0;36m<module>\u001b[0;34m()\u001b[0m\n\u001b[1;32m    677\u001b[0m \u001b[0;34m\u001b[0m\u001b[0m\n\u001b[1;32m    678\u001b[0m \u001b[0;32mif\u001b[0m \u001b[0m__name__\u001b[0m \u001b[0;34m==\u001b[0m \u001b[0;34m\"__main__\"\u001b[0m\u001b[0;34m:\u001b[0m\u001b[0;34m\u001b[0m\u001b[0m\n\u001b[0;32m--> 679\u001b[0;31m     \u001b[0msys\u001b[0m\u001b[0;34m.\u001b[0m\u001b[0mexit\u001b[0m\u001b[0;34m(\u001b[0m\u001b[0mmainmain\u001b[0m\u001b[0;34m(\u001b[0m\u001b[0;34m)\u001b[0m\u001b[0;34m)\u001b[0m\u001b[0;34m\u001b[0m\u001b[0m\n\u001b[0m\u001b[1;32m    680\u001b[0m \u001b[0;31m#\u001b[0m\u001b[0;34m\u001b[0m\u001b[0;34m\u001b[0m\u001b[0m\n\u001b[1;32m    681\u001b[0m \u001b[0;31m#\u001b[0m\u001b[0;34m\u001b[0m\u001b[0;34m\u001b[0m\u001b[0m\n",
      "\u001b[0;32m/Users/jaffe/home/proj/stats/MCMC/submmSED/driver.py\u001b[0m in \u001b[0;36mmainmain\u001b[0;34m(argv)\u001b[0m\n\u001b[1;32m    666\u001b[0m         \u001b[0;32mprint\u001b[0m \u001b[0;34m\"which=\"\u001b[0m\u001b[0;34m,\u001b[0m \u001b[0mwhich\u001b[0m\u001b[0;34m\u001b[0m\u001b[0m\n\u001b[1;32m    667\u001b[0m         ret = many(which, fdir=fdir, DLC_ul=DLC_ul, filetype=filetype, cdir=odir, idata=idata, next0=next0, \n\u001b[0;32m--> 668\u001b[0;31m                    fil=filename, format=format, random=random, randomrestart=randomrestart)\n\u001b[0m\u001b[1;32m    669\u001b[0m         \u001b[0;32mwith\u001b[0m \u001b[0mopen\u001b[0m\u001b[0;34m(\u001b[0m\u001b[0modir\u001b[0m\u001b[0;34m+\u001b[0m\u001b[0;34m\"out_\"\u001b[0m\u001b[0;34m+\u001b[0m\u001b[0;34m\"\"\u001b[0m\u001b[0;34m.\u001b[0m\u001b[0mjoin\u001b[0m\u001b[0;34m(\u001b[0m\u001b[0mstr\u001b[0m\u001b[0;34m(\u001b[0m\u001b[0mwhich\u001b[0m\u001b[0;34m)\u001b[0m\u001b[0;34m.\u001b[0m\u001b[0msplit\u001b[0m\u001b[0;34m(\u001b[0m\u001b[0;34m' '\u001b[0m\u001b[0;34m)\u001b[0m\u001b[0;34m)\u001b[0m\u001b[0;34m+\u001b[0m\u001b[0;34m\".pickle\"\u001b[0m\u001b[0;34m,\u001b[0m \u001b[0;34m'w'\u001b[0m\u001b[0;34m)\u001b[0m \u001b[0;32mas\u001b[0m \u001b[0mf\u001b[0m\u001b[0;34m:\u001b[0m\u001b[0;34m\u001b[0m\u001b[0m\n\u001b[1;32m    670\u001b[0m             \u001b[0mpickle\u001b[0m\u001b[0;34m.\u001b[0m\u001b[0mdump\u001b[0m\u001b[0;34m(\u001b[0m\u001b[0mret\u001b[0m\u001b[0;34m,\u001b[0m \u001b[0mf\u001b[0m\u001b[0;34m)\u001b[0m\u001b[0;34m\u001b[0m\u001b[0m\n",
      "\u001b[0;32m/Users/jaffe/home/proj/stats/MCMC/submmSED/driver.py\u001b[0m in \u001b[0;36mmany\u001b[0;34m(which, idata, nMC, fil, fdir, cdir, next0, **keywords)\u001b[0m\n\u001b[1;32m    279\u001b[0m                     \u001b[0mstart\u001b[0m\u001b[0;34m=\u001b[0m\u001b[0;34m(\u001b[0m\u001b[0;36m1\u001b[0m\u001b[0;34m,\u001b[0m\u001b[0;36m2.\u001b[0m\u001b[0;34m,\u001b[0m\u001b[0;36m10\u001b[0m\u001b[0;34m,\u001b[0m\u001b[0;36m0.1\u001b[0m\u001b[0;34m,\u001b[0m\u001b[0;36m2.\u001b[0m\u001b[0;34m,\u001b[0m\u001b[0;36m20\u001b[0m\u001b[0;34m)\u001b[0m\u001b[0;34m,\u001b[0m \u001b[0msigmas\u001b[0m\u001b[0;34m=\u001b[0m\u001b[0;34m(\u001b[0m\u001b[0msA\u001b[0m\u001b[0;34m,\u001b[0m\u001b[0;36m0\u001b[0m\u001b[0;34m,\u001b[0m\u001b[0msT\u001b[0m\u001b[0;34m)\u001b[0m\u001b[0;34m*\u001b[0m\u001b[0;36m2\u001b[0m\u001b[0;34m,\u001b[0m \u001b[0mretMCMC\u001b[0m\u001b[0;34m=\u001b[0m\u001b[0mFalse\u001b[0m\u001b[0;34m,\u001b[0m\u001b[0;34m\u001b[0m\u001b[0m\n\u001b[1;32m    280\u001b[0m                     \u001b[0mnMC\u001b[0m\u001b[0;34m=\u001b[0m\u001b[0mnMC\u001b[0m\u001b[0;34m,\u001b[0m \u001b[0monecomponent\u001b[0m\u001b[0;34m=\u001b[0m\u001b[0mFalse\u001b[0m\u001b[0;34m,\u001b[0m \u001b[0mfig0\u001b[0m\u001b[0;34m=\u001b[0m\u001b[0;36m0\u001b[0m\u001b[0;34m,\u001b[0m \u001b[0msavefig\u001b[0m\u001b[0;34m=\u001b[0m\u001b[0;34m\"_2comp_b2\"\u001b[0m\u001b[0;34m,\u001b[0m \u001b[0mfdir\u001b[0m\u001b[0;34m=\u001b[0m\u001b[0mfdir\u001b[0m\u001b[0;34m,\u001b[0m\u001b[0;34m\u001b[0m\u001b[0m\n\u001b[0;32m--> 281\u001b[0;31m                     check=cdir+\"check0.npy\", next0=next0, **keywords)\n\u001b[0m\u001b[1;32m    282\u001b[0m \u001b[0;34m\u001b[0m\u001b[0m\n\u001b[1;32m    283\u001b[0m     \u001b[0;32mif\u001b[0m \u001b[0;36m1\u001b[0m \u001b[0;32min\u001b[0m \u001b[0mwhich\u001b[0m\u001b[0;34m:\u001b[0m\u001b[0;34m\u001b[0m\u001b[0m\n",
      "\u001b[0;32m/Users/jaffe/home/proj/stats/MCMC/submmSED/driver.py\u001b[0m in \u001b[0;36mmain\u001b[0;34m(filename, i, rotateParams, onecomponent, getNorm, start, sigmas, nMC, nDerived, noPlots, fig0, savefig, retMCMC, opticallyThick, random, randomrestart, fdir, logplot, DLC_ul, check, next0, format, filetype)\u001b[0m\n\u001b[1;32m    157\u001b[0m         mcmc, ana = MCMC.sampler(like, nMC, prop_sigmas, start_params, plotter=None,\n\u001b[1;32m    158\u001b[0m                             \u001b[0mfac\u001b[0m\u001b[0;34m=\u001b[0m\u001b[0mNone\u001b[0m\u001b[0;34m,\u001b[0m \u001b[0mnoCorrelations\u001b[0m\u001b[0;34m=\u001b[0m\u001b[0mTrue\u001b[0m\u001b[0;34m,\u001b[0m \u001b[0mdoBlock\u001b[0m\u001b[0;34m=\u001b[0m\u001b[0mTrue\u001b[0m\u001b[0;34m,\u001b[0m \u001b[0mrotateParams\u001b[0m\u001b[0;34m=\u001b[0m\u001b[0mrotateParams\u001b[0m\u001b[0;34m,\u001b[0m\u001b[0;34m\u001b[0m\u001b[0m\n\u001b[0;32m--> 159\u001b[0;31m                             randomrestart=randomrestart)\n\u001b[0m\u001b[1;32m    160\u001b[0m \u001b[0;34m\u001b[0m\u001b[0m\n\u001b[1;32m    161\u001b[0m         \u001b[0;32mif\u001b[0m \u001b[0;32mnot\u001b[0m \u001b[0mnoPlots\u001b[0m\u001b[0;34m:\u001b[0m\u001b[0;34m\u001b[0m\u001b[0m\n",
      "\u001b[0;32m/Users/jaffe/home/proj/stats/MCMC/MCMC.pyc\u001b[0m in \u001b[0;36msampler\u001b[0;34m(like, nMC, prop_sigmas, start_params, plotter, fac, noCorrelations, doBlock, rotateParams, randomrestart)\u001b[0m\n\u001b[1;32m    514\u001b[0m         \u001b[0mburnfrac\u001b[0m \u001b[0;34m=\u001b[0m \u001b[0mnMC1\u001b[0m\u001b[0;34m\u001b[0m\u001b[0m\n\u001b[1;32m    515\u001b[0m \u001b[0;34m\u001b[0m\u001b[0m\n\u001b[0;32m--> 516\u001b[0;31m         \u001b[0;32mwhile\u001b[0m \u001b[0mTrue\u001b[0m\u001b[0;34m:\u001b[0m\u001b[0;34m\u001b[0m\u001b[0m\n\u001b[0m\u001b[1;32m    517\u001b[0m             \u001b[0mnew_s\u001b[0m\u001b[0;34m.\u001b[0m\u001b[0mMC_append\u001b[0m\u001b[0;34m(\u001b[0m\u001b[0mnMC1\u001b[0m\u001b[0;34m)\u001b[0m\u001b[0;34m\u001b[0m\u001b[0m\n\u001b[1;32m    518\u001b[0m             print \"done with chain %d. naccept=%d (%f)\" % (\n",
      "\u001b[0;32m/Users/jaffe/home/proj/stats/MCMC/MCMC.pyc\u001b[0m in \u001b[0;36mMC_append\u001b[0;34m(self, nMC)\u001b[0m\n\u001b[1;32m    206\u001b[0m         \u001b[0;32mwith\u001b[0m \u001b[0mfinishing\u001b[0m\u001b[0;34m(\u001b[0m\u001b[0mProgressBar\u001b[0m\u001b[0;34m(\u001b[0m\u001b[0;34m)\u001b[0m\u001b[0;34m.\u001b[0m\u001b[0mstart\u001b[0m\u001b[0;34m(\u001b[0m\u001b[0;34m)\u001b[0m\u001b[0;34m)\u001b[0m \u001b[0;32mas\u001b[0m \u001b[0mpbar\u001b[0m\u001b[0;34m:\u001b[0m\u001b[0;34m\u001b[0m\u001b[0m\n\u001b[1;32m    207\u001b[0m             \u001b[0;32mfor\u001b[0m \u001b[0mi\u001b[0m \u001b[0;32min\u001b[0m \u001b[0mxrange\u001b[0m\u001b[0;34m(\u001b[0m\u001b[0mnMC\u001b[0m\u001b[0;34m)\u001b[0m\u001b[0;34m:\u001b[0m  \u001b[0;31m## do with comprehension?\u001b[0m\u001b[0;34m\u001b[0m\u001b[0m\n\u001b[0;32m--> 208\u001b[0;31m                 \u001b[0msamples\u001b[0m\u001b[0;34m,\u001b[0m \u001b[0mnewlnPr\u001b[0m\u001b[0;34m[\u001b[0m\u001b[0mi\u001b[0m\u001b[0;34m]\u001b[0m\u001b[0;34m,\u001b[0m \u001b[0mnewaccepted\u001b[0m\u001b[0;34m[\u001b[0m\u001b[0mi\u001b[0m\u001b[0;34m]\u001b[0m\u001b[0;34m,\u001b[0m \u001b[0mderived\u001b[0m \u001b[0;34m=\u001b[0m \u001b[0mself\u001b[0m\u001b[0;34m.\u001b[0m\u001b[0msample\u001b[0m\u001b[0;34m(\u001b[0m\u001b[0;34m)\u001b[0m\u001b[0;34m\u001b[0m\u001b[0m\n\u001b[0m\u001b[1;32m    209\u001b[0m                 \u001b[0;32mif\u001b[0m \u001b[0mself\u001b[0m\u001b[0;34m.\u001b[0m\u001b[0mnDerived\u001b[0m\u001b[0;34m:\u001b[0m\u001b[0;34m\u001b[0m\u001b[0m\n\u001b[1;32m    210\u001b[0m                     \u001b[0mnewDerived\u001b[0m\u001b[0;34m[\u001b[0m\u001b[0mi\u001b[0m\u001b[0;34m]\u001b[0m \u001b[0;34m=\u001b[0m \u001b[0mderived\u001b[0m\u001b[0;34m\u001b[0m\u001b[0m\n",
      "\u001b[0;31mKeyboardInterrupt\u001b[0m: "
     ]
    }
   ],
   "source": [
    "#%matplotlib osx\n",
    "%run driver.py --format=DLC_2014 --fdir=./figs_DLC_2014_2 --odir=./out_DLC_2014_2 --file=./herus_phot.csv 0 1 2 3"
   ]
  },
  {
   "cell_type": "code",
   "execution_count": 2,
   "metadata": {
    "collapsed": true
   },
   "outputs": [
    {
     "name": "stderr",
     "output_type": "stream",
     "text": [
      "/Volumes/Data/Users/jaffe/Library/Python/2.7/lib/python/site-packages/matplotlib-1.3.1-py2.7-macosx-10.6-intel.egg/matplotlib/__init__.py:1155: UserWarning:  This call to matplotlib.use() has no effect\n",
      "because the backend has already been chosen;\n",
      "matplotlib.use() must be called *before* pylab, matplotlib.pyplot,\n",
      "or matplotlib.backends is imported for the first time.\n",
      "\n",
      "  warnings.warn(_use_error_msg)\n"
     ]
    },
    {
     "name": "stdout",
     "output_type": "stream",
     "text": [
      "normal behaviour\n",
      "filename: ./herus_phot.csv\n",
      "fig dir: ./figs_DLC_2014_2/\n",
      "out dir: ./out_DLC_2014_2/\n",
      "data range None\n",
      "DLC_UL = 1\n",
      "format = 0\n",
      "filetype = DLC_2014\n",
      "which= [0]\n",
      "Using file ./herus_phot.csv\n",
      "keywords: {'random': True, 'randomrestart': True, 'filetype': 'DLC_2014', 'format': 0, 'DLC_ul': True}\n",
      "Two-Component beta = 2\n",
      "Object[s] IRAS00188-0856(z=0.128)\n",
      "Number of prior resamples: 2\n",
      "done with chain 0. naccept=5202 (0.346777)"
     ]
    },
    {
     "name": "stderr",
     "output_type": "stream",
     "text": [
      "100% |########################################################################|\n",
      "100% |########################################################################|\n"
     ]
    },
    {
     "name": "stdout",
     "output_type": "stream",
     "text": [
      "\n",
      "per block:  [   8 2501   90   16 2501   91]\n",
      "Number of prior resamples: 213\n",
      "done with chain 1. naccept=200161 (0.667201)\n",
      "per block:  [ 1468 50001  1070 49999 50001 47627]\n",
      "chi2 at max = 23.960476\n",
      "Max ln likelihood -11.980238 at parameters:\n",
      "[   0.11958923    2.           31.6869833  -108.35336389    2.\n",
      "   42.34247664]\n",
      "            \\log A_1 mean = 0.115103 +- 0.0432487\n",
      "                 T_1 mean = 31.8705 +- 1.58634\n",
      "            \\log A_2 mean = -59.1526 +- 22.238\n",
      "                 T_2 mean = 65.4563 +- 19.4743\n",
      "ln Pr of mean = -12.250167\n",
      "chi2(mean) = 24.500333\n",
      "Object[s] IRAS00397-1312(z=0.262)"
     ]
    },
    {
     "name": "stderr",
     "output_type": "stream",
     "text": [
      "100% |########################################################################|\n"
     ]
    },
    {
     "name": "stdout",
     "output_type": "stream",
     "text": [
      "\n",
      "done with chain 0. naccept=8828 (0.588494)"
     ]
    },
    {
     "name": "stderr",
     "output_type": "stream",
     "text": [
      "100% |########################################################################|\n",
      "100% |########################################################################|\n"
     ]
    },
    {
     "name": "stdout",
     "output_type": "stream",
     "text": [
      "\n",
      "per block:  [2300 2501 1499    9 2501   23]\n",
      "done with chain 1. naccept=236271 (0.787567)\n",
      "per block:  [49971 50001 44661 12544 50001 29098]\n",
      "chi2 at max = 11.697852\n",
      "Max ln likelihood -5.848926 at parameters:\n",
      "[ -1.9356365    2.          34.72607573  -0.67132276   2.          42.47053231]\n",
      "            \\log A_1 mean = -11760 +- 5001.49\n",
      "                 T_1 mean = 22.715 +- 11.3212\n",
      "            \\log A_2 mean = -0.643731 +- 0.0493647\n",
      "                 T_2 mean = 41.9423 +- 1.5708\n",
      "ln Pr of mean = -6.022750\n",
      "chi2(mean) = 12.045499\n",
      "Object[s] IRAS01003-2238(z=0.118)"
     ]
    },
    {
     "name": "stderr",
     "output_type": "stream",
     "text": [
      "100% |########################################################################|\n"
     ]
    },
    {
     "name": "stdout",
     "output_type": "stream",
     "text": [
      "\n",
      "done with chain 0. naccept=9503 (0.633491)"
     ]
    },
    {
     "name": "stderr",
     "output_type": "stream",
     "text": [
      "100% |########################################################################|\n",
      "100% |########################################################################|\n"
     ]
    },
    {
     "name": "stdout",
     "output_type": "stream",
     "text": [
      "\n",
      "per block:  [2474 2501 1920   14 2501   98]\n",
      "Number of prior resamples: 16\n",
      "done with chain 1. naccept=206000 (0.686664)\n",
      "per block:  [49806 50001 41807  5472 50001  8918]\n",
      "chi2 at max = 2.705686\n",
      "Max ln likelihood -1.352843 at parameters:\n",
      "[ -2.00920507   2.          31.02827203  -0.80349325   2.          45.0750897 ]\n",
      "            \\log A_1 mean = -5067.89 +- 4584.43\n",
      "                 T_1 mean = 23.6373 +- 12.0467\n",
      "            \\log A_2 mean = -0.787713 +- 0.0184037\n",
      "                 T_2 mean = 44.8595 +- 0.828058\n",
      "ln Pr of mean = -1.390887\n",
      "chi2(mean) = 2.781773\n",
      "Object[s] IRAS03158+4227(z=0.134)"
     ]
    },
    {
     "name": "stderr",
     "output_type": "stream",
     "text": [
      "100% |########################################################################|\n"
     ]
    },
    {
     "name": "stdout",
     "output_type": "stream",
     "text": [
      "\n",
      "Number of prior resamples: 7\n",
      "done with chain 0. naccept=9811 (0.654023)"
     ]
    },
    {
     "name": "stderr",
     "output_type": "stream",
     "text": [
      "100% |########################################################################|\n",
      "100% |########################################################################|\n"
     ]
    },
    {
     "name": "stdout",
     "output_type": "stream",
     "text": [
      "\n",
      "per block:  [  18 2501   27 2497 2501 2272]\n",
      "done with chain 1. naccept=132461 (0.441535)\n",
      "per block:  [  259 50001  3101 15056 50001 14048]\n",
      "chi2 at max = 29.173054\n",
      "Max ln likelihood -14.586527 at parameters:\n",
      "[  0.27708598   2.          27.35767051  -1.5866489    2.          68.77885618]\n",
      "            \\log A_1 mean = 0.461361 +- 0.192033\n",
      "                 T_1 mean = 24.0311 +- 2.88674\n",
      "            \\log A_2 mean = -484.486 +- 898.706\n",
      "                 T_2 mean = 69.4807 +- 14.6528\n",
      "ln Pr of mean = -125.142726\n",
      "chi2(mean) = 250.285452\n",
      "Object[s] IRAS03521+0028(z=0.152)"
     ]
    },
    {
     "name": "stderr",
     "output_type": "stream",
     "text": [
      "100% |########################################################################|\n"
     ]
    },
    {
     "name": "stdout",
     "output_type": "stream",
     "text": [
      "\n",
      "done with chain 0. naccept=5196 (0.346377)"
     ]
    },
    {
     "name": "stderr",
     "output_type": "stream",
     "text": [
      "100% |########################################################################|\n",
      "100% |########################################################################|\n"
     ]
    },
    {
     "name": "stdout",
     "output_type": "stream",
     "text": [
      "\n",
      "per block:  [  14 2501  144    3 2501   38]\n",
      "done with chain 1. naccept=159644 (0.532145)\n",
      "per block:  [26443 50001 11772  5575 50001 15857]\n",
      "chi2 at max = 0.021230\n",
      "Max ln likelihood -0.010615 at parameters:\n",
      "[  0.43393546   2.          11.64795548  -0.22480234   2.          38.07681331]\n",
      "            \\log A_1 mean = 0.454932 +- 0.280938\n",
      "                 T_1 mean = 11.8827 +- 2.84225\n",
      "            \\log A_2 mean = -0.222166 +- 0.0380794\n",
      "                 T_2 mean = 37.869 +- 0.913049\n",
      "ln Pr of mean = -1.840032\n",
      "chi2(mean) = 3.680065\n",
      "Object[s] IRAS05189-2524(z=0.043)"
     ]
    },
    {
     "name": "stderr",
     "output_type": "stream",
     "text": [
      "100% |########################################################################|\n"
     ]
    },
    {
     "name": "stdout",
     "output_type": "stream",
     "text": [
      "\n",
      "Number of prior resamples: 5\n",
      "done with chain 0. naccept=5069 (0.337911)"
     ]
    },
    {
     "name": "stderr",
     "output_type": "stream",
     "text": [
      "100% |########################################################################|\n",
      "100% |########################################################################|\n"
     ]
    },
    {
     "name": "stdout",
     "output_type": "stream",
     "text": [
      "\n",
      "per block:  [  15 2501   30    7 2501   20]\n",
      "done with chain 1. naccept=104837 (0.349456)\n",
      "per block:  [  353 50001  3309   361 50001   817]\n",
      "chi2 at max = 30.364782\n",
      "Max ln likelihood -15.182391 at parameters:\n",
      "[  0.51905197   2.          28.71931567  -0.40037455   2.          50.74844815]\n",
      "            \\log A_1 mean = 0.528433 +- 0.0531746\n",
      "                 T_1 mean = 28.4128 +- 1.0239\n",
      "            \\log A_2 mean = -0.388282 +- 0.0123816\n",
      "                 T_2 mean = 50.5869 +- 0.32503\n",
      "ln Pr of mean = -16.089968\n",
      "chi2(mean) = 32.179936\n",
      "Object[s] IRAS06035-7102(z=0.079)"
     ]
    },
    {
     "name": "stderr",
     "output_type": "stream",
     "text": [
      "100% |########################################################################|\n"
     ]
    },
    {
     "name": "stdout",
     "output_type": "stream",
     "text": [
      "\n",
      "done with chain 0. naccept=9447 (0.629758)"
     ]
    },
    {
     "name": "stderr",
     "output_type": "stream",
     "text": [
      "\n",
      "100% |########################################################################|\n"
     ]
    },
    {
     "name": "stdout",
     "output_type": "stream",
     "text": [
      "\n",
      "per block:  [2440 2501 1960   15 2501   35]\n",
      "done with chain 1. naccept=189883 (0.632941)\n",
      "per block:  [49810 50001 39143   435 50001   498]\n",
      "chi2 at max = 56.578722\n",
      "Max ln likelihood -28.289361 at parameters:\n",
      "[ -5.46509766e+03   2.00000000e+00   1.77059830e+01   1.47798881e-01\n",
      "   2.00000000e+00   3.63324307e+01]\n",
      "            \\log A_1 mean = -5267.24 +- 3776.79\n",
      "                 T_1 mean = 19.5924 +- 9.65681\n",
      "            \\log A_2 mean = 0.14781 +- 0.00352328\n",
      "                 T_2 mean = 36.3341 +- 0.10284\n",
      "ln Pr of mean = -28.285365\n",
      "chi2(mean) = 56.570731\n",
      "Object[s] IRAS06206-6315(z=0.092)"
     ]
    },
    {
     "name": "stderr",
     "output_type": "stream",
     "text": [
      "100% |########################################################################|\n"
     ]
    },
    {
     "name": "stdout",
     "output_type": "stream",
     "text": [
      "\n",
      "done with chain 0. naccept=9308 (0.620492)"
     ]
    },
    {
     "name": "stderr",
     "output_type": "stream",
     "text": [
      "100% |########################################################################|\n",
      "100% |########################################################################|\n"
     ]
    },
    {
     "name": "stdout",
     "output_type": "stream",
     "text": [
      "\n",
      "per block:  [2487 2501 1796    5 2501   23]\n",
      "done with chain 1. naccept=195525 (0.651748)\n",
      "per block:  [49729 50001 41054   406 50001  4339]\n",
      "chi2 at max = 100.857067\n",
      "Max ln likelihood -50.428534 at parameters:\n",
      "[ -1.47504222   2.          11.41587115   0.25874588   2.          33.43337096]\n",
      "            \\log A_1 mean = -4435.8 +- 3638.8\n",
      "                 T_1 mean = 18.0485 +- 8.65214\n",
      "            \\log A_2 mean = 0.270922 +- 0.0383887\n",
      "                 T_2 mean = 33.0403 +- 1.17325\n",
      "ln Pr of mean = -53.301520\n",
      "chi2(mean) = 106.603040\n",
      "Object[s] IRAS07598+6508(z=0.148)"
     ]
    },
    {
     "name": "stderr",
     "output_type": "stream",
     "text": [
      "100% |########################################################################|\n"
     ]
    },
    {
     "name": "stdout",
     "output_type": "stream",
     "text": [
      "\n",
      "done with chain 0. naccept=8930 (0.595294)"
     ]
    },
    {
     "name": "stderr",
     "output_type": "stream",
     "text": [
      "100% |########################################################################|\n",
      "100% |########################################################################|\n"
     ]
    },
    {
     "name": "stdout",
     "output_type": "stream",
     "text": [
      "\n",
      "per block:  [2465 2501 1427   13 2501   28]\n",
      "done with chain 1. naccept=217252 (0.724171)\n",
      "per block:  [49937 50001 44752  1278 50001 21288]\n",
      "chi2 at max = 39.276845\n",
      "Max ln likelihood -19.638423 at parameters:\n",
      "[ -8.41062879e+03   2.00000000e+00   7.82479355e+00  -2.59699817e-01\n",
      "   2.00000000e+00   3.56066778e+01]\n",
      "            \\log A_1 mean = -7915.7 +- 3594.3\n",
      "                 T_1 mean = 18.6324 +- 9.34564\n",
      "            \\log A_2 mean = -0.226661 +- 0.125409\n",
      "                 T_2 mean = 34.7447 +- 3.12435\n",
      "ln Pr of mean = -26.457693\n",
      "chi2(mean) = 52.915385\n",
      "Object[s] IRAS08311-2459(z=0.100)"
     ]
    },
    {
     "name": "stderr",
     "output_type": "stream",
     "text": [
      "100% |########################################################################|\n"
     ]
    },
    {
     "name": "stdout",
     "output_type": "stream",
     "text": [
      "\n",
      "Number of prior resamples: 28\n",
      "done with chain 0. naccept=5254 (0.350243)"
     ]
    },
    {
     "name": "stderr",
     "output_type": "stream",
     "text": [
      "100% |########################################################################|\n",
      "100% |########################################################################|\n"
     ]
    },
    {
     "name": "stdout",
     "output_type": "stream",
     "text": [
      "\n",
      "per block:  [  22 2501  108   16 2501  111]\n",
      "done with chain 1. naccept=103631 (0.345436)\n",
      "per block:  [  396 50001   856   899 50001  1483]\n",
      "chi2 at max = 2.571217\n",
      "Max ln likelihood -1.285608 at parameters:\n",
      "[  0.1499183    2.          25.99944821  -0.15839177   2.          39.61186553]\n",
      "            \\log A_1 mean = 0.108206 +- 0.0409967\n",
      "                 T_1 mean = 30.4994 +- 3.0882\n",
      "            \\log A_2 mean = -0.276059 +- 0.0792624\n",
      "                 T_2 mean = 38.5622 +- 1.81351\n",
      "ln Pr of mean = -7.747469\n",
      "chi2(mean) = 15.494938\n",
      "Object[s] IRAS08572+3915(z=0.058)"
     ]
    },
    {
     "name": "stderr",
     "output_type": "stream",
     "text": [
      "100% |########################################################################|\n"
     ]
    },
    {
     "name": "stdout",
     "output_type": "stream",
     "text": [
      "\n",
      "Number of prior resamples: 2\n",
      "done with chain 0. naccept=9583 (0.638824)"
     ]
    },
    {
     "name": "stderr",
     "output_type": "stream",
     "text": [
      "100% |########################################################################|\n",
      "100% |########################################################################|\n",
      "model.py:418: RuntimeWarning: overflow encountered in double_scalars\n",
      "  self.A1 = 10.0**logA1\n",
      "/Volumes/Data/Users/jaffe/home/proj/stats/MCMC/GaussianData.py:47: RuntimeWarning: overflow encountered in true_divide\n",
      "  return dot(A.transpose()/self.sig2,A)\n"
     ]
    },
    {
     "name": "stdout",
     "output_type": "stream",
     "text": [
      "\n",
      "per block:  [2465 2501 2077   16 2501   28]\n",
      "done with chain 1. naccept=191052 (0.636838)\n",
      "per block:  [49811 50001 39175   636 50001  1433]\n",
      "chi2 at max = 20.223359\n",
      "Max ln likelihood -10.111679 at parameters:\n",
      "[  0.95227577   2.           4.59825771  -0.37998152   2.          46.37031234]\n",
      "            \\log A_1 mean = -12436.2 +- 8672.96\n",
      "                 T_1 mean = 24.9921 +- 12.5648\n",
      "            \\log A_2 mean = -0.37989 +- 0.00986489\n",
      "                 T_2 mean = 46.393 +- 0.214217\n",
      "ln Pr of mean = -10.836421\n",
      "chi2(mean) = 21.672841\n",
      "Object[s] IRAS09022-3615(z=0.060)"
     ]
    },
    {
     "name": "stderr",
     "output_type": "stream",
     "text": [
      "100% |########################################################################|\n"
     ]
    },
    {
     "name": "stdout",
     "output_type": "stream",
     "text": [
      "\n",
      "Number of prior resamples: 2\n",
      "done with chain 0. naccept=5199 (0.346577)"
     ]
    },
    {
     "name": "stderr",
     "output_type": "stream",
     "text": [
      "100% |########################################################################|\n",
      "100% |########################################################################|\n"
     ]
    },
    {
     "name": "stdout",
     "output_type": "stream",
     "text": [
      "\n",
      "per block:  [  20 2501   35   42 2501  105]\n",
      "Number of prior resamples: 31\n",
      "done with chain 1. naccept=104227 (0.347422)\n",
      "per block:  [  394 50001  1268   236 50001  2332]\n",
      "chi2 at max = 202.047225\n",
      "Max ln likelihood -101.023613 at parameters:\n",
      "[  0.53651075   2.          34.14663609  -1.1938622    2.          57.39295572]\n",
      "            \\log A_1 mean = 0.59854 +- 0.114227\n",
      "                 T_1 mean = 32.0796 +- 2.83366\n",
      "            \\log A_2 mean = -1.19842 +- 0.0592824\n",
      "                 T_2 mean = 64.5536 +- 7.05141\n",
      "ln Pr of mean = -180.531140\n",
      "chi2(mean) = 361.062279\n",
      "Object[s] IRAS10378+1109(z=0.136)"
     ]
    },
    {
     "name": "stderr",
     "output_type": "stream",
     "text": [
      "100% |########################################################################|\n"
     ]
    },
    {
     "name": "stdout",
     "output_type": "stream",
     "text": [
      "\n",
      "done with chain 0. naccept=5266 (0.351043)"
     ]
    },
    {
     "name": "stderr",
     "output_type": "stream",
     "text": [
      "100% |########################################################################|\n",
      "100% |########################################################################|\n"
     ]
    },
    {
     "name": "stdout",
     "output_type": "stream",
     "text": [
      "\n",
      "per block:  [  24 2501  104    9 2501  132]\n",
      "done with chain 1. naccept=128616 (0.428719)\n",
      "per block:  [  564 50001  3378  7990 50001 16687]\n",
      "chi2 at max = 25.875357\n",
      "Max ln likelihood -12.937679 at parameters:\n",
      "[ -0.14909153   2.          29.77090632  -1.59830701   2.          61.12778208]\n",
      "            \\log A_1 mean = -0.160592 +- 0.0765687\n",
      "                 T_1 mean = 28.4556 +- 1.27108\n",
      "            \\log A_2 mean = -1.30884 +- 0.321469\n",
      "                 T_2 mean = 54.8643 +- 7.36883\n",
      "ln Pr of mean = -23.260156\n",
      "chi2(mean) = 46.520313\n",
      "Object[s] IRAS10565+2448(z=0.043)"
     ]
    },
    {
     "name": "stderr",
     "output_type": "stream",
     "text": [
      "100% |########################################################################|\n"
     ]
    },
    {
     "name": "stdout",
     "output_type": "stream",
     "text": [
      "\n",
      "Number of prior resamples: 62\n",
      "done with chain 0. naccept=5089 (0.339244)"
     ]
    },
    {
     "name": "stderr",
     "output_type": "stream",
     "text": [
      "100% |########################################################################|\n",
      "100% |########################################################################|\n"
     ]
    },
    {
     "name": "stdout",
     "output_type": "stream",
     "text": [
      "\n",
      "per block:  [   8 2501   18    4 2501   62]\n",
      "done with chain 1. naccept=104222 (0.347406)\n",
      "per block:  [  243 50001  1187   664 50001  2131]\n",
      "chi2 at max = 184.729639\n",
      "Max ln likelihood -92.364820 at parameters:\n",
      "[  0.88584634   2.          29.2266394   -1.52548586   2.          85.11526984]\n",
      "            \\log A_1 mean = 0.887068 +- 0.00365483\n",
      "                 T_1 mean = 29.2204 +- 0.0830323\n",
      "            \\log A_2 mean = -1.57467 +- 0.0281663\n",
      "                 T_2 mean = 88.3468 +- 2.08331\n",
      "ln Pr of mean = -97.801626\n",
      "chi2(mean) = 195.603252\n",
      "Object[s] IRAS11095-0238(z=0.107)"
     ]
    },
    {
     "name": "stderr",
     "output_type": "stream",
     "text": [
      "100% |########################################################################|\n"
     ]
    },
    {
     "name": "stdout",
     "output_type": "stream",
     "text": [
      "\n",
      "Number of prior resamples: 2\n",
      "done with chain 0. naccept=9354 (0.623558)"
     ]
    },
    {
     "name": "stderr",
     "output_type": "stream",
     "text": [
      "100% |########################################################################|\n",
      "100% |########################################################################|\n"
     ]
    },
    {
     "name": "stdout",
     "output_type": "stream",
     "text": [
      "\n",
      "per block:  [2422 2501 1883    9 2501   43]\n",
      "done with chain 1. naccept=206442 (0.688138)\n",
      "per block:  [49835 50001 42727  2850 50001 11033]\n",
      "chi2 at max = 11.007701\n",
      "Max ln likelihood -5.503851 at parameters:\n",
      "[ -9.61568051e+03   2.00000000e+00   3.96510675e+01  -4.96460894e-01\n",
      "   2.00000000e+00   4.24675913e+01]\n",
      "            \\log A_1 mean = -8186.77 +- 5740.52\n",
      "                 T_1 mean = 22.46 +- 11.4032\n",
      "            \\log A_2 mean = -0.494028 +- 0.0215055\n",
      "                 T_2 mean = 42.369 +- 0.885379\n",
      "ln Pr of mean = -5.533467\n",
      "chi2(mean) = 11.066934\n",
      "Object[s] IRAS12071-0444(z=0.128)"
     ]
    },
    {
     "name": "stderr",
     "output_type": "stream",
     "text": [
      "100% |########################################################################|\n"
     ]
    },
    {
     "name": "stdout",
     "output_type": "stream",
     "text": [
      "\n",
      "done with chain 0. naccept=7080 (0.471969)"
     ]
    },
    {
     "name": "stderr",
     "output_type": "stream",
     "text": [
      "100% |########################################################################|\n",
      "100% |########################################################################|\n"
     ]
    },
    {
     "name": "stdout",
     "output_type": "stream",
     "text": [
      "\n",
      "per block:  [ 955 2501 1036   10 2501   82]\n",
      "done with chain 1. naccept=196138 (0.653791)\n",
      "per block:  [49896 50001 38965  4140 50001  3140]\n",
      "chi2 at max = 7.327153\n",
      "Max ln likelihood -3.663576 at parameters:\n",
      "[ -3.98657590e+03   2.00000000e+00   1.43619327e+01  -3.45898012e-01\n",
      "   2.00000000e+00   3.86925555e+01]\n",
      "            \\log A_1 mean = -5754.42 +- 2523.24\n",
      "                 T_1 mean = 20.7232 +- 10.3754\n",
      "            \\log A_2 mean = -0.346727 +- 0.0115518\n",
      "                 T_2 mean = 38.7295 +- 0.465999\n",
      "ln Pr of mean = -3.666913\n",
      "chi2(mean) = 7.333825\n",
      "Object[s] IRAS13120-5453(z=0.031)"
     ]
    },
    {
     "name": "stderr",
     "output_type": "stream",
     "text": [
      "100% |########################################################################|\n"
     ]
    },
    {
     "name": "stdout",
     "output_type": "stream",
     "text": [
      "\n",
      "Number of prior resamples: 2\n",
      "done with chain 0. naccept=8979 (0.598560)"
     ]
    },
    {
     "name": "stderr",
     "output_type": "stream",
     "text": [
      "100% |########################################################################|\n",
      "100% |########################################################################|\n"
     ]
    },
    {
     "name": "stdout",
     "output_type": "stream",
     "text": [
      "\n",
      "per block:  [2475 2501 1454   16 2501   37]\n",
      "done with chain 1. naccept=103357 (0.344522)\n",
      "per block:  [ 1015 50001  2137   118 50001    90]\n",
      "chi2 at max = 2194.726861\n",
      "Max ln likelihood -1097.363431 at parameters:\n",
      "[  1.02515624   2.          19.61599997   1.23216933   2.          33.66774594]\n",
      "            \\log A_1 mean = -14.2369 +- 124.527\n",
      "                 T_1 mean = 19.3816 +- 1.82687\n",
      "            \\log A_2 mean = 1.26394 +- 0.0325888\n",
      "                 T_2 mean = 33.3335 +- 0.353174\n",
      "ln Pr of mean = -4133.412329\n",
      "chi2(mean) = 8266.824657\n",
      "Object[s] IRAS13451+1232(z=0.122)"
     ]
    },
    {
     "name": "stderr",
     "output_type": "stream",
     "text": [
      "100% |########################################################################|\n"
     ]
    },
    {
     "name": "stdout",
     "output_type": "stream",
     "text": [
      "\n",
      "Number of prior resamples: 2\n",
      "done with chain 0. naccept=6144 (0.409573)"
     ]
    },
    {
     "name": "stderr",
     "output_type": "stream",
     "text": [
      "100% |########################################################################|\n",
      "100% |########################################################################|\n"
     ]
    },
    {
     "name": "stdout",
     "output_type": "stream",
     "text": [
      "\n",
      "per block:  [  15 2501   18  414 2501  700]\n",
      "done with chain 1. naccept=201073 (0.670241)\n",
      "per block:  [  891 50001  6530 49989 50001 43666]\n",
      "chi2 at max = 456.284302\n",
      "Max ln likelihood -228.142151 at parameters:\n",
      "[  7.08545867e-01   2.00000000e+00   1.68166186e+01  -9.08004490e+03\n",
      "   2.00000000e+00   3.35102064e+01]\n",
      "            \\log A_1 mean = 0.738995 +- 0.0422619\n",
      "                 T_1 mean = 16.5061 +- 0.411621\n",
      "            \\log A_2 mean = -4194.24 +- 2918.93\n",
      "                 T_2 mean = 57.8748 +- 23.9668\n",
      "ln Pr of mean = -228.803286\n",
      "chi2(mean) = 457.606573\n",
      "Object[s] IRAS14348-1447(z=0.083)"
     ]
    },
    {
     "name": "stderr",
     "output_type": "stream",
     "text": [
      "100% |########################################################################|\n"
     ]
    },
    {
     "name": "stdout",
     "output_type": "stream",
     "text": [
      "\n",
      "done with chain 0. naccept=9673 (0.644824)"
     ]
    },
    {
     "name": "stderr",
     "output_type": "stream",
     "text": [
      "100% |########################################################################|\n",
      "100% |########################################################################|\n"
     ]
    },
    {
     "name": "stdout",
     "output_type": "stream",
     "text": [
      "\n",
      "per block:  [2468 2501 2155   14 2501   39]\n",
      "done with chain 1. naccept=190514 (0.635045)\n",
      "per block:  [49744 50001 40364   193 50001   216]\n",
      "chi2 at max = 105233.519554\n",
      "Max ln likelihood -52616.759777 at parameters:\n",
      "[ -1.68071825e+04   2.00000000e+00   3.51599146e+01   1.10790897e-01\n",
      "   2.00000000e+00   5.73408537e+01]\n",
      "            \\log A_1 mean = -7212.25 +- 5517.65\n",
      "                 T_1 mean = 29.97 +- 15.4953\n",
      "            \\log A_2 mean = 0.125319 +- 0.0294115\n",
      "                 T_2 mean = 56.9189 +- 0.812226\n",
      "ln Pr of mean = -52690.783373\n",
      "chi2(mean) = 105381.566747\n",
      "Object[s] IRAS14378-3651(z=0.068)"
     ]
    },
    {
     "name": "stderr",
     "output_type": "stream",
     "text": [
      "100% |########################################################################|\n"
     ]
    },
    {
     "name": "stdout",
     "output_type": "stream",
     "text": [
      "\n",
      "done with chain 0. naccept=5071 (0.338044)"
     ]
    },
    {
     "name": "stderr",
     "output_type": "stream",
     "text": [
      "100% |########################################################################|\n",
      "100% |########################################################################|\n"
     ]
    },
    {
     "name": "stdout",
     "output_type": "stream",
     "text": [
      "\n",
      "per block:  [  11 2501   34    6 2501   23]\n",
      "done with chain 1. naccept=116916 (0.389719)\n",
      "per block:  [  618 50001 10860  2400 50001  3041]\n",
      "chi2 at max = 3.478932\n",
      "Max ln likelihood -1.739466 at parameters:\n",
      "[  0.06917808   2.          29.3053816   -0.09318444   2.          40.11193434]\n",
      "            \\log A_1 mean = 0.0827473 +- 0.0876658\n",
      "                 T_1 mean = 28.468 +- 2.80502\n",
      "            \\log A_2 mean = -0.073072 +- 0.0382347\n",
      "                 T_2 mean = 39.8586 +- 0.311756\n",
      "ln Pr of mean = -7.660560\n",
      "chi2(mean) = 15.321119\n",
      "Object[s] IRAS15250+3609(z=0.055)"
     ]
    },
    {
     "name": "stderr",
     "output_type": "stream",
     "text": [
      "100% |########################################################################|\n"
     ]
    },
    {
     "name": "stdout",
     "output_type": "stream",
     "text": [
      "\n",
      "done with chain 0. naccept=5157 (0.343777)"
     ]
    },
    {
     "name": "stderr",
     "output_type": "stream",
     "text": [
      "100% |########################################################################|\n",
      "100% |########################################################################|\n"
     ]
    },
    {
     "name": "stdout",
     "output_type": "stream",
     "text": [
      "\n",
      "per block:  [  10 2501   10   15 2501  125]\n",
      "done with chain 1. naccept=141502 (0.471672)\n",
      "per block:  [ 3636 50001 32034  1705 50001  4130]\n",
      "chi2 at max = 23.246784\n",
      "Max ln likelihood -11.623392 at parameters:\n",
      "[  0.38433835   2.          20.82285398  -0.36344026   2.          46.10089501]\n",
      "            \\log A_1 mean = 0.383734 +- 0.0652495\n",
      "                 T_1 mean = 21.7499 +- 1.07575\n",
      "            \\log A_2 mean = -0.446406 +- 0.0479371\n",
      "                 T_2 mean = 47.8105 +- 1.1932\n",
      "ln Pr of mean = -12.350773\n",
      "chi2(mean) = 24.701547\n",
      "Object[s] IRAS15462-0450(z=0.100)"
     ]
    },
    {
     "name": "stderr",
     "output_type": "stream",
     "text": [
      "100% |########################################################################|\n"
     ]
    },
    {
     "name": "stdout",
     "output_type": "stream",
     "text": [
      "\n",
      "Number of prior resamples: 7\n",
      "done with chain 0. naccept=9453 (0.630158)"
     ]
    },
    {
     "name": "stderr",
     "output_type": "stream",
     "text": [
      "100% |########################################################################|\n",
      "100% |########################################################################|\n"
     ]
    },
    {
     "name": "stdout",
     "output_type": "stream",
     "text": [
      "\n",
      "per block:  [2478 2501 1920   10 2501   48]\n",
      "Number of prior resamples: 16\n",
      "done with chain 1. naccept=203040 (0.676798)\n",
      "per block:  [49928 50001 40135  1801 50001 11179]\n",
      "chi2 at max = 11.799758\n",
      "Max ln likelihood -5.899879 at parameters:\n",
      "[ -7.84819528e+03   2.00000000e+00   2.40548600e+01  -2.56035717e-01\n",
      "   2.00000000e+00   3.69940351e+01]\n",
      "            \\log A_1 mean = -4747.55 +- 2912.97\n",
      "                 T_1 mean = 20.0393 +- 9.83236\n",
      "            \\log A_2 mean = -0.255625 +- 0.0146203\n",
      "                 T_2 mean = 36.9716 +- 0.535937\n",
      "ln Pr of mean = -5.900332\n",
      "chi2(mean) = 11.800665\n",
      "Object[s] IRAS16090-0139(z=0.134)"
     ]
    },
    {
     "name": "stderr",
     "output_type": "stream",
     "text": [
      "100% |########################################################################|\n"
     ]
    },
    {
     "name": "stdout",
     "output_type": "stream",
     "text": [
      "\n",
      "done with chain 0. naccept=9239 (0.615892)"
     ]
    },
    {
     "name": "stderr",
     "output_type": "stream",
     "text": [
      "100% |########################################################################|\n",
      "100% |########################################################################|\n"
     ]
    },
    {
     "name": "stdout",
     "output_type": "stream",
     "text": [
      "\n",
      "per block:  [2461 2501 1760    6 2501   15]\n",
      "Number of prior resamples: 34\n",
      "done with chain 1. naccept=210382 (0.701271)\n",
      "per block:  [49960 50001 42524   928 50001 16973]\n",
      "chi2 at max = 29.506190\n",
      "Max ln likelihood -14.753095 at parameters:\n",
      "[ -1.15945923e+04   2.00000000e+00   2.17003154e+01   8.66077240e-02\n",
      "   2.00000000e+00   3.55186933e+01]\n",
      "            \\log A_1 mean = -11437.4 +- 7143.7\n",
      "                 T_1 mean = 18.9668 +- 9.34392\n",
      "            \\log A_2 mean = 0.0948468 +- 0.0394077\n",
      "                 T_2 mean = 35.2531 +- 1.26494\n",
      "ln Pr of mean = -15.467704\n",
      "chi2(mean) = 30.935408\n",
      "Object[s] IRAS17208-0014(z=0.043)"
     ]
    },
    {
     "name": "stderr",
     "output_type": "stream",
     "text": [
      "100% |########################################################################|\n"
     ]
    },
    {
     "name": "stdout",
     "output_type": "stream",
     "text": [
      "\n",
      "done with chain 0. naccept=5079 (0.338577)"
     ]
    },
    {
     "name": "stderr",
     "output_type": "stream",
     "text": [
      "100% |########################################################################|\n",
      "100% |########################################################################|\n"
     ]
    },
    {
     "name": "stdout",
     "output_type": "stream",
     "text": [
      "\n",
      "per block:  [  10 2501   17    6 2501   49]\n",
      "done with chain 1. naccept=105160 (0.350532)\n",
      "per block:  [  792 50001  2095  1011 50001  1265]\n",
      "chi2 at max = 84.832675\n",
      "Max ln likelihood -42.416338 at parameters:\n",
      "[  1.21375621   2.          29.58046068  -0.79270478   2.          70.85611966]\n",
      "            \\log A_1 mean = 1.21606 +- 0.0355066\n",
      "                 T_1 mean = 29.6216 +- 0.942075\n",
      "            \\log A_2 mean = -0.90225 +- 0.0516503\n",
      "                 T_2 mean = 75.8008 +- 4.03969\n",
      "ln Pr of mean = -59.205147\n",
      "chi2(mean) = 118.410295\n",
      "Object[s] IRAS19254-7245(z=0.062)"
     ]
    },
    {
     "name": "stderr",
     "output_type": "stream",
     "text": [
      "100% |########################################################################|\n"
     ]
    },
    {
     "name": "stdout",
     "output_type": "stream",
     "text": [
      "\n",
      "Number of prior resamples: 2\n",
      "done with chain 0. naccept=8484 (0.565562)"
     ]
    },
    {
     "name": "stderr",
     "output_type": "stream",
     "text": [
      "100% |########################################################################|\n",
      "100% |########################################################################|\n"
     ]
    },
    {
     "name": "stdout",
     "output_type": "stream",
     "text": [
      "\n",
      "per block:  [2493 2501  957   15 2501   22]\n",
      "done with chain 1. naccept=197100 (0.656998)\n",
      "per block:  [48756 50001 45916   598 50001  1833]\n",
      "chi2 at max = 299.303972\n",
      "Max ln likelihood -149.651986 at parameters:\n",
      "[  0.47577678   2.          11.17652719   0.36376429   2.          33.71692739]\n",
      "            \\log A_1 mean = -6499.59 +- 4182.72\n",
      "                 T_1 mean = 17.8441 +- 8.78584\n",
      "            \\log A_2 mean = 0.39824 +- 0.120756\n",
      "                 T_2 mean = 33.2133 +- 2.34391\n",
      "ln Pr of mean = -224.540664\n",
      "chi2(mean) = 449.081327\n",
      "Object[s] IRAS19297-0406(z=0.086)"
     ]
    },
    {
     "name": "stderr",
     "output_type": "stream",
     "text": [
      "100% |########################################################################|\n"
     ]
    },
    {
     "name": "stdout",
     "output_type": "stream",
     "text": [
      "\n",
      "done with chain 0. naccept=8740 (0.582628)"
     ]
    },
    {
     "name": "stderr",
     "output_type": "stream",
     "text": [
      "100% |########################################################################|\n",
      "100% |########################################################################|\n"
     ]
    },
    {
     "name": "stdout",
     "output_type": "stream",
     "text": [
      "\n",
      "per block:  [2483 2501 1203   24 2501   33]\n",
      "done with chain 1. naccept=168193 (0.560641)\n",
      "per block:  [33755 50001 32442   408 50001  1591]\n",
      "chi2 at max = 30.797946\n",
      "Max ln likelihood -15.398973 at parameters:\n",
      "[  0.31093435   2.          14.17369295   0.40809649   2.          35.0953363 ]\n",
      "            \\log A_1 mean = -2081.28 +- 2030.51\n",
      "                 T_1 mean = 15.8633 +- 7.76393\n",
      "            \\log A_2 mean = 0.475216 +- 0.154371\n",
      "                 T_2 mean = 33.7966 +- 3.46154\n",
      "ln Pr of mean = -92.511531\n",
      "chi2(mean) = 185.023062\n",
      "Object[s] IRAS20087-0308(z=0.106)"
     ]
    },
    {
     "name": "stderr",
     "output_type": "stream",
     "text": [
      "100% |########################################################################|\n"
     ]
    },
    {
     "name": "stdout",
     "output_type": "stream",
     "text": [
      "\n",
      "done with chain 0. naccept=8528 (0.568495)"
     ]
    },
    {
     "name": "stderr",
     "output_type": "stream",
     "text": [
      "100% |########################################################################|\n",
      "100% |########################################################################|\n"
     ]
    },
    {
     "name": "stdout",
     "output_type": "stream",
     "text": [
      "\n",
      "per block:  [2384 2501 1116    9 2501   22]\n",
      "done with chain 1. naccept=199215 (0.664048)\n",
      "per block:  [49781 50001 45379   889 50001  3169]\n",
      "chi2 at max = 32.109311\n",
      "Max ln likelihood -16.054655 at parameters:\n",
      "[ -0.34372997   2.          11.50285886   0.45202811   2.          31.69254465]\n",
      "            \\log A_1 mean = -1119.23 +- 760.53\n",
      "                 T_1 mean = 17.1565 +- 8.26324\n",
      "            \\log A_2 mean = 0.487519 +- 0.103952\n",
      "                 T_2 mean = 30.8567 +- 2.47545\n",
      "ln Pr of mean = -41.481311\n",
      "chi2(mean) = 82.962621\n",
      "Object[s] IRAS20100-4156(z=0.130)"
     ]
    },
    {
     "name": "stderr",
     "output_type": "stream",
     "text": [
      "100% |########################################################################|\n"
     ]
    },
    {
     "name": "stdout",
     "output_type": "stream",
     "text": [
      "\n",
      "done with chain 0. naccept=5179 (0.345244)"
     ]
    },
    {
     "name": "stderr",
     "output_type": "stream",
     "text": [
      "100% |########################################################################|\n",
      "100% |########################################################################|\n"
     ]
    },
    {
     "name": "stdout",
     "output_type": "stream",
     "text": [
      "\n",
      "per block:  [  27 2501   31   37 2501   87]\n",
      "done with chain 1. naccept=106388 (0.354625)\n",
      "per block:  [  784 50001  4651   268 50001   688]\n",
      "chi2 at max = 11.832764\n",
      "Max ln likelihood -5.916382 at parameters:\n",
      "[ -0.14349234   2.          33.04722707  -0.45566818   2.          43.63695133]\n",
      "            \\log A_1 mean = -0.115797 +- 0.134719\n",
      "                 T_1 mean = 31.1907 +- 3.3792\n",
      "            \\log A_2 mean = -0.407521 +- 0.0363988\n",
      "                 T_2 mean = 43.348 +- 0.322752\n",
      "ln Pr of mean = -14.892021\n",
      "chi2(mean) = 29.784042\n",
      "Object[s] IRAS20414-1651(z=0.871)"
     ]
    },
    {
     "name": "stderr",
     "output_type": "stream",
     "text": [
      "100% |########################################################################|\n"
     ]
    },
    {
     "name": "stdout",
     "output_type": "stream",
     "text": [
      "\n",
      "done with chain 0. naccept=9012 (0.600760)"
     ]
    },
    {
     "name": "stderr",
     "output_type": "stream",
     "text": [
      "100% |########################################################################|\n",
      "100% |########################################################################|\n",
      "model.py:346: RuntimeWarning: invalid value encountered in multiply\n",
      "  return self.A1 * greybody(self.b1, self.T1, data.freq) + \\\n"
     ]
    },
    {
     "name": "stdout",
     "output_type": "stream",
     "text": [
      "\n",
      "per block:  [2473 2501 1485   17 2501   40]\n",
      "done with chain 1. naccept=198139 (0.660461)\n",
      "per block:  [49881 49987 45515   447 49987  2327]\n",
      "chi2 at max = 101.727335\n",
      "Max ln likelihood -50.863667 at parameters:\n",
      "[  3.85997164   2.           3.99204502  -0.81776339   2.          53.35625022]\n",
      "            \\log A_1 mean = -22790.8 +- 13233.9\n",
      "                 T_1 mean = 24.8516 +- 13.0292\n",
      "            \\log A_2 mean = -0.660016 +- 0.163246\n",
      "                 T_2 mean = 46.5677 +- 5.80864\n",
      "ln Pr of mean = -183.073865\n",
      "chi2(mean) = 366.147729\n",
      "Object[s] IRAS20551-4250(z=0.043)\n",
      "Number of prior resamples: 66920793"
     ]
    },
    {
     "name": "stderr",
     "output_type": "stream",
     "text": [
      "100% |########################################################################|\n"
     ]
    },
    {
     "name": "stdout",
     "output_type": "stream",
     "text": [
      "\n",
      "done with chain 0. naccept=14413 (0.960803)"
     ]
    },
    {
     "name": "stderr",
     "output_type": "stream",
     "text": [
      "100% |########################################################################|\n",
      "100% |########################################################################|\n"
     ]
    },
    {
     "name": "stdout",
     "output_type": "stream",
     "text": [
      "\n",
      "per block:  [2501 2501 2194 2501 2501 2220]\n",
      "done with chain 1. naccept=270536 (0.901784)\n",
      "per block:  [50001 50001 36428 50001 50001 34109]\n",
      "chi2 at max = 288100.292392\n",
      "Max ln likelihood -144050.146196 at parameters:\n",
      "[ -1.77075745e+04   2.00000000e+00   9.95222803e+00  -7.75763967e+04\n",
      "   2.00000000e+00   7.09575007e+01]\n",
      "            \\log A_1 mean = -23758.9 +- 3584.59\n",
      "                 T_1 mean = 34.9297 +- 22.7496\n",
      "            \\log A_2 mean = -65937.4 +- 10857.2\n",
      "                 T_2 mean = 67.3392 +- 22.8166\n",
      "ln Pr of mean = -144050.146196\n",
      "chi2(mean) = 288100.292392\n",
      "Object[s] IRAS22491-1808(z=0.078)\n"
     ]
    },
    {
     "name": "stderr",
     "output_type": "stream",
     "text": [
      "100% |########################################################################|\r\n"
     ]
    },
    {
     "ename": "KeyboardInterrupt",
     "evalue": "",
     "output_type": "error",
     "traceback": [
      "\u001b[0;31m---------------------------------------------------------------------------\u001b[0m\n\u001b[0;31mKeyboardInterrupt\u001b[0m                         Traceback (most recent call last)",
      "\u001b[0;32m/Volumes/Data/Users/jaffe/home/proj/stats/MCMC/submmSED/driver.py\u001b[0m in \u001b[0;36m<module>\u001b[0;34m()\u001b[0m\n\u001b[1;32m    660\u001b[0m \u001b[0;34m\u001b[0m\u001b[0m\n\u001b[1;32m    661\u001b[0m \u001b[0;32mif\u001b[0m \u001b[0m__name__\u001b[0m \u001b[0;34m==\u001b[0m \u001b[0;34m\"__main__\"\u001b[0m\u001b[0;34m:\u001b[0m\u001b[0;34m\u001b[0m\u001b[0m\n\u001b[0;32m--> 662\u001b[0;31m     \u001b[0msys\u001b[0m\u001b[0;34m.\u001b[0m\u001b[0mexit\u001b[0m\u001b[0;34m(\u001b[0m\u001b[0mmainmain\u001b[0m\u001b[0;34m(\u001b[0m\u001b[0;34m)\u001b[0m\u001b[0;34m)\u001b[0m\u001b[0;34m\u001b[0m\u001b[0m\n\u001b[0m\u001b[1;32m    663\u001b[0m \u001b[0;31m#\u001b[0m\u001b[0;34m\u001b[0m\u001b[0;34m\u001b[0m\u001b[0m\n\u001b[1;32m    664\u001b[0m \u001b[0;31m#\u001b[0m\u001b[0;34m\u001b[0m\u001b[0;34m\u001b[0m\u001b[0m\n",
      "\u001b[0;32m/Volumes/Data/Users/jaffe/home/proj/stats/MCMC/submmSED/driver.py\u001b[0m in \u001b[0;36mmainmain\u001b[0;34m(argv)\u001b[0m\n\u001b[1;32m    649\u001b[0m         \u001b[0;32mprint\u001b[0m \u001b[0;34m\"which=\"\u001b[0m\u001b[0;34m,\u001b[0m \u001b[0mwhich\u001b[0m\u001b[0;34m\u001b[0m\u001b[0m\n\u001b[1;32m    650\u001b[0m         ret = many(which, fdir=fdir, DLC_ul=DLC_ul, filetype=filetype, cdir=odir, idata=idata, next0=next0, \n\u001b[0;32m--> 651\u001b[0;31m                    fil=filename, format=format, random=random, randomrestart=randomrestart)\n\u001b[0m\u001b[1;32m    652\u001b[0m         \u001b[0;32mwith\u001b[0m \u001b[0mopen\u001b[0m\u001b[0;34m(\u001b[0m\u001b[0modir\u001b[0m\u001b[0;34m+\u001b[0m\u001b[0;34m\"out_\"\u001b[0m\u001b[0;34m+\u001b[0m\u001b[0;34m\"\"\u001b[0m\u001b[0;34m.\u001b[0m\u001b[0mjoin\u001b[0m\u001b[0;34m(\u001b[0m\u001b[0mstr\u001b[0m\u001b[0;34m(\u001b[0m\u001b[0mwhich\u001b[0m\u001b[0;34m)\u001b[0m\u001b[0;34m.\u001b[0m\u001b[0msplit\u001b[0m\u001b[0;34m(\u001b[0m\u001b[0;34m' '\u001b[0m\u001b[0;34m)\u001b[0m\u001b[0;34m)\u001b[0m\u001b[0;34m+\u001b[0m\u001b[0;34m\".pickle\"\u001b[0m\u001b[0;34m,\u001b[0m \u001b[0;34m'w'\u001b[0m\u001b[0;34m)\u001b[0m \u001b[0;32mas\u001b[0m \u001b[0mf\u001b[0m\u001b[0;34m:\u001b[0m\u001b[0;34m\u001b[0m\u001b[0m\n\u001b[1;32m    653\u001b[0m             \u001b[0mpickle\u001b[0m\u001b[0;34m.\u001b[0m\u001b[0mdump\u001b[0m\u001b[0;34m(\u001b[0m\u001b[0mret\u001b[0m\u001b[0;34m,\u001b[0m \u001b[0mf\u001b[0m\u001b[0;34m)\u001b[0m\u001b[0;34m\u001b[0m\u001b[0m\n",
      "\u001b[0;32m/Volumes/Data/Users/jaffe/home/proj/stats/MCMC/submmSED/driver.py\u001b[0m in \u001b[0;36mmany\u001b[0;34m(which, idata, nMC, fil, fdir, cdir, next0, **keywords)\u001b[0m\n\u001b[1;32m    273\u001b[0m                     \u001b[0mstart\u001b[0m\u001b[0;34m=\u001b[0m\u001b[0;34m(\u001b[0m\u001b[0;36m1\u001b[0m\u001b[0;34m,\u001b[0m\u001b[0;36m2.\u001b[0m\u001b[0;34m,\u001b[0m\u001b[0;36m10\u001b[0m\u001b[0;34m,\u001b[0m\u001b[0;36m0.1\u001b[0m\u001b[0;34m,\u001b[0m\u001b[0;36m2.\u001b[0m\u001b[0;34m,\u001b[0m\u001b[0;36m20\u001b[0m\u001b[0;34m)\u001b[0m\u001b[0;34m,\u001b[0m \u001b[0msigmas\u001b[0m\u001b[0;34m=\u001b[0m\u001b[0;34m(\u001b[0m\u001b[0msA\u001b[0m\u001b[0;34m,\u001b[0m\u001b[0;36m0\u001b[0m\u001b[0;34m,\u001b[0m\u001b[0msT\u001b[0m\u001b[0;34m)\u001b[0m\u001b[0;34m*\u001b[0m\u001b[0;36m2\u001b[0m\u001b[0;34m,\u001b[0m \u001b[0mretMCMC\u001b[0m\u001b[0;34m=\u001b[0m\u001b[0mFalse\u001b[0m\u001b[0;34m,\u001b[0m\u001b[0;34m\u001b[0m\u001b[0m\n\u001b[1;32m    274\u001b[0m                     \u001b[0mnMC\u001b[0m\u001b[0;34m=\u001b[0m\u001b[0mnMC\u001b[0m\u001b[0;34m,\u001b[0m \u001b[0monecomponent\u001b[0m\u001b[0;34m=\u001b[0m\u001b[0mFalse\u001b[0m\u001b[0;34m,\u001b[0m \u001b[0mfig0\u001b[0m\u001b[0;34m=\u001b[0m\u001b[0;36m0\u001b[0m\u001b[0;34m,\u001b[0m \u001b[0msavefig\u001b[0m\u001b[0;34m=\u001b[0m\u001b[0;34m\"_2comp_b2\"\u001b[0m\u001b[0;34m,\u001b[0m \u001b[0mfdir\u001b[0m\u001b[0;34m=\u001b[0m\u001b[0mfdir\u001b[0m\u001b[0;34m,\u001b[0m\u001b[0;34m\u001b[0m\u001b[0m\n\u001b[0;32m--> 275\u001b[0;31m                     check=cdir+\"check0.npy\", next0=next0, **keywords)\n\u001b[0m\u001b[1;32m    276\u001b[0m \u001b[0;34m\u001b[0m\u001b[0m\n\u001b[1;32m    277\u001b[0m     \u001b[0;32mif\u001b[0m \u001b[0;36m1\u001b[0m \u001b[0;32min\u001b[0m \u001b[0mwhich\u001b[0m\u001b[0;34m:\u001b[0m\u001b[0;34m\u001b[0m\u001b[0m\n",
      "\u001b[0;32m/Volumes/Data/Users/jaffe/home/proj/stats/MCMC/submmSED/driver.py\u001b[0m in \u001b[0;36mmain\u001b[0;34m(filename, i, rotateParams, onecomponent, getNorm, start, sigmas, nMC, nDerived, noPlots, fig0, savefig, retMCMC, random, randomrestart, fdir, logplot, DLC_ul, check, next0, format, filetype)\u001b[0m\n\u001b[1;32m    151\u001b[0m         mcmc, ana = MCMC.sampler(like, nMC, prop_sigmas, start_params, plotter=None,\n\u001b[1;32m    152\u001b[0m                             \u001b[0mfac\u001b[0m\u001b[0;34m=\u001b[0m\u001b[0mNone\u001b[0m\u001b[0;34m,\u001b[0m \u001b[0mnoCorrelations\u001b[0m\u001b[0;34m=\u001b[0m\u001b[0mTrue\u001b[0m\u001b[0;34m,\u001b[0m \u001b[0mdoBlock\u001b[0m\u001b[0;34m=\u001b[0m\u001b[0mTrue\u001b[0m\u001b[0;34m,\u001b[0m \u001b[0mrotateParams\u001b[0m\u001b[0;34m=\u001b[0m\u001b[0mrotateParams\u001b[0m\u001b[0;34m,\u001b[0m\u001b[0;34m\u001b[0m\u001b[0m\n\u001b[0;32m--> 153\u001b[0;31m                             randomrestart=randomrestart)\n\u001b[0m\u001b[1;32m    154\u001b[0m \u001b[0;34m\u001b[0m\u001b[0m\n\u001b[1;32m    155\u001b[0m         \u001b[0;32mif\u001b[0m \u001b[0;32mnot\u001b[0m \u001b[0mnoPlots\u001b[0m\u001b[0;34m:\u001b[0m\u001b[0;34m\u001b[0m\u001b[0m\n",
      "\u001b[0;32m/Volumes/Data/Users/jaffe/home/proj/stats/MCMC/MCMC.pyc\u001b[0m in \u001b[0;36msampler\u001b[0;34m(like, nMC, prop_sigmas, start_params, plotter, fac, noCorrelations, doBlock, rotateParams, randomrestart)\u001b[0m\n\u001b[1;32m    498\u001b[0m     \u001b[0mparams\u001b[0m \u001b[0;34m=\u001b[0m \u001b[0mwhere\u001b[0m\u001b[0;34m(\u001b[0m\u001b[0mlike\u001b[0m\u001b[0;34m.\u001b[0m\u001b[0mmodel\u001b[0m\u001b[0;34m.\u001b[0m\u001b[0munpackage\u001b[0m\u001b[0;34m(\u001b[0m\u001b[0mprop_sigmas\u001b[0m\u001b[0;34m)\u001b[0m\u001b[0;34m>\u001b[0m\u001b[0;36m0\u001b[0m\u001b[0;34m)\u001b[0m\u001b[0;34m[\u001b[0m\u001b[0;36m0\u001b[0m\u001b[0;34m]\u001b[0m  \u001b[0;31m# where returns a tuple\u001b[0m\u001b[0;34m\u001b[0m\u001b[0m\n\u001b[1;32m    499\u001b[0m \u001b[0;34m\u001b[0m\u001b[0m\n\u001b[0;32m--> 500\u001b[0;31m     \u001b[0;32mfor\u001b[0m \u001b[0misamp\u001b[0m\u001b[0;34m,\u001b[0m \u001b[0mnMC1\u001b[0m \u001b[0;32min\u001b[0m \u001b[0menumerate\u001b[0m\u001b[0;34m(\u001b[0m\u001b[0mnMC\u001b[0m\u001b[0;34m)\u001b[0m\u001b[0;34m:\u001b[0m\u001b[0;34m\u001b[0m\u001b[0m\n\u001b[0m\u001b[1;32m    501\u001b[0m         \u001b[0;32mif\u001b[0m \u001b[0misamp\u001b[0m\u001b[0;34m==\u001b[0m\u001b[0;36m0\u001b[0m\u001b[0;34m:\u001b[0m  \u001b[0;31m## first MCMC has uncorrelated paramters, proposal width given by prop_sigmas\u001b[0m\u001b[0;34m\u001b[0m\u001b[0m\n\u001b[1;32m    502\u001b[0m             new_s = MCMC(like, startProposal=prop_sigmas, nMC=0,\n",
      "\u001b[0;32m/Volumes/Data/Users/jaffe/home/proj/stats/MCMC/MCMC.pyc\u001b[0m in \u001b[0;36m__init__\u001b[0;34m(self, like, proposal, startProposal, nMC, startParams, doBlock)\u001b[0m\n\u001b[1;32m    118\u001b[0m         \u001b[0;32mif\u001b[0m \u001b[0mstartParams\u001b[0m \u001b[0;32mis\u001b[0m \u001b[0;32mnot\u001b[0m \u001b[0mNone\u001b[0m\u001b[0;34m:\u001b[0m\u001b[0;34m\u001b[0m\u001b[0m\n\u001b[1;32m    119\u001b[0m             \u001b[0;32mtry\u001b[0m\u001b[0;34m:\u001b[0m\u001b[0;34m\u001b[0m\u001b[0m\n\u001b[0;32m--> 120\u001b[0;31m                 \u001b[0mself\u001b[0m\u001b[0;34m.\u001b[0m\u001b[0msetStart\u001b[0m\u001b[0;34m(\u001b[0m\u001b[0mstartParams\u001b[0m\u001b[0;34m)\u001b[0m\u001b[0;34m\u001b[0m\u001b[0m\n\u001b[0m\u001b[1;32m    121\u001b[0m             \u001b[0;32mexcept\u001b[0m \u001b[0mZeroPriorError\u001b[0m\u001b[0;34m:\u001b[0m\u001b[0;34m\u001b[0m\u001b[0m\n\u001b[1;32m    122\u001b[0m                 \u001b[0;32mprint\u001b[0m \u001b[0;34m\"Can't start at\"\u001b[0m\u001b[0;34m,\u001b[0m \u001b[0mstartParams\u001b[0m\u001b[0;34m,\u001b[0m \u001b[0;34m\": prior = 0\"\u001b[0m\u001b[0;34m\u001b[0m\u001b[0m\n",
      "\u001b[0;32m/Volumes/Data/Users/jaffe/home/proj/stats/MCMC/MCMC.pyc\u001b[0m in \u001b[0;36msetStart\u001b[0;34m(self, params, random, verbose)\u001b[0m\n\u001b[1;32m    148\u001b[0m             \u001b[0mi_restart\u001b[0m \u001b[0;34m=\u001b[0m \u001b[0;36m0\u001b[0m\u001b[0;34m\u001b[0m\u001b[0m\n\u001b[1;32m    149\u001b[0m             \u001b[0;32mwhile\u001b[0m \u001b[0mprior\u001b[0m \u001b[0;34m<=\u001b[0m \u001b[0;36m0\u001b[0m\u001b[0;34m:\u001b[0m\u001b[0;34m\u001b[0m\u001b[0m\n\u001b[0;32m--> 150\u001b[0;31m                 \u001b[0mnewparams\u001b[0m \u001b[0;34m=\u001b[0m \u001b[0mself\u001b[0m\u001b[0;34m.\u001b[0m\u001b[0mprop\u001b[0m\u001b[0;34m.\u001b[0m\u001b[0mgetNewParams\u001b[0m\u001b[0;34m(\u001b[0m\u001b[0mparams\u001b[0m\u001b[0;34m)\u001b[0m      \u001b[0;31m### want to resample all parameters each time, even if doBlock=True\u001b[0m\u001b[0;34m\u001b[0m\u001b[0m\n\u001b[0m\u001b[1;32m    151\u001b[0m                                                                 \u001b[0;31m### nb. always start at the given params\u001b[0m\u001b[0;34m\u001b[0m\u001b[0;34m\u001b[0m\u001b[0m\n\u001b[1;32m    152\u001b[0m                 \u001b[0mparamarr\u001b[0m \u001b[0;34m=\u001b[0m \u001b[0mself\u001b[0m\u001b[0;34m.\u001b[0m\u001b[0mlike\u001b[0m\u001b[0;34m.\u001b[0m\u001b[0mmodel\u001b[0m\u001b[0;34m.\u001b[0m\u001b[0munpackage\u001b[0m\u001b[0;34m(\u001b[0m\u001b[0mnewparams\u001b[0m\u001b[0;34m)\u001b[0m\u001b[0;34m\u001b[0m\u001b[0m\n",
      "\u001b[0;32m/Volumes/Data/Users/jaffe/home/proj/stats/MCMC/Proposal.pyc\u001b[0m in \u001b[0;36mgetNewParams\u001b[0;34m(self, prevParams, block)\u001b[0m\n\u001b[1;32m    155\u001b[0m \u001b[0;34m\u001b[0m\u001b[0m\n\u001b[1;32m    156\u001b[0m                 \u001b[0;32mif\u001b[0m \u001b[0mblock\u001b[0m \u001b[0;32mis\u001b[0m \u001b[0mNone\u001b[0m\u001b[0;34m:\u001b[0m\u001b[0;34m\u001b[0m\u001b[0m\n\u001b[0;32m--> 157\u001b[0;31m                     \u001b[0mself\u001b[0m\u001b[0;34m.\u001b[0m\u001b[0mnewParams\u001b[0m \u001b[0;34m+=\u001b[0m \u001b[0moffset\u001b[0m\u001b[0;34m\u001b[0m\u001b[0m\n\u001b[0m\u001b[1;32m    158\u001b[0m                 \u001b[0;32melse\u001b[0m\u001b[0;34m:\u001b[0m\u001b[0;34m\u001b[0m\u001b[0m\n\u001b[1;32m    159\u001b[0m                     \u001b[0mself\u001b[0m\u001b[0;34m.\u001b[0m\u001b[0mnewParams\u001b[0m\u001b[0;34m[\u001b[0m\u001b[0mblock\u001b[0m\u001b[0;34m]\u001b[0m \u001b[0;34m+=\u001b[0m \u001b[0moffset\u001b[0m\u001b[0;34m[\u001b[0m\u001b[0mblock\u001b[0m\u001b[0;34m]\u001b[0m\u001b[0;34m\u001b[0m\u001b[0m\n",
      "\u001b[0;31mKeyboardInterrupt\u001b[0m: "
     ]
    }
   ],
   "source": [
    "#%%px --noblock\n",
    "%run driver.py --format=DLC_2014 --fdir=./figs_DLC_2014_2 --odir=./out_DLC_2014_2 --file=./herus_phot.csv 0"
   ]
  },
  {
   "cell_type": "code",
   "execution_count": null,
   "metadata": {
    "collapsed": false
   },
   "outputs": [],
   "source": [
    "#%%px --noblock\n",
    "%run driver.py --format=DLC_2014 --fdir=./figs_DLC_2014_2 --odir=./out_DLC_2014_2 --file=./herus_phot.csv 1"
   ]
  },
  {
   "cell_type": "code",
   "execution_count": null,
   "metadata": {
    "collapsed": false
   },
   "outputs": [],
   "source": [
    "#%%px --noblock\n",
    "%run driver.py --format=DLC_2014 --fdir=./figs_DLC_2014_2 --odir=./out_DLC_2014_2 --file=./herus_phot.csv 2"
   ]
  },
  {
   "cell_type": "code",
   "execution_count": null,
   "metadata": {
    "collapsed": false
   },
   "outputs": [],
   "source": [
    "#%%px --noblock\n",
    "%run driver.py --format=DLC_2014 --fdir=./figs_DLC_2014_2 --odir=./out_DLC_2014_2 --file=./herus_phot.csv 3"
   ]
  },
  {
   "cell_type": "code",
   "execution_count": 6,
   "metadata": {
    "collapsed": false
   },
   "outputs": [
    {
     "name": "stdout",
     "output_type": "stream",
     "text": [
      "./DLC_2015/out_DLC_2015_1/check0.npy\n",
      "nobj, npar, ndat =  43 4 0\n",
      "./DLC_2015/out_DLC_2015_1/check1.npy\n",
      "nobj, npar, ndat =  43 3 0\n",
      "./DLC_2015/out_DLC_2015_1/check2.npy\n",
      "nobj, npar, ndat =  43 2 0\n",
      "./DLC_2015/out_DLC_2015_1/check3.npy\n",
      "nobj, npar, ndat =  43 6 0\n",
      "./DLC_2015/out_DLC_2015_1/check4.npy\n",
      "nobj, npar, ndat =  43 4 0\n",
      "nn, npar, ndat, nt =  43 4 0 2\n",
      "nn, npar, ndat, nt =  43 3 0 1\n",
      "nn, npar, ndat, nt =  43 2 0 1\n",
      "nn, npar, ndat, nt =  43 6 0 2\n",
      "nn, npar, ndat, nt =  43 4 0 1\n"
     ]
    }
   ],
   "source": [
    "reload(driver)\n",
    "ret123 = driver.writeTabAll([], fbase=\"DLC_2015\", dirname=\"./DLC_2015/out_DLC_2015_1/\", nodat=True, check=True)"
   ]
  },
  {
   "cell_type": "code",
   "execution_count": 2,
   "metadata": {
    "collapsed": false
   },
   "outputs": [
    {
     "name": "stdout",
     "output_type": "stream",
     "text": [
      "./out_DLC_MK_2015_1/check0.npy\n",
      "nobj, npar, ndat =  43 4 0\n",
      "./out_DLC_MK_2015_1/check1.npy\n",
      "nobj, npar, ndat =  43 3 0\n",
      "./out_DLC_MK_2015_1/check2.npy\n",
      "nobj, npar, ndat =  43 2 0\n",
      "./out_DLC_MK_2015_1/check3.npy\n",
      "nobj, npar, ndat =  43 6 0\n",
      "./out_DLC_MK_2015_1/check4.npy\n",
      "nobj, npar, ndat =  43 4 0\n",
      "nn, npar, ndat, nt =  43 4 0 2\n",
      "nn, npar, ndat, nt =  43 3 0 1\n",
      "nn, npar, ndat, nt =  43 2 0 1\n",
      "nn, npar, ndat, nt =  43 6 0 2\n",
      "nn, npar, ndat, nt =  43 4 0 1\n"
     ]
    }
   ],
   "source": [
    "reload(driver)\n",
    "ret123 = driver.writeTabAll([], fbase=\"DLC_2015_MK\", dirname=\"./out_DLC_MK_2015_1/\", nodat=True, check=True)"
   ]
  },
  {
   "cell_type": "code",
   "execution_count": null,
   "metadata": {
    "collapsed": true
   },
   "outputs": [],
   "source": []
  }
 ],
 "metadata": {
  "kernelspec": {
   "display_name": "Python 2",
   "language": "python",
   "name": "python2"
  },
  "language_info": {
   "codemirror_mode": {
    "name": "ipython",
    "version": 2
   },
   "file_extension": ".py",
   "mimetype": "text/x-python",
   "name": "python",
   "nbconvert_exporter": "python",
   "pygments_lexer": "ipython2",
   "version": "2.7.10"
  }
 },
 "nbformat": 4,
 "nbformat_minor": 0
}
