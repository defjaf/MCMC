{
 "cells": [
  {
   "cell_type": "markdown",
   "metadata": {
    "deletable": true,
    "editable": true
   },
   "source": [
    "# pystan for subMM SEDs\n",
    "\n",
    "Notebook to use the [`stan`](http://mc-stan.org) sampler (with the [`pystan`](https://pystan.readthedocs.org/en/latest/) interface) to sample submm SED models.\n",
    "\n",
    "### Issues:\n",
    "\n",
    "* Can I use my getdist (or A Lewis') with this output?\n",
    "  * Yes: see `pystan2getdist`\n",
    "* how do I deal with the mixture model with \"duplicate\" parameters?\n",
    "  * currently using `positive ordered` vector of vector of temperatures\n",
    "  * seems to work *if* you add an explicit uniform(3,100) prior\n",
    "* Add optical-depth model -- *done*, but perhaps problems with parameterization?\n",
    "  * Yes: scale to fiducial $\\nu_0$, but this means likelihood is const. as $\\nu_0\\to\\infty$\n",
    "  * So require prior on $\\nu_0$, currently `exponential()` in $\\nu_0/1000$\n",
    "  \n",
    "### To do\n",
    "* hook up to SED plotting code\n",
    "  * Done -- required modifying pythoc code optical depth model\n",
    "  * can do more within pystan?\n",
    "* add $\\chi^2$ as a parameter? (add to `generated quantities`)"
   ]
  },
  {
   "cell_type": "code",
   "execution_count": 1,
   "metadata": {
    "collapsed": false,
    "deletable": true,
    "editable": true
   },
   "outputs": [
    {
     "name": "stdout",
     "output_type": "stream",
     "text": [
      "min Temp = 3.000000 K; max Temp = 100.000000 K\n",
      "min Temp = 3.000000 K; max Temp = 100.000000 K\n"
     ]
    },
    {
     "data": {
      "text/plain": [
       "<module 'MCMC.submmSED.model' from '/Users/jaffe/home/proj/stats/MCMC/MCMC/submmSED/model.pyc'>"
      ]
     },
     "execution_count": 1,
     "metadata": {},
     "output_type": "execute_result"
    }
   ],
   "source": [
    "from __future__ import print_function\n",
    "\n",
    "import os\n",
    "import sys\n",
    "import warnings\n",
    "\n",
    "## python 2/3 compatibility\n",
    "try:\n",
    "    import cPickle as pickle\n",
    "except ImportError:\n",
    "    import pickle\n",
    "import gzip\n",
    "try:\n",
    "    from importlib import reload\n",
    "except ImportError:\n",
    "    pass\n",
    "\n",
    "from six import iteritems\n",
    "\n",
    "import matplotlib.pyplot as plt\n",
    "import numpy as np\n",
    "import pystan\n",
    "import getdist\n",
    "import getdist.plots\n",
    "\n",
    "# sys.path.append(os.environ['HOME']+'/home/proj/stats/MCMC')\n",
    "\n",
    "#### code from my MCMC sampler\n",
    "from MCMC.submmSED import data      ## for reading data\n",
    "from MCMC.submmSED import model     ## needed for plotting SED models (duplicates some STAN code)\n",
    "\n",
    "from MCMC.submmSED import pystan_utils\n",
    "from MCMC.submmSED import pystan_submm\n",
    "\n",
    "%matplotlib inline\n",
    "\n",
    "do_pickle = False\n",
    "reload(getdist)\n",
    "reload(getdist.plots)\n",
    "reload(pystan_utils)\n",
    "reload(pystan_submm)\n",
    "reload(pystan_submm.model)"
   ]
  },
  {
   "cell_type": "markdown",
   "metadata": {
    "deletable": true,
    "editable": true
   },
   "source": [
    "## Read data"
   ]
  },
  {
   "cell_type": "code",
   "execution_count": 2,
   "metadata": {
    "collapsed": false,
    "deletable": true,
    "editable": true
   },
   "outputs": [],
   "source": [
    "import pkg_resources \n",
    "herus_file = pkg_resources.resource_filename(\"MCMC.submmSED\", \"dat/august6table.csv\")\n",
    "reload(data)\n",
    "d = data.readfluxes_DLC_2014(filename=herus_file)\n",
    "\n",
    "## convert to dictionary\n",
    "dat = dict((dobj.name, dobj) for dobj in d)"
   ]
  },
  {
   "cell_type": "markdown",
   "metadata": {
    "deletable": true,
    "editable": true
   },
   "source": [
    "## STAN code"
   ]
  },
  {
   "cell_type": "code",
   "execution_count": 3,
   "metadata": {
    "collapsed": true,
    "deletable": true,
    "editable": true
   },
   "outputs": [],
   "source": [
    "submm_data = \"\"\"\n",
    "    data {\n",
    "\n",
    "        int<lower=1> N_comp; // number of greybody components (fixed model parameter)\n",
    "\n",
    "        int<lower=1> N_band;   // number of photometric bands\n",
    "        vector[N_band] nu_obs; // observed frequency\n",
    "        vector[N_band] flux;   // observed flux\n",
    "        vector[N_band] sigma;  // error\n",
    "        real z;                // redshift\n",
    "\n",
    "    }\n",
    "    \n",
    "    transformed data {\n",
    "        vector[N_band] nu;     // rest frame frequency\n",
    "        nu = (1+z)*nu_obs;    // could do this outside of stan...\n",
    "    }\n",
    "    \n",
    "\"\"\"\n",
    "\n",
    "submm_functions = \"\"\"\n",
    "    functions {\n",
    "        \n",
    "        real greybody(real beta, real T, real nu) {\n",
    "          // greybody, normalized to unit flux at nu=nu_0\n",
    "            real h_over_k = 0.04799237;       //  K/Ghz\n",
    "            real nu_bar = 1000;\n",
    "            \n",
    "            real x = h_over_k * nu / T;\n",
    "            real x_bar = h_over_k * nu_bar / T;\n",
    "            \n",
    "            return (pow(nu/nu_bar, 3+beta) * expm1(x_bar) / expm1(x));\n",
    "        }\n",
    "    }\n",
    "\"\"\"\n",
    "\n",
    "submm_model_greybody_1 = \"\"\"\n",
    "    // single-component greybody -- not used\n",
    "    parameters {\n",
    "        real amplitude<lower=0.0>;\n",
    "        real T<lower=3, upper=100.0>; // Temperature in K\n",
    "        real beta<lower=0, upper=3>;  // greybody factor\n",
    "    }\n",
    "    \n",
    "    transformed parameters {\n",
    "        real totalflux<lower=0>[N_band];\n",
    "        for (band in 1:N_band)\n",
    "            totalflux[band] = amplitude * greybody(beta, T, nu[band])\n",
    "    }\n",
    "    \n",
    "    model {\n",
    "        // no explicit priors on parameters -- improper... \n",
    "        flux ~ normal(totalflux, sigma)\n",
    "    }\n",
    "    \n",
    "\"\"\"\n",
    "\n",
    "submm_model_greybody = \"\"\"\n",
    "    parameters {\n",
    "    // nb. N_comp, N_band are data\n",
    "//        vector[N_comp] log10amplitude;\n",
    "        vector<lower=0>[N_comp] amplitude;\n",
    "        positive_ordered[N_comp] T;\n",
    "        vector<lower=0, upper=3>[N_comp] beta;  // greybody factor    \n",
    "    }\n",
    "    \n",
    "// not used, since this is only needed if you want to keep track of these parameters.\n",
    "//    transformed parameters {\n",
    "//        real<lower=0> fluxes[N_band, N_comp];\n",
    "//        real<lower=0> totalflux[N_band];\n",
    "//        real<lower=0> amplitude[N_comp];\n",
    "//        \n",
    "//        for (comp in 1:N_comp)\n",
    "//            amplitude[comp] = pow(10.0, log10amplitude[comp]);\n",
    "//        \n",
    "//        for (band in 1:N_band) {\n",
    "//            for (comp in 1:N_comp) {  // vectorize over this?\n",
    "//                fluxes[band, comp] = amplitude[comp] * greybody(beta[comp], T[comp], nu[band]);\n",
    "//            }\n",
    "//           totalflux[band] = sum(fluxes[band]);\n",
    "//        }\n",
    "//    }\n",
    "    \n",
    "    model {\n",
    "        real fluxes[N_band, N_comp];\n",
    "        vector[N_band] totalflux;\n",
    "        \n",
    "        for (band in 1:N_band) {\n",
    "            for (comp in 1:N_comp) {  // vectorize over this?\n",
    "                fluxes[band, comp] = amplitude[comp] * greybody(beta[comp], T[comp], nu[band]);\n",
    "            }\n",
    "            totalflux[band] = sum(fluxes[band]);\n",
    "        }\n",
    "\n",
    "        // try a proper prior on temperature; needed since ordered vectors don't have limits\n",
    "        T ~ uniform(3,100);\n",
    "        flux ~ normal(totalflux, sigma);\n",
    "    }\n",
    "    \n",
    "\"\"\"\n",
    "\n",
    "\n",
    "submm_model_greybody_b2 = \"\"\"\n",
    "\n",
    "//// like submm_model_greybody, but with fixed beta=2 \n",
    "    parameters {\n",
    "    // nb. N_comp, N_band are data\n",
    "        vector<lower=0>[N_comp] amplitude;\n",
    "        positive_ordered[N_comp] T;\n",
    "    }\n",
    "\n",
    "    model {\n",
    "        real fluxes[N_band, N_comp];\n",
    "        vector[N_band] totalflux;\n",
    "\n",
    "        for (band in 1:N_band) {\n",
    "            for (comp in 1:N_comp) {\n",
    "                fluxes[band, comp] = amplitude[comp] * greybody(2.0, T[comp], nu[band]);\n",
    "            }\n",
    "            totalflux[band] = sum(fluxes[band]);\n",
    "        }\n",
    "\n",
    "        // try a proper prior on temperature; needed since ordered vectors don't have limits\n",
    "        T ~ uniform(3,100);\n",
    "        flux ~ normal(totalflux, sigma);\n",
    "    }\n",
    "    \n",
    "\"\"\"\n",
    "\n",
    "submm_model_optically_thick = \"\"\"\n",
    "    // model a submm SED as an optically-thick black body: flux = A (1-exp(-tau)) B_nu(T);  tau = (nu/nu0)^b\n",
    "    // for consistency, allow varying N_comp, but really fix N_comp=1\n",
    "    // since we typically have nu0~1000, scale that factor out to keep it O(1)\n",
    "    // normalize by (1-exp(-taubar)) -- this removes the degeneracy with amplitude, **but** means that\n",
    "    //      the likelihood is indep. of nu0 for nu0>>max(nu, nubar), so also give a prior on nu0.\n",
    "    parameters {\n",
    "    // nb. N_comp, N_band are data\n",
    "        vector<lower=0.0>[N_comp] amplitude;\n",
    "        positive_ordered[N_comp] T;\n",
    "        vector<lower=0.001, upper=1000.0>[N_comp] nu0;\n",
    "        vector<lower=0.0,upper=3.0>[N_comp] beta;\n",
    "    }\n",
    "    \n",
    "    model {\n",
    "        real fluxes[N_band, N_comp];\n",
    "        vector[N_band] totalflux;\n",
    "        real tau;\n",
    "        real tau_bar;\n",
    "        real nu0_norm;        \n",
    "        real nu_bar = 1000;  // to remove degen. with amplitude. Should be as in the greybody definition.\n",
    "\n",
    "        for (band in 1:N_band) {\n",
    "            for (comp in 1:N_comp) {\n",
    "                nu0_norm = 1000.0*nu0[comp];\n",
    "                tau = pow(nu[band]/nu0_norm, beta[comp]);\n",
    "                tau_bar = pow(nu_bar/nu0_norm, beta[comp]);\n",
    "                fluxes[band, comp] = amplitude[comp] *(expm1(-tau)/expm1(-tau_bar)) * greybody(0.0, T[comp], nu[band]);\n",
    "            }\n",
    "            totalflux[band] = sum(fluxes[band]);\n",
    "        }\n",
    "\n",
    "        // try a proper prior on temperature; needed since ordered vectors don't have limits\n",
    "        T ~ uniform(3,100);\n",
    "//        nu0 ~ normal(1,3);\n",
    "        nu0 ~ exponential(1.0/3.0);\n",
    "        flux ~ normal(totalflux, sigma);\n",
    "    }\n",
    "    \n",
    "\"\"\""
   ]
  },
  {
   "cell_type": "code",
   "execution_count": 4,
   "metadata": {
    "collapsed": false,
    "deletable": true,
    "editable": true
   },
   "outputs": [
    {
     "name": "stderr",
     "output_type": "stream",
     "text": [
      "INFO:pystan:COMPILING THE C++ CODE FOR MODEL greybody_0fad9fc64c92260ba395a2e1131309d2 NOW.\n"
     ]
    },
    {
     "ename": "KeyboardInterrupt",
     "evalue": "",
     "output_type": "error",
     "traceback": [
      "\u001b[0;31m---------------------------------------------------------------------------\u001b[0m",
      "\u001b[0;31mKeyboardInterrupt\u001b[0m                         Traceback (most recent call last)",
      "\u001b[0;32m<ipython-input-4-30677a8213b2>\u001b[0m in \u001b[0;36m<module>\u001b[0;34m()\u001b[0m\n\u001b[1;32m     14\u001b[0m         \u001b[0mgreybody_thick_model\u001b[0m \u001b[0;34m=\u001b[0m \u001b[0mpickle\u001b[0m\u001b[0;34m.\u001b[0m\u001b[0mload\u001b[0m\u001b[0;34m(\u001b[0m\u001b[0mf\u001b[0m\u001b[0;34m)\u001b[0m\u001b[0;34m\u001b[0m\u001b[0m\n\u001b[1;32m     15\u001b[0m \u001b[0;32melse\u001b[0m\u001b[0;34m:\u001b[0m\u001b[0;34m\u001b[0m\u001b[0m\n\u001b[0;32m---> 16\u001b[0;31m     \u001b[0mgreybody_model\u001b[0m \u001b[0;34m=\u001b[0m \u001b[0mpystan\u001b[0m\u001b[0;34m.\u001b[0m\u001b[0mStanModel\u001b[0m\u001b[0;34m(\u001b[0m\u001b[0mmodel_code\u001b[0m\u001b[0;34m=\u001b[0m\u001b[0mgreybody_code\u001b[0m\u001b[0;34m,\u001b[0m \u001b[0mmodel_name\u001b[0m\u001b[0;34m=\u001b[0m\u001b[0;34m\"greybody\"\u001b[0m\u001b[0;34m)\u001b[0m\u001b[0;34m\u001b[0m\u001b[0m\n\u001b[0m\u001b[1;32m     17\u001b[0m     \u001b[0mgreybody_b2_model\u001b[0m \u001b[0;34m=\u001b[0m \u001b[0mpystan\u001b[0m\u001b[0;34m.\u001b[0m\u001b[0mStanModel\u001b[0m\u001b[0;34m(\u001b[0m\u001b[0mmodel_code\u001b[0m\u001b[0;34m=\u001b[0m\u001b[0mgreybody_b2_code\u001b[0m\u001b[0;34m,\u001b[0m \u001b[0mmodel_name\u001b[0m\u001b[0;34m=\u001b[0m\u001b[0;34m\"greybody_beta2\"\u001b[0m\u001b[0;34m)\u001b[0m\u001b[0;34m\u001b[0m\u001b[0m\n\u001b[1;32m     18\u001b[0m     \u001b[0mgreybody_thick_model\u001b[0m \u001b[0;34m=\u001b[0m \u001b[0mpystan\u001b[0m\u001b[0;34m.\u001b[0m\u001b[0mStanModel\u001b[0m\u001b[0;34m(\u001b[0m\u001b[0mmodel_code\u001b[0m\u001b[0;34m=\u001b[0m\u001b[0mgreybody_thick_code\u001b[0m\u001b[0;34m,\u001b[0m \u001b[0mmodel_name\u001b[0m\u001b[0;34m=\u001b[0m\u001b[0;34m\"greybody_thick\"\u001b[0m\u001b[0;34m)\u001b[0m\u001b[0;34m\u001b[0m\u001b[0m\n",
      "\u001b[0;32m/Library/Frameworks/Python.framework/Versions/2.7/lib/python2.7/site-packages/pystan/model.pyc\u001b[0m in \u001b[0;36m__init__\u001b[0;34m(self, file, charset, model_name, model_code, stanc_ret, boost_lib, eigen_lib, verbose, obfuscate_model_name, extra_compile_args)\u001b[0m\n\u001b[1;32m    307\u001b[0m \u001b[0;34m\u001b[0m\u001b[0m\n\u001b[1;32m    308\u001b[0m         \u001b[0;32mtry\u001b[0m\u001b[0;34m:\u001b[0m\u001b[0;34m\u001b[0m\u001b[0m\n\u001b[0;32m--> 309\u001b[0;31m             \u001b[0mbuild_extension\u001b[0m\u001b[0;34m.\u001b[0m\u001b[0mrun\u001b[0m\u001b[0;34m(\u001b[0m\u001b[0;34m)\u001b[0m\u001b[0;34m\u001b[0m\u001b[0m\n\u001b[0m\u001b[1;32m    310\u001b[0m         \u001b[0;32mfinally\u001b[0m\u001b[0;34m:\u001b[0m\u001b[0;34m\u001b[0m\u001b[0m\n\u001b[1;32m    311\u001b[0m             \u001b[0;32mif\u001b[0m \u001b[0mredirect_stderr\u001b[0m\u001b[0;34m:\u001b[0m\u001b[0;34m\u001b[0m\u001b[0m\n",
      "\u001b[0;32m/Library/Frameworks/Python.framework/Versions/2.7/lib/python2.7/distutils/command/build_ext.pyc\u001b[0m in \u001b[0;36mrun\u001b[0;34m(self)\u001b[0m\n\u001b[1;32m    338\u001b[0m \u001b[0;34m\u001b[0m\u001b[0m\n\u001b[1;32m    339\u001b[0m         \u001b[0;31m# Now actually compile and link everything.\u001b[0m\u001b[0;34m\u001b[0m\u001b[0;34m\u001b[0m\u001b[0m\n\u001b[0;32m--> 340\u001b[0;31m         \u001b[0mself\u001b[0m\u001b[0;34m.\u001b[0m\u001b[0mbuild_extensions\u001b[0m\u001b[0;34m(\u001b[0m\u001b[0;34m)\u001b[0m\u001b[0;34m\u001b[0m\u001b[0m\n\u001b[0m\u001b[1;32m    341\u001b[0m \u001b[0;34m\u001b[0m\u001b[0m\n\u001b[1;32m    342\u001b[0m     \u001b[0;32mdef\u001b[0m \u001b[0mcheck_extensions_list\u001b[0m\u001b[0;34m(\u001b[0m\u001b[0mself\u001b[0m\u001b[0;34m,\u001b[0m \u001b[0mextensions\u001b[0m\u001b[0;34m)\u001b[0m\u001b[0;34m:\u001b[0m\u001b[0;34m\u001b[0m\u001b[0m\n",
      "\u001b[0;32m/Library/Frameworks/Python.framework/Versions/2.7/lib/python2.7/distutils/command/build_ext.pyc\u001b[0m in \u001b[0;36mbuild_extensions\u001b[0;34m(self)\u001b[0m\n\u001b[1;32m    447\u001b[0m \u001b[0;34m\u001b[0m\u001b[0m\n\u001b[1;32m    448\u001b[0m         \u001b[0;32mfor\u001b[0m \u001b[0mext\u001b[0m \u001b[0;32min\u001b[0m \u001b[0mself\u001b[0m\u001b[0;34m.\u001b[0m\u001b[0mextensions\u001b[0m\u001b[0;34m:\u001b[0m\u001b[0;34m\u001b[0m\u001b[0m\n\u001b[0;32m--> 449\u001b[0;31m             \u001b[0mself\u001b[0m\u001b[0;34m.\u001b[0m\u001b[0mbuild_extension\u001b[0m\u001b[0;34m(\u001b[0m\u001b[0mext\u001b[0m\u001b[0;34m)\u001b[0m\u001b[0;34m\u001b[0m\u001b[0m\n\u001b[0m\u001b[1;32m    450\u001b[0m \u001b[0;34m\u001b[0m\u001b[0m\n\u001b[1;32m    451\u001b[0m     \u001b[0;32mdef\u001b[0m \u001b[0mbuild_extension\u001b[0m\u001b[0;34m(\u001b[0m\u001b[0mself\u001b[0m\u001b[0;34m,\u001b[0m \u001b[0mext\u001b[0m\u001b[0;34m)\u001b[0m\u001b[0;34m:\u001b[0m\u001b[0;34m\u001b[0m\u001b[0m\n",
      "\u001b[0;32m/Library/Frameworks/Python.framework/Versions/2.7/lib/python2.7/distutils/command/build_ext.pyc\u001b[0m in \u001b[0;36mbuild_extension\u001b[0;34m(self, ext)\u001b[0m\n\u001b[1;32m    497\u001b[0m                                          \u001b[0mdebug\u001b[0m\u001b[0;34m=\u001b[0m\u001b[0mself\u001b[0m\u001b[0;34m.\u001b[0m\u001b[0mdebug\u001b[0m\u001b[0;34m,\u001b[0m\u001b[0;34m\u001b[0m\u001b[0m\n\u001b[1;32m    498\u001b[0m                                          \u001b[0mextra_postargs\u001b[0m\u001b[0;34m=\u001b[0m\u001b[0mextra_args\u001b[0m\u001b[0;34m,\u001b[0m\u001b[0;34m\u001b[0m\u001b[0m\n\u001b[0;32m--> 499\u001b[0;31m                                          depends=ext.depends)\n\u001b[0m\u001b[1;32m    500\u001b[0m \u001b[0;34m\u001b[0m\u001b[0m\n\u001b[1;32m    501\u001b[0m         \u001b[0;31m# XXX -- this is a Vile HACK!\u001b[0m\u001b[0;34m\u001b[0m\u001b[0;34m\u001b[0m\u001b[0m\n",
      "\u001b[0;32m/Library/Frameworks/Python.framework/Versions/2.7/lib/python2.7/distutils/ccompiler.pyc\u001b[0m in \u001b[0;36mcompile\u001b[0;34m(self, sources, output_dir, macros, include_dirs, debug, extra_preargs, extra_postargs, depends)\u001b[0m\n\u001b[1;32m    572\u001b[0m             \u001b[0;32mexcept\u001b[0m \u001b[0mKeyError\u001b[0m\u001b[0;34m:\u001b[0m\u001b[0;34m\u001b[0m\u001b[0m\n\u001b[1;32m    573\u001b[0m                 \u001b[0;32mcontinue\u001b[0m\u001b[0;34m\u001b[0m\u001b[0m\n\u001b[0;32m--> 574\u001b[0;31m             \u001b[0mself\u001b[0m\u001b[0;34m.\u001b[0m\u001b[0m_compile\u001b[0m\u001b[0;34m(\u001b[0m\u001b[0mobj\u001b[0m\u001b[0;34m,\u001b[0m \u001b[0msrc\u001b[0m\u001b[0;34m,\u001b[0m \u001b[0mext\u001b[0m\u001b[0;34m,\u001b[0m \u001b[0mcc_args\u001b[0m\u001b[0;34m,\u001b[0m \u001b[0mextra_postargs\u001b[0m\u001b[0;34m,\u001b[0m \u001b[0mpp_opts\u001b[0m\u001b[0;34m)\u001b[0m\u001b[0;34m\u001b[0m\u001b[0m\n\u001b[0m\u001b[1;32m    575\u001b[0m \u001b[0;34m\u001b[0m\u001b[0m\n\u001b[1;32m    576\u001b[0m         \u001b[0;31m# Return *all* object filenames, not just the ones we just built.\u001b[0m\u001b[0;34m\u001b[0m\u001b[0;34m\u001b[0m\u001b[0m\n",
      "\u001b[0;32m/Library/Frameworks/Python.framework/Versions/2.7/lib/python2.7/distutils/unixccompiler.pyc\u001b[0m in \u001b[0;36m_compile\u001b[0;34m(self, obj, src, ext, cc_args, extra_postargs, pp_opts)\u001b[0m\n\u001b[1;32m    120\u001b[0m         \u001b[0;32mtry\u001b[0m\u001b[0;34m:\u001b[0m\u001b[0;34m\u001b[0m\u001b[0m\n\u001b[1;32m    121\u001b[0m             self.spawn(compiler_so + cc_args + [src, '-o', obj] +\n\u001b[0;32m--> 122\u001b[0;31m                        extra_postargs)\n\u001b[0m\u001b[1;32m    123\u001b[0m         \u001b[0;32mexcept\u001b[0m \u001b[0mDistutilsExecError\u001b[0m\u001b[0;34m,\u001b[0m \u001b[0mmsg\u001b[0m\u001b[0;34m:\u001b[0m\u001b[0;34m\u001b[0m\u001b[0m\n\u001b[1;32m    124\u001b[0m             \u001b[0;32mraise\u001b[0m \u001b[0mCompileError\u001b[0m\u001b[0;34m,\u001b[0m \u001b[0mmsg\u001b[0m\u001b[0;34m\u001b[0m\u001b[0m\n",
      "\u001b[0;32m/Library/Frameworks/Python.framework/Versions/2.7/lib/python2.7/distutils/ccompiler.pyc\u001b[0m in \u001b[0;36mspawn\u001b[0;34m(self, cmd)\u001b[0m\n\u001b[1;32m    874\u001b[0m \u001b[0;34m\u001b[0m\u001b[0m\n\u001b[1;32m    875\u001b[0m     \u001b[0;32mdef\u001b[0m \u001b[0mspawn\u001b[0m\u001b[0;34m(\u001b[0m\u001b[0mself\u001b[0m\u001b[0;34m,\u001b[0m \u001b[0mcmd\u001b[0m\u001b[0;34m)\u001b[0m\u001b[0;34m:\u001b[0m\u001b[0;34m\u001b[0m\u001b[0m\n\u001b[0;32m--> 876\u001b[0;31m         \u001b[0mspawn\u001b[0m\u001b[0;34m(\u001b[0m\u001b[0mcmd\u001b[0m\u001b[0;34m,\u001b[0m \u001b[0mdry_run\u001b[0m\u001b[0;34m=\u001b[0m\u001b[0mself\u001b[0m\u001b[0;34m.\u001b[0m\u001b[0mdry_run\u001b[0m\u001b[0;34m)\u001b[0m\u001b[0;34m\u001b[0m\u001b[0m\n\u001b[0m\u001b[1;32m    877\u001b[0m \u001b[0;34m\u001b[0m\u001b[0m\n\u001b[1;32m    878\u001b[0m     \u001b[0;32mdef\u001b[0m \u001b[0mmove_file\u001b[0m\u001b[0;34m(\u001b[0m\u001b[0mself\u001b[0m\u001b[0;34m,\u001b[0m \u001b[0msrc\u001b[0m\u001b[0;34m,\u001b[0m \u001b[0mdst\u001b[0m\u001b[0;34m)\u001b[0m\u001b[0;34m:\u001b[0m\u001b[0;34m\u001b[0m\u001b[0m\n",
      "\u001b[0;32m/Library/Frameworks/Python.framework/Versions/2.7/lib/python2.7/distutils/spawn.pyc\u001b[0m in \u001b[0;36mspawn\u001b[0;34m(cmd, search_path, verbose, dry_run)\u001b[0m\n\u001b[1;32m     36\u001b[0m     \u001b[0mcmd\u001b[0m \u001b[0;34m=\u001b[0m \u001b[0mlist\u001b[0m\u001b[0;34m(\u001b[0m\u001b[0mcmd\u001b[0m\u001b[0;34m)\u001b[0m\u001b[0;34m\u001b[0m\u001b[0m\n\u001b[1;32m     37\u001b[0m     \u001b[0;32mif\u001b[0m \u001b[0mos\u001b[0m\u001b[0;34m.\u001b[0m\u001b[0mname\u001b[0m \u001b[0;34m==\u001b[0m \u001b[0;34m'posix'\u001b[0m\u001b[0;34m:\u001b[0m\u001b[0;34m\u001b[0m\u001b[0m\n\u001b[0;32m---> 38\u001b[0;31m         \u001b[0m_spawn_posix\u001b[0m\u001b[0;34m(\u001b[0m\u001b[0mcmd\u001b[0m\u001b[0;34m,\u001b[0m \u001b[0msearch_path\u001b[0m\u001b[0;34m,\u001b[0m \u001b[0mdry_run\u001b[0m\u001b[0;34m=\u001b[0m\u001b[0mdry_run\u001b[0m\u001b[0;34m)\u001b[0m\u001b[0;34m\u001b[0m\u001b[0m\n\u001b[0m\u001b[1;32m     39\u001b[0m     \u001b[0;32melif\u001b[0m \u001b[0mos\u001b[0m\u001b[0;34m.\u001b[0m\u001b[0mname\u001b[0m \u001b[0;34m==\u001b[0m \u001b[0;34m'nt'\u001b[0m\u001b[0;34m:\u001b[0m\u001b[0;34m\u001b[0m\u001b[0m\n\u001b[1;32m     40\u001b[0m         \u001b[0m_spawn_nt\u001b[0m\u001b[0;34m(\u001b[0m\u001b[0mcmd\u001b[0m\u001b[0;34m,\u001b[0m \u001b[0msearch_path\u001b[0m\u001b[0;34m,\u001b[0m \u001b[0mdry_run\u001b[0m\u001b[0;34m=\u001b[0m\u001b[0mdry_run\u001b[0m\u001b[0;34m)\u001b[0m\u001b[0;34m\u001b[0m\u001b[0m\n",
      "\u001b[0;32m/Library/Frameworks/Python.framework/Versions/2.7/lib/python2.7/distutils/spawn.pyc\u001b[0m in \u001b[0;36m_spawn_posix\u001b[0;34m(cmd, search_path, verbose, dry_run)\u001b[0m\n\u001b[1;32m    165\u001b[0m         \u001b[0;32mwhile\u001b[0m \u001b[0;36m1\u001b[0m\u001b[0;34m:\u001b[0m\u001b[0;34m\u001b[0m\u001b[0m\n\u001b[1;32m    166\u001b[0m             \u001b[0;32mtry\u001b[0m\u001b[0;34m:\u001b[0m\u001b[0;34m\u001b[0m\u001b[0m\n\u001b[0;32m--> 167\u001b[0;31m                 \u001b[0mpid\u001b[0m\u001b[0;34m,\u001b[0m \u001b[0mstatus\u001b[0m \u001b[0;34m=\u001b[0m \u001b[0mos\u001b[0m\u001b[0;34m.\u001b[0m\u001b[0mwaitpid\u001b[0m\u001b[0;34m(\u001b[0m\u001b[0mpid\u001b[0m\u001b[0;34m,\u001b[0m \u001b[0;36m0\u001b[0m\u001b[0;34m)\u001b[0m\u001b[0;34m\u001b[0m\u001b[0m\n\u001b[0m\u001b[1;32m    168\u001b[0m             \u001b[0;32mexcept\u001b[0m \u001b[0mOSError\u001b[0m\u001b[0;34m,\u001b[0m \u001b[0mexc\u001b[0m\u001b[0;34m:\u001b[0m\u001b[0;34m\u001b[0m\u001b[0m\n\u001b[1;32m    169\u001b[0m                 \u001b[0;32mimport\u001b[0m \u001b[0merrno\u001b[0m\u001b[0;34m\u001b[0m\u001b[0m\n",
      "\u001b[0;31mKeyboardInterrupt\u001b[0m: "
     ]
    }
   ],
   "source": [
    "pickle_models=True\n",
    "get_pickled_models = False\n",
    "\n",
    "greybody_code = submm_functions + submm_data + submm_model_greybody\n",
    "greybody_b2_code = submm_functions + submm_data + submm_model_greybody_b2\n",
    "greybody_thick_code = submm_functions + submm_data + submm_model_optically_thick\n",
    "\n",
    "if get_pickled_models:\n",
    "    with gzip.open(\"greybody_model_stan.pkl.gz\", \"rb\") as f:\n",
    "        greybody_model = pickle.load(f)\n",
    "    with gzip.open(\"greybody_b2_model_stan.pkl.gz\", \"rb\") as f:\n",
    "        greybody_b2_model = pickle.load(f)\n",
    "    with gzip.open(\"greybody_thick_model_stan.pkl.gz\", \"rb\") as f:\n",
    "        greybody_thick_model = pickle.load(f)\n",
    "else:\n",
    "    greybody_model = pystan.StanModel(model_code=greybody_code, model_name=\"greybody\")\n",
    "    greybody_b2_model = pystan.StanModel(model_code=greybody_b2_code, model_name=\"greybody_beta2\")\n",
    "    greybody_thick_model = pystan.StanModel(model_code=greybody_thick_code, model_name=\"greybody_thick\")\n",
    "\n",
    "if pickle_models:\n",
    "    with gzip.open(\"greybody_model_stan.pkl.gz\", \"wb\") as f:\n",
    "        pickle.dump(greybody_model, f)\n",
    "    with gzip.open(\"greybody_b2_model_stan.pkl.gz\", \"wb\") as f:\n",
    "        pickle.dump(greybody_b2_model, f)\n",
    "    with gzip.open(\"greybody_thick_model_stan.pkl.gz\", \"wb\") as f:\n",
    "        pickle.dump(greybody_thick_model, f)\n",
    "\n"
   ]
  },
  {
   "cell_type": "code",
   "execution_count": null,
   "metadata": {
    "collapsed": true,
    "deletable": true,
    "editable": true
   },
   "outputs": [],
   "source": [
    "def pystan_process(dat, models=range(5), niter=4000, nchains=4):\n",
    "    \"\"\"\n",
    "    process my submm MCMC data with pystan. Requires pystan code currently defined and compiled in the python notebook\n",
    "    \"\"\"\n",
    "\n",
    "## the try/except are for catching printing problems that \n",
    "##     manifest when an unbounded parameter wanders off to infinity (fixed by T~uniform(3,100))\n",
    "### order is 1comp, 2comp, 1compb2, 2compb2, thick -- only do those models in the iterable \"models\"\n",
    "\n",
    "    allfits = {}\n",
    "    with warnings.catch_warnings():\n",
    "        warnings.filterwarnings('ignore')\n",
    "        for name, dobj in iteritems(dat):\n",
    "            imodel=0\n",
    "            assert name==dobj.name\n",
    "            print(\"=============\"+dobj.name+\"=============\")\n",
    "            allfits[dobj.name] = []\n",
    "            for n_comp in (1,2):\n",
    "                if imodel in models:\n",
    "                    fit_beta = greybody_model.sampling(data=pystan_utils.makeStanDict(dobj, N_comp=n_comp),\n",
    "                                             iter=niter, chains=nchains)\n",
    "                    allfits[dobj.name].append(fit_beta)\n",
    "                    try:\n",
    "                        sfit=str(fit_beta)\n",
    "                        print(sfit[:sfit.find(\"Samples were drawn\")-1])\n",
    "                    except OverflowError:\n",
    "                        print(\"***** Can't print! %s %d unconstrained beta ******\" % (dobj.name, n_comp))\n",
    "                        print(fit_beta.summary())\n",
    "                imodel += 1\n",
    "\n",
    "            for n_comp in (1,2):\n",
    "                if imodel in models:\n",
    "                    fit_b2 = greybody_b2_model.sampling(data=pystan_utils.makeStanDict(dobj, N_comp=n_comp),\n",
    "                                                 iter=niter, chains=nchains)\n",
    "                    allfits[dobj.name].append(fit_b2)\n",
    "                    try:\n",
    "                        sfit=str(fit_b2)\n",
    "                        print(sfit[:sfit.find(\"Samples were drawn\")-1])\n",
    "                    except OverflowError:\n",
    "                        print(\"***** Can't print! %s %d beta=2 ******\"  % (dobj.name, n_comp))\n",
    "                        print(fit_b2.summary())\n",
    "                imodel += 1\n",
    "\n",
    "            if imodel in models:\n",
    "                fit_thick = greybody_thick_model.sampling(data=pystan_utils.makeStanDict(dobj, N_comp=1),\n",
    "                                                iter=niter, chains=nchains)\n",
    "                allfits[dobj.name].append(fit_thick)\n",
    "                try:\n",
    "                    sfit=str(fit_thick)\n",
    "                    print(sfit[:sfit.find(\"Samples were drawn\")-1])\n",
    "                except OverflowError:\n",
    "                    print(\"***** Can't print! %s %d optically thick ******\" % (dobj.name, 1))\n",
    "                    print(fit_thick.summary())\n",
    "            imodel += 1\n",
    "    return allfits"
   ]
  },
  {
   "cell_type": "markdown",
   "metadata": {
    "deletable": true,
    "editable": true
   },
   "source": [
    "## test on small number of objects and model"
   ]
  },
  {
   "cell_type": "code",
   "execution_count": null,
   "metadata": {
    "collapsed": false,
    "deletable": true,
    "editable": true
   },
   "outputs": [],
   "source": [
    "allfits = {}\n",
    "# IRAS14348-1447 IRAS20087-0308 IRAS20414-1651 IRAS00188-0856 IRAS09022-3615\n",
    "\n",
    "iter = 4000\n",
    "chains = 4\n",
    "\n",
    "for objname in (\"IRAS14348-1447\", \"IRAS20087-0308\", \"IRAS20414-1651\", \"IRAS00188-0856\", \"IRAS09022-3615\"):\n",
    "    print(objname)\n",
    "    assert dat[objname].name == objname\n",
    "\n",
    "    with warnings.catch_warnings():\n",
    "        warnings.filterwarnings('ignore')\n",
    "        fit_1comp = greybody_model.sampling(data=pystan_utils.makeStanDict(dat[objname], N_comp=1),\n",
    "                      iter=iter, chains=chains)\n",
    "        fit_2comp = greybody_model.sampling(data=pystan_utils.makeStanDict(dat[objname], N_comp=2),\n",
    "                      iter=iter, chains=chains)\n",
    "\n",
    "        fit_1comp_b2 = greybody_b2_model.sampling(data=pystan_utils.makeStanDict(dat[objname], N_comp=1),\n",
    "                      iter=iter, chains=chains)\n",
    "        fit_2comp_b2 = greybody_b2_model.sampling(data=pystan_utils.makeStanDict(dat[objname], N_comp=2),\n",
    "                      iter=iter, chains=chains)\n",
    "\n",
    "        fit_thick = greybody_thick_model.sampling(data=pystan_utils.makeStanDict(dat[objname], N_comp=1),\n",
    "                      iter=4000, chains=4)\n",
    "    \n",
    "    allfits[objname]=(fit_1comp, fit_2comp, fit_1comp_b2, fit_2comp_b2, fit_thick) "
   ]
  },
  {
   "cell_type": "code",
   "execution_count": null,
   "metadata": {
    "collapsed": false,
    "deletable": true,
    "editable": true
   },
   "outputs": [],
   "source": [
    "for objname, fits in iteritems(allfits):\n",
    "    print(objname)\n",
    "    for fit in fits:\n",
    "#         print(fit.extract(permuted=True).keys())\n",
    "#         print(fit.extract(permuted=False).shape)\n",
    "#         print(fit.model_pars)\n",
    "#         print(fit.extract(permuted=True)['amplitude'].shape)\n",
    "        # print([a.shape for a in fit.extract(permuted=True)['amplitude'].T])\n",
    "        sfit=str(fit)\n",
    "        print(sfit[:sfit.find(\"Samples were drawn\")-1])  ## delete some useless verbiage\n",
    "        fit.plot()\n",
    "        gd1 = pystan_utils.pystan2getdist(fit)\n",
    "        g = getdist.plots.getSubplotPlotter()\n",
    "        g.triangle_plot(gd1)"
   ]
  },
  {
   "cell_type": "code",
   "execution_count": null,
   "metadata": {
    "collapsed": false,
    "deletable": true,
    "editable": true
   },
   "outputs": [],
   "source": [
    "gd1 = pystan_utils.pystan2getdist(fit)\n",
    "g=getdist.plots.getSubplotPlotter()"
   ]
  },
  {
   "cell_type": "code",
   "execution_count": null,
   "metadata": {
    "collapsed": false,
    "deletable": true,
    "editable": true,
    "scrolled": true
   },
   "outputs": [],
   "source": [
    "labs = (\"1 comp\", \"2 comp\", r\"1 $\\beta=2$\", r\"2 $\\beta=2$\", \"thick\")\n",
    "for objname, fits in iteritems(allfits):\n",
    "    first = True\n",
    "    for fit, lab in zip(fits, labs):\n",
    "        pystan_submm.plot_pystan(dat[objname], fit, label=lab, first=first)\n",
    "        first = False\n",
    "    plt.title(objname)\n",
    "    plt.legend(loc='best')\n",
    "    plt.figure()"
   ]
  },
  {
   "cell_type": "markdown",
   "metadata": {
    "deletable": true,
    "editable": true
   },
   "source": [
    "## Loop over all models and objects -- Dave & Michelle data"
   ]
  },
  {
   "cell_type": "code",
   "execution_count": null,
   "metadata": {
    "collapsed": false,
    "deletable": true,
    "editable": true
   },
   "outputs": [],
   "source": [
    "allfits = pystan_process(dat)\n",
    "# allfits = pystan_process(dat1)"
   ]
  },
  {
   "cell_type": "markdown",
   "metadata": {
    "deletable": true,
    "editable": true
   },
   "source": [
    "### Postprocessing"
   ]
  },
  {
   "cell_type": "code",
   "execution_count": null,
   "metadata": {
    "collapsed": false,
    "deletable": true,
    "editable": true
   },
   "outputs": [],
   "source": [
    "if do_pickle:\n",
    "    with gzip.open(\"greybody_fits_stan.pkl.gz\", \"wb\") as f:\n",
    "        pickle.dump(allfits, f)"
   ]
  },
  {
   "cell_type": "code",
   "execution_count": null,
   "metadata": {
    "collapsed": false,
    "deletable": true,
    "editable": true
   },
   "outputs": [],
   "source": [
    "# pystan_utils.pystan_postprocess_text(allfits, \"pystan_greybody_DLC.out\")\n",
    "pystan_utils.pystan_postprocess_text(allfits, \"pystan_greybody_DLC.out\")"
   ]
  },
  {
   "cell_type": "code",
   "execution_count": null,
   "metadata": {
    "collapsed": false,
    "deletable": true,
    "editable": true
   },
   "outputs": [],
   "source": [
    "gds = pystan_utils.pystan_postprocess_togetdist(allfits, texdict=pystan_utils.texdict, do_pickle=do_pickle)\n",
    "# with gzip.open(\"greybody_getdist.pkl.gz\", \"rb\") as f:\n",
    "#     gds = pickle.load(f)"
   ]
  },
  {
   "cell_type": "code",
   "execution_count": null,
   "metadata": {
    "collapsed": false,
    "deletable": true,
    "editable": true
   },
   "outputs": [],
   "source": [
    "pystan_utils.pystan_postprocess_getdist_plot(gds)"
   ]
  },
  {
   "cell_type": "code",
   "execution_count": null,
   "metadata": {
    "collapsed": false,
    "deletable": true,
    "editable": true
   },
   "outputs": [],
   "source": [
    "pystan_submm.pystan_postprocess_SED_plot(allfits, dat)"
   ]
  },
  {
   "cell_type": "code",
   "execution_count": null,
   "metadata": {
    "collapsed": false,
    "deletable": true,
    "editable": true
   },
   "outputs": [],
   "source": [
    "dat = dat1\n",
    "pystan_utils.pystan_postprocess_csv(allfits, dat, label=\"DLC1_\")"
   ]
  },
  {
   "cell_type": "markdown",
   "metadata": {
    "collapsed": true,
    "deletable": true,
    "editable": true
   },
   "source": [
    "## all objects -- DLC Dec 2015 data"
   ]
  },
  {
   "cell_type": "code",
   "execution_count": null,
   "metadata": {
    "collapsed": false,
    "deletable": true,
    "editable": true
   },
   "outputs": [],
   "source": [
    "files = [\"./dat/herus_phot.dat\",  \"./dat/magdis_ulirgs.dat\"]\n",
    "d = []\n",
    "for f in files:\n",
    "    d.extend(data.readfluxes_DLC_2014(filename=f, getArp220=False))\n",
    "\n",
    "## convert to dictionary\n",
    "dat = dict((dobj.name, dobj) for dobj in d)"
   ]
  },
  {
   "cell_type": "code",
   "execution_count": null,
   "metadata": {
    "collapsed": false,
    "deletable": true,
    "editable": true
   },
   "outputs": [],
   "source": [
    "allfits_1215 = pystan_process(dat, models=[0,], niter=100000)\n",
    "if do_pickle:\n",
    "    with gzip.open(\"greybody_fits_stan_DLC_1215.pkl.gz\", \"wb\") as f:\n",
    "        pickle.dump(allfits_1215, f)"
   ]
  },
  {
   "cell_type": "code",
   "execution_count": null,
   "metadata": {
    "collapsed": false,
    "deletable": true,
    "editable": true
   },
   "outputs": [],
   "source": [
    "gds = pystan_utils.pystan_postprocess_togetdist(allfits_1215)\n",
    "pystan_utils.pystan_postprocess_getdist_plot(gds, label=\"DLC_1215\")"
   ]
  },
  {
   "cell_type": "code",
   "execution_count": null,
   "metadata": {
    "collapsed": false,
    "deletable": true,
    "editable": true
   },
   "outputs": [],
   "source": [
    "pystan_submm.pystan_postprocess_SED_plot(allfits_1215, dat, label=\"DLC_1215\")"
   ]
  }
 ],
 "metadata": {
  "kernelspec": {
   "display_name": "Python 2",
   "language": "python",
   "name": "python2"
  },
  "language_info": {
   "codemirror_mode": {
    "name": "ipython",
    "version": 2
   },
   "file_extension": ".py",
   "mimetype": "text/x-python",
   "name": "python",
   "nbconvert_exporter": "python",
   "pygments_lexer": "ipython2",
   "version": "2.7.13"
  },
  "latex_envs": {
   "LaTeX_envs_menu_present": true,
   "autocomplete": true,
   "bibliofile": "biblio.bib",
   "cite_by": "apalike",
   "current_citInitial": 1,
   "eqLabelWithNumbers": true,
   "eqNumInitial": 1,
   "hotkeys": {
    "equation": "Ctrl-E",
    "itemize": "Ctrl-I"
   },
   "labels_anchors": false,
   "latex_user_defs": false,
   "report_style_numbering": false,
   "user_envs_cfg": false
  }
 },
 "nbformat": 4,
 "nbformat_minor": 0
}
